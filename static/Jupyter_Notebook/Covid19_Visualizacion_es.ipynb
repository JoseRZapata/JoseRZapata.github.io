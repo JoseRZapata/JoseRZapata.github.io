{
  "nbformat": 4,
  "nbformat_minor": 0,
  "metadata": {
    "colab": {
      "name": "Covid19_Visualizacion_v3.ipynb",
      "provenance": [],
      "collapsed_sections": []
    },
    "kernelspec": {
      "name": "python3",
      "display_name": "Python 3"
    }
  },
  "cells": [
    {
      "cell_type": "markdown",
      "metadata": {
        "id": "AVfznQKR-I--",
        "colab_type": "text"
      },
      "source": [
        "# Visualizacion del Coronavirus (COVID19) Mundial con plotly\n",
        "por: Jose R. Zapata - https://joserzapata.github.io/\n",
        "\n",
        "\n",
        "Link: https://joserzapata.github.io/post/covid19-visualizacion/\n",
        "\n",
        "He visto en las redes sociales varias visualizaciones de los datos del COVID 19 y queria realizarlos en Python para tener la actualizacion de las graficas\n",
        "actualizadas cada dia, y ademas practicar el uso de [plotly](https://plotly.com/) para visualizacion interactiva.\n",
        "\n",
        "Las Graficas se actualizaran diariamente con los nuevos datos!\n",
        "\n",
        "Informacion extraida de 2019 Novel Coronavirus COVID-19 (2019-nCoV) Data Repository by Johns Hopkins CSSE\n",
        "\n",
        "https://github.com/CSSEGISandData/COVID-19"
      ],
      "execution_count": null,
      "outputs": []
    },
    {
      "cell_type": "markdown",
      "metadata": {
        "id": "l8tbwHgTf71J",
        "colab_type": "text"
      },
      "source": [
        "[![Open In Colab](https://colab.research.google.com/assets/colab-badge.svg)](https://colab.research.google.com/github/JoseRZapata/JoseRZapata.github.io/blob/master/Jupyter_Notebook/Covid19_Visualizacion_es.ipynb) [![Binder](https://mybinder.org/badge_logo.svg)](https://mybinder.org/v2/gh/JoseRZapata/JoseRZapata.github.io/master?filepath=Jupyter_Notebook/Covid19_Visualizacion_es.ipynb)  [![nbviewer](https://img.shields.io/badge/render-nbviewer-orange.svg)](https://nbviewer.jupyter.org/github/JoseRZapata/JoseRZapata.github.io/blob/master/Jupyter_Notebook/Covid19_Visualizacion_es.ipynb)"
      ],
      "execution_count": null,
      "outputs": []
    },
    {
      "cell_type": "code",
      "metadata": {
        "id": "Fx_yb96YHeOb",
        "colab_type": "code",
        "colab": {}
      },
      "source": [
        "import pandas as pd\n",
        "import plotly.express as px\n",
        "import numpy as np\n",
        "\n",
        "\n",
        "#!pip install chart_studio -q\n",
        "import chart_studio"
      ],
      "execution_count": null,
      "outputs": []
    },
    {
      "cell_type": "code",
      "metadata": {
        "colab_type": "code",
        "id": "2KiBmOpseQ4_",
        "colab": {}
      },
      "source": [
        "username = '' # your username\n",
        "api_key =''\n",
        "if api_key: chart_studio.tools.set_credentials_file(username=username, api_key=api_key)\n",
        "import chart_studio.plotly as py"
      ],
      "execution_count": null,
      "outputs": []
    },
    {
      "cell_type": "code",
      "metadata": {
        "id": "lT7Dgoqy-YQA",
        "colab_type": "code",
        "colab": {}
      },
      "source": [
        "# Leer datos\n",
        "\n",
        "# los datos de personas recuperadas no eran confiables entonces ya solo se tienen los datos de confirmados y muertos\n",
        "\n",
        "confirmed = pd.read_csv('https://github.com/CSSEGISandData/COVID-19/raw/master/csse_covid_19_data/csse_covid_19_time_series/time_series_covid19_confirmed_global.csv')\n",
        "death = pd.read_csv('https://github.com/CSSEGISandData/COVID-19/raw/master/csse_covid_19_data/csse_covid_19_time_series/time_series_covid19_deaths_global.csv')"
      ],
      "execution_count": null,
      "outputs": []
    },
    {
      "cell_type": "markdown",
      "metadata": {
        "id": "1nocx9xeA5UY",
        "colab_type": "text"
      },
      "source": [
        "## Datos CSSEGISandData/COVID-19\n",
        "\n",
        "Descripcion de los datos\n",
        "\n",
        "**Province/State:** China - province name; US/Canada/Australia/ - city name, state/province name; Others - name of the event (e.g., \"Diamond Princess\" cruise ship); other countries - blank.\n",
        "\n",
        "**Country/Region:** country/region name conforming to WHO (will be updated).\n",
        "\n",
        "**Last Update:** MM/DD/YYYY HH:mm (24 hour format, in UTC).\n",
        "\n",
        "**Confirmed: **the number of confirmed cases. For Hubei Province: from Feb 13 (GMT +8), we report both clinically diagnosed and lab-confirmed cases. For lab-confirmed cases only (Before Feb 17), please refer to who_covid_19_situation_reports. For Italy, diagnosis standard might be changed since Feb 27 to \"slow the growth of new case numbers.\"\n",
        "\n",
        "**Deaths:** the number of deaths.\n",
        "**Recovered:** the number of recovered cases."
      ],
      "execution_count": null,
      "outputs": []
    },
    {
      "cell_type": "code",
      "metadata": {
        "id": "fTZI2C13_rsQ",
        "colab_type": "code",
        "colab": {}
      },
      "source": [
        "#confirmed.head()"
      ],
      "execution_count": null,
      "outputs": []
    },
    {
      "cell_type": "code",
      "metadata": {
        "id": "LQezYlG7AhrM",
        "colab_type": "code",
        "colab": {}
      },
      "source": [
        "#death.head()"
      ],
      "execution_count": null,
      "outputs": []
    },
    {
      "cell_type": "markdown",
      "metadata": {
        "id": "N2E7F_J4BqN-",
        "colab_type": "text"
      },
      "source": [
        "## Datos Generales de cada Dataframe"
      ],
      "execution_count": null,
      "outputs": []
    },
    {
      "cell_type": "code",
      "metadata": {
        "id": "dKDC24PCCGjq",
        "colab_type": "code",
        "colab": {}
      },
      "source": [
        "#confirmed.info()"
      ],
      "execution_count": null,
      "outputs": []
    },
    {
      "cell_type": "code",
      "metadata": {
        "id": "JD1ws-aKCXEc",
        "colab_type": "code",
        "colab": {}
      },
      "source": [
        "#death.info()"
      ],
      "execution_count": null,
      "outputs": []
    },
    {
      "cell_type": "markdown",
      "metadata": {
        "id": "Vh7JPE-MChF2",
        "colab_type": "text"
      },
      "source": [
        "### Eliminar Ubicacion\n",
        "\n",
        "Se va realizar un analisis general de los datos y No se van a tomar los datos geograficos de *latitud*, *longitud* y los datos de *Province/State* estan incompletos.\n",
        "\n",
        "Solo se realizara un analisis por pais entonces se eliminaran las columnas mencionadas anteriormente\n"
      ],
      "execution_count": null,
      "outputs": []
    },
    {
      "cell_type": "code",
      "metadata": {
        "id": "bnNhCaqKDdmC",
        "colab_type": "code",
        "colab": {}
      },
      "source": [
        "confirmed = confirmed.drop(columns=['Lat', 'Long','Province/State'])"
      ],
      "execution_count": null,
      "outputs": []
    },
    {
      "cell_type": "code",
      "metadata": {
        "id": "WTDExLl9ED2I",
        "colab_type": "code",
        "colab": {}
      },
      "source": [
        "death = death.drop(columns=['Lat', 'Long','Province/State'])"
      ],
      "execution_count": null,
      "outputs": []
    },
    {
      "cell_type": "markdown",
      "metadata": {
        "id": "2-pEpFHuPyAt",
        "colab_type": "text"
      },
      "source": [
        "### Consolidar datos"
      ],
      "execution_count": null,
      "outputs": []
    },
    {
      "cell_type": "code",
      "metadata": {
        "id": "SdBF-Y5xH2jo",
        "colab_type": "code",
        "colab": {}
      },
      "source": [
        "confirmed_group = confirmed.groupby(by='Country/Region')\n",
        "confirmed_group = confirmed_group.aggregate(np.sum)\n",
        "confirmed_group = confirmed_group.T\n",
        "confirmed_group.index.name = 'date'\n",
        "confirmed_group =  confirmed_group.reset_index()"
      ],
      "execution_count": null,
      "outputs": []
    },
    {
      "cell_type": "code",
      "metadata": {
        "colab_type": "code",
        "id": "tKMDez6aRMza",
        "colab": {}
      },
      "source": [
        "death_group = death.groupby(by='Country/Region')\n",
        "death_group = death_group.aggregate(np.sum)\n",
        "death_group = death_group.T\n",
        "death_group.index.name = 'date'\n",
        "death_group =  death_group.reset_index()"
      ],
      "execution_count": null,
      "outputs": []
    },
    {
      "cell_type": "code",
      "metadata": {
        "id": "sSXIMVORLmio",
        "colab_type": "code",
        "colab": {}
      },
      "source": [
        "confirmed_melt = confirmed_group.melt(id_vars=\"date\")\n",
        "confirmed_melt.rename(columns = {'value':'Confirmados', 'date':'Fecha'}, inplace = True)"
      ],
      "execution_count": null,
      "outputs": []
    },
    {
      "cell_type": "code",
      "metadata": {
        "id": "M_KhVx8L21QY",
        "colab_type": "code",
        "colab": {}
      },
      "source": [
        "death_melt = death_group.melt(id_vars=\"date\")\n",
        "death_melt.rename(columns = {'value':'Muertos', 'date':'Fecha'}, inplace = True)"
      ],
      "execution_count": null,
      "outputs": []
    },
    {
      "cell_type": "markdown",
      "metadata": {
        "id": "x1I4DaJLnksH",
        "colab_type": "text"
      },
      "source": [
        "### Datos Mundiales"
      ],
      "execution_count": null,
      "outputs": []
    },
    {
      "cell_type": "code",
      "metadata": {
        "id": "k252B3rFl0IK",
        "colab_type": "code",
        "colab": {}
      },
      "source": [
        "# Numero de Casos confirmados por dia en el mundo\n",
        "\n",
        "column_names = [\"Fecha\", \"Confirmados\", \"Muertos\"]\n",
        "world = pd.DataFrame(columns = column_names)\n",
        "world['Fecha'] = confirmed_group['date']\n",
        "world['Confirmados'] = confirmed_group.iloc[:,1:].sum(1)\n",
        "world['Muertos'] = death_group.iloc[:,1:].sum(1)"
      ],
      "execution_count": null,
      "outputs": []
    },
    {
      "cell_type": "markdown",
      "metadata": {
        "id": "Q2e5kRWeQrCs",
        "colab_type": "text"
      },
      "source": [
        "# Visualizacion con Plotly"
      ],
      "execution_count": null,
      "outputs": []
    },
    {
      "cell_type": "markdown",
      "metadata": {
        "id": "Z8B5K4RxbkEQ",
        "colab_type": "text"
      },
      "source": [
        "## Valores Mundiales de Confirmados y Muertos\n"
      ],
      "execution_count": null,
      "outputs": []
    },
    {
      "cell_type": "code",
      "metadata": {
        "id": "bs5UwImuK7re",
        "colab_type": "code",
        "colab": {}
      },
      "source": [
        "temp = pd.DataFrame(world.iloc[-1,:]).T\n",
        "tm = temp.melt(id_vars=\"Fecha\", value_vars=[ \"Confirmados\",\"Muertos\"])\n",
        "fig = px.bar(tm, x=\"variable\" , y=\"value\", color= 'variable', text='value',\n",
        "             color_discrete_sequence=[\"green\", \"blue\"],\n",
        "             height=500, width=600,\n",
        "             title= f'Total de Casos Mundiales de COVID 19 - {str(world.iloc[-1,0])}')\n",
        "fig.update_traces(textposition='outside')#poner los valores de las barras fuera\n",
        "fig.layout.update(showlegend=False,\n",
        "                  yaxis =  {\"title\": {\"text\": \"Numero de Personas\"}}, # Cambiar texto eje y\n",
        "                  xaxis =  {\"title\": {\"text\": \"\"}} #Esconder nombre eje x\n",
        "                  )\n",
        "# grabar grafica en chart-studio si se proporciona el api-key\n",
        "if api_key: py.plot(fig, filename = 'total_casos_general', auto_open=False)\n",
        "fig.show()"
      ],
      "execution_count": null,
      "outputs": []
    },
    {
      "cell_type": "markdown",
      "metadata": {
        "id": "GxS-iNEJ1Gu6",
        "colab_type": "text"
      },
      "source": [
        "## Mapa Mundial de Confirmados por Pais"
      ],
      "execution_count": null,
      "outputs": []
    },
    {
      "cell_type": "code",
      "metadata": {
        "id": "AWj0By9l00Ac",
        "colab_type": "code",
        "colab": {}
      },
      "source": [
        "confirmed_melt['Fecha'] = pd.to_datetime(confirmed_melt['Fecha'])\n",
        "confirmed_melt['Fecha'] = confirmed_melt['Fecha'].dt.strftime('%m/%d/%Y')\n",
        "confirmed_melt['size'] = confirmed_melt['Confirmados'].pow(0.3)\n",
        "\n",
        "max_Fecha = confirmed_melt['Fecha'].max()\n",
        "conf_max = confirmed_melt[confirmed_melt['Fecha']== max_Fecha].copy()\n",
        "conf_max.dropna(inplace=True) #eliminar filas con valores faltantes\n",
        "\n",
        "fig = px.scatter_geo(conf_max, locations=\"Country/Region\", locationmode='country names', \n",
        "                     color=\"Confirmados\", size='size', hover_name=\"Country/Region\", \n",
        "                     range_color= [0, max(confirmed_melt['Confirmados'])+2], \n",
        "                     projection=\"natural earth\", width=900,\n",
        "                     title='Mapa de Confirmados COVID 19 por Pais')\n",
        "fig.update(layout_coloraxis_showscale=False)\n",
        "# grabar grafica en chart-studio si se proporciona el api-key\n",
        "if api_key: py.plot(fig, filename = 'mapa_confirmados_pais', auto_open=False)\n",
        "fig.show()"
      ],
      "execution_count": null,
      "outputs": []
    },
    {
      "cell_type": "markdown",
      "metadata": {
        "id": "dpXpgQip1lfo",
        "colab_type": "text"
      },
      "source": [
        "# Confirmados vs Muertos por pais"
      ],
      "execution_count": null,
      "outputs": []
    },
    {
      "cell_type": "code",
      "metadata": {
        "id": "mUsTPQU63Rf_",
        "colab_type": "code",
        "colab": {}
      },
      "source": [
        "death_melt['Fecha'] = pd.to_datetime(death_melt['Fecha'])\n",
        "death_melt['Fecha'] = death_melt['Fecha'].dt.strftime('%m/%d/%Y')\n",
        "\n",
        "max_Fecha = death_melt['Fecha'].max()\n",
        "death_max = death_melt[death_melt['Fecha']== max_Fecha].copy()\n",
        "death_max.dropna(inplace=True) #eliminar filas con valores faltantes\n",
        "\n",
        "full_melt_max = pd.merge(conf_max[['Country/Region','Confirmados']],\n",
        "                         death_max[['Country/Region','Muertos']],\n",
        "                         on='Country/Region', how='left')\n",
        "\n",
        "fig = px.scatter(full_melt_max.sort_values('Muertos', ascending=False).iloc[:10, :], \n",
        "                 x='Confirmados', y='Muertos', color='Country/Region', size='Confirmados', height=500,width=900,\n",
        "                 text='Country/Region', log_x=True, log_y=True, title= f'Muertos vs Confirmados - {max_Fecha} - (10 Paises)')\n",
        "fig.update_traces(textposition='top center')\n",
        "fig.layout.update(showlegend = False)\n",
        "# grabar grafica en chart-studio si se proporciona el api-key\n",
        "if api_key: py.plot(fig, filename = 'scatter_muertos_confirmados', auto_open=False)\n",
        "fig.show()"
      ],
      "execution_count": null,
      "outputs": []
    },
    {
      "cell_type": "markdown",
      "metadata": {
        "id": "3b83uuD9G0yg",
        "colab_type": "text"
      },
      "source": [
        "## Progresion Mundial en el Tiempo del numero de casos\n"
      ],
      "execution_count": null,
      "outputs": []
    },
    {
      "cell_type": "code",
      "metadata": {
        "id": "OUcnRkN9lqLk",
        "colab_type": "code",
        "colab": {}
      },
      "source": [
        "world_melt = world.melt(id_vars='Fecha', value_vars= list(world.columns)[1:], var_name=None)\n",
        "\n",
        "fig = px.line(world_melt, x=\"Fecha\", y= 'value',\n",
        "              color='variable', width=900,\n",
        "              title=f'Total de Casos en el tiempo de COVID 19 - {world.iloc[-1,0]}')\n",
        "for n in list(world.columns)[1:]:\n",
        "  fig.add_annotation(x=world.iloc[-1,0], y=world.loc[world.index[-1],n],\n",
        "                     text=n, xref=\"x\",yref=\"y\",\n",
        "                     showarrow=True, ax=-50, ay=-20)\n",
        "# Indicador de numero total de confirmados\n",
        "fig.add_indicator( title='Confirmados', value = world['Confirmados'].iloc[-1],\n",
        "                  mode = \"number+delta\", delta = {\"reference\": world['Confirmados'\n",
        "                  ].iloc[-2], 'relative': True },domain = {'x': [0, 0.5], 'y': [0.25, .75]})\n",
        "#Indicador numero total de muertos\n",
        "fig.add_indicator(title='Muertos', value = world['Muertos'].iloc[-1],\n",
        "                  mode = \"number+delta\", delta = {\"reference\": world['Muertos'\n",
        "                  ].iloc[-2], 'relative': True },domain = {'x': [0.5, 0.75], 'y': [0.25, .75]})  \n",
        "fig.layout.update(showlegend = False,\n",
        "                  yaxis =  {\"title\": {\"text\": \"Numero de Personas\"}}, # Cambiar texto eje y\n",
        "                  )\n",
        "# grabar grafica en chart-studio si se proporciona el api-key\n",
        "if api_key: py.plot(fig, filename = 'total_casos_serie', auto_open=False)\n",
        "fig.show()"
      ],
      "execution_count": null,
      "outputs": []
    },
    {
      "cell_type": "markdown",
      "metadata": {
        "id": "o-ong5NYHCsT",
        "colab_type": "text"
      },
      "source": [
        "## Total Casos Confirmados de COVID 19 por Pais\n"
      ],
      "execution_count": null,
      "outputs": []
    },
    {
      "cell_type": "code",
      "metadata": {
        "id": "iSsXyRwJN8_X",
        "colab_type": "code",
        "colab": {}
      },
      "source": [
        "#df1 = confirmed_group.drop(columns=[\"China\"])\n",
        "df1 = confirmed_group\n",
        "# Cambiar el nombre de la columna\n",
        "df1.rename(columns = {'date':'Fecha'}, inplace = True) \n",
        "df_melt = df1.melt(id_vars='Fecha', value_vars= list(df1.columns)[1:], var_name=None)\n",
        "fig = px.line(df_melt, x='Fecha' , y='value', color='Country/Region',\n",
        "              color_discrete_sequence=px.colors.qualitative.G10, width=900,\n",
        "              title=f'Total Casos Confirmados de COVID 19 por Pais - {world.iloc[-1,0]}')\n",
        "# 8 paises mas infectados\n",
        "fecha = df1['Fecha'].iloc[-1] #obtener la fecha del ultimo dato\n",
        "paises = df1.iloc[-1,1:] #obtener la serie sin el primer dato, fecha\n",
        "paises.sort_values(ascending=False, inplace=True)\n",
        "mas_infectados=[]\n",
        "for n in range(8):\n",
        "  fig.add_annotation(x=fecha, y=paises[n], text=paises.index[n],\n",
        "                     showarrow=True, ax=+30, xref=\"x\",yref=\"y\")\n",
        "  mas_infectados.append(paises.index[n])\n",
        "fig.layout.update(showlegend=False,\n",
        "                  yaxis =  {\"title\": {\"text\": \"Numero de Personas\"}}, # Cambiar texto eje y\n",
        "                  )\n",
        "# grabar grafica en chart-studio si se proporciona el api-key\n",
        "if api_key: py.plot(fig, filename = 'total_casos_no_china', auto_open=False)\n",
        "fig.show()"
      ],
      "execution_count": null,
      "outputs": []
    },
    {
      "cell_type": "markdown",
      "metadata": {
        "id": "q2wii5D2IbAR",
        "colab_type": "text"
      },
      "source": [
        "## Total Casos Confirmados de COVID 19 por Pais (Excluyendo los 8 mas infectados)"
      ],
      "execution_count": null,
      "outputs": []
    },
    {
      "cell_type": "code",
      "metadata": {
        "id": "MmP8VOi9YVNK",
        "colab_type": "code",
        "colab": {}
      },
      "source": [
        "df2 = confirmed_group.drop(columns=mas_infectados)\n",
        "# Cambiar el nombre de la columna\n",
        "df2.rename(columns = {'date':'Fecha'}, inplace = True) \n",
        "\n",
        "df_melt2 = df2.melt(id_vars='Fecha', value_vars= list(df2.columns)[1:], var_name=None)\n",
        "fig = px.line(df_melt2, x='Fecha' , y='value', color='Country/Region',\n",
        "              color_discrete_sequence=px.colors.qualitative.G10, width=900,\n",
        "              title=f'Total Casos Confirmados de COVID 19 por Pais (Excluyendo los 8 mas infectados) - {world.iloc[-1,0]}')\n",
        "\n",
        "fecha = df2['Fecha'].iloc[-1] #obtener la fecha del ultimo dato\n",
        "paises = df2.iloc[-1,1:] #obtener la serie sin el primer dato, fecha\n",
        "paises.sort_values(ascending=False, inplace=True)\n",
        "for n in range(8):\n",
        "  fig.add_annotation(x=fecha, y=paises[n], text=paises.index[n],\n",
        "                     showarrow=True, ax=+30,xref=\"x\", yref=\"y\")\n",
        "fig.layout.update(showlegend=False,\n",
        "                  yaxis =  {\"title\": {\"text\": \"Numero de Personas\"}}, # Cambiar texto eje y\n",
        "                  )\n",
        "# grabar grafica en chart-studio si se proporciona el api-key\n",
        "if api_key: py.plot(fig, filename = 'total_casos_no_8_infectados', auto_open=False)\n",
        "fig.show()"
      ],
      "execution_count": null,
      "outputs": []
    },
    {
      "cell_type": "markdown",
      "metadata": {
        "id": "gPDj3HYfKBIJ",
        "colab_type": "text"
      },
      "source": [
        "# Animacion del Mapa de Evolucion Temporal del Codiv 19"
      ],
      "execution_count": null,
      "outputs": []
    },
    {
      "cell_type": "code",
      "metadata": {
        "id": "AQxF9NDpKHtS",
        "colab_type": "code",
        "colab": {}
      },
      "source": [
        "confirmed_melt['Fecha'] = pd.to_datetime(confirmed_melt['Fecha'])\n",
        "confirmed_melt['Fecha'] = confirmed_melt['Fecha'].dt.strftime('%m/%d/%Y')\n",
        "confirmed_melt['size'] = confirmed_melt['Confirmados'].pow(0.3)\n",
        "confirmed_melt.dropna(inplace=True) #eliminar filas con valores faltantes\n",
        "\n",
        "fig = px.scatter_geo(confirmed_melt, locations=\"Country/Region\", locationmode='country names', \n",
        "                     color=\"Confirmados\", size='size', hover_name=\"Country/Region\", \n",
        "                     range_color= [0, max(confirmed_melt['Confirmados'])+2], \n",
        "                     projection=\"natural earth\", animation_frame=\"Fecha\", width=900,\n",
        "                     title='Contagiados COVID 19 en el Tiempo')\n",
        "fig.update(layout_coloraxis_showscale=False)\n",
        "# grabar grafica en chart-studio si se proporciona el api-key\n",
        "if api_key: py.plot(fig, filename = 'mapa_evolucion_temporal', auto_open=False)\n",
        "fig.show()"
      ],
      "execution_count": null,
      "outputs": []
    },
    {
      "cell_type": "markdown",
      "metadata": {
        "id": "CU-c2Nw6jH2v",
        "colab_type": "text"
      },
      "source": [
        "## Numero de Casos COVID 19 en Colombia"
      ],
      "execution_count": null,
      "outputs": []
    },
    {
      "cell_type": "code",
      "metadata": {
        "id": "NJL6KgRTjG6g",
        "colab_type": "code",
        "colab": {}
      },
      "source": [
        "column_names = [\"Fecha\", \"Confirmados\", \"Muertos\"]\n",
        "colombia = pd.DataFrame(columns = column_names)\n",
        "colombia['Fecha'] = confirmed_group['Fecha']\n",
        "colombia['Confirmados'] = confirmed_group['Colombia']\n",
        "colombia['Muertos'] = death_group['Colombia']\n",
        "\n",
        "df_melt3 = colombia.melt(id_vars='Fecha', value_vars= list(colombia.columns)[1:], var_name=None)\n",
        "fig = px.line(df_melt3, x='Fecha' , y='value', color='variable',\n",
        "              color_discrete_sequence=px.colors.qualitative.G10,width=900,\n",
        "              title=f'Corona virus (COVID 19) en Colombia - {colombia.iloc[-1,0]}')\n",
        "fig.add_indicator( title='Confirmados', value = colombia['Confirmados'].iloc[-1],\n",
        "                  mode = \"number+delta\", delta = {\"reference\": colombia['Confirmados'\n",
        "                  ].iloc[-2], 'relative': True },domain = {'x': [0, 0.5], 'y': [0.25, .75]})\n",
        "\n",
        "fig.add_indicator(title='Muertos', value = colombia['Muertos'].iloc[-1],\n",
        "                  mode = \"number+delta\", delta = {\"reference\": colombia['Muertos'\n",
        "                  ].iloc[-2], 'relative': True },domain = {'x': [0.5, 0.75], 'y': [0.25, .75]})\n",
        "fig.layout.update(showlegend=False,\n",
        "                  yaxis =  {\"title\": {\"text\": \"Numero de Personas\"}}, # Cambiar texto eje y\n",
        "                  xaxis =  {\"title\": {\"text\": \"Fecha\"}})\n",
        "# grabar grafica en chart-studio si se proporciona el api-key\n",
        "if api_key: py.plot(fig, filename = 'Colombia_general', auto_open=False)\n",
        "fig.show()"
      ],
      "execution_count": null,
      "outputs": []
    },
    {
      "cell_type": "markdown",
      "metadata": {
        "id": "P7oX7axkfJyq",
        "colab_type": "text"
      },
      "source": [
        "# Codigo Fuente Jupyter notebook\n",
        "## Ejecutar en Google Colaboratory\n",
        "[![Open In Colab](https://colab.research.google.com/assets/colab-badge.svg)](https://colab.research.google.com/github/JoseRZapata/JoseRZapata.github.io/blob/master/Jupyter_Notebook/Covid19_Visualizacion_es.ipynb)\n",
        "\n",
        "## Ejecutar en MyBinder\n",
        "[![Binder](https://mybinder.org/badge_logo.svg)](https://mybinder.org/v2/gh/JoseRZapata/JoseRZapata.github.io/master?filepath=Jupyter_Notebook/Covid19_Visualizacion_es.ipynb)\n",
        "\n",
        "## Leer en nbviewer\n",
        "[![nbviewer](https://img.shields.io/badge/render-nbviewer-orange.svg)](https://nbviewer.jupyter.org/github/JoseRZapata/JoseRZapata.github.io/blob/master/Jupyter_Notebook/Covid19_Visualizacion_es.ipynb)"
      ],
      "execution_count": null,
      "outputs": []
    },
    {
      "cell_type": "markdown",
      "metadata": {
        "id": "E6mkrGmdxXI4",
        "colab_type": "text"
      },
      "source": [
        "# Refencias\n",
        "Fuentes de datos, visualizaciones y analisis de datos.\n",
        "\n",
        "- https://github.com/CSSEGISandData/COVID-19\n",
        "- https://www.kaggle.com/imdevskp/covid-19-analysis-viz-prediction-comparisons\n",
        "- https://junye0798.com/post/build-a-dashboard-to-track-the-spread-of-coronavirus-using-dash/\n",
        "- https://github.com/Perishleaf/data-visualisation-scripts/tree/master/dash-2019-coronavirus\n",
        "- https://medium.com/tomas-pueyo/coronavirus-por-qu%C3%A9-debemos-actuar-ya-93079c61e200"
      ],
      "execution_count": null,
      "outputs": []
    }
  ]
}