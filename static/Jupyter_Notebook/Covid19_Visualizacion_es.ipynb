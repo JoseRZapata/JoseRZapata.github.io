{
 "cells": [
  {
   "cell_type": "markdown",
   "metadata": {
    "colab_type": "text",
    "id": "AVfznQKR-I--"
   },
   "source": [
    "# Visualizacion del Coronavirus (COVID19) Mundial con plotly\n",
    "por: Jose R. Zapata - https://joserzapata.github.io/\n",
    "\n",
    "\n",
    "Link: https://joserzapata.github.io/post/covid19-visualizacion/\n",
    "\n",
    "He visto en las redes sociales varias visualizaciones de los datos del COVID 19 y queria realizarlos en Python para tener la actualizacion de las graficas\n",
    "actualizadas cada dia, y ademas practicar el uso de [plotly](https://plotly.com/) para visualizacion interactiva.\n",
    "\n",
    "Las Graficas se actualizaran diariamente con los nuevos datos!\n",
    "\n",
    "Informacion extraida de 2019 Novel Coronavirus COVID-19 (2019-nCoV) Data Repository by Johns Hopkins CSSE\n",
    "\n",
    "https://github.com/CSSEGISandData/COVID-19\n",
    "\n",
    "**Actualizaciones**\n",
    "- 25/May/2020 agregar datos de personas recuperadas\n",
    "- 29/May/2020 actualizacion a plotly 0.48\n",
    "- 25/Sep/2020 Mapa Mundial de Confirmados por Pais con choropleth"
   ]
  },
  {
   "cell_type": "markdown",
   "metadata": {
    "colab_type": "text",
    "id": "l8tbwHgTf71J"
   },
   "source": [
    "[![Open In Colab](https://colab.research.google.com/assets/colab-badge.svg)](https://colab.research.google.com/github/JoseRZapata/JoseRZapata.github.io/blob/master/Jupyter_Notebook/Covid19_Visualizacion_es.ipynb) [![Binder](https://mybinder.org/badge_logo.svg)](https://mybinder.org/v2/gh/JoseRZapata/JoseRZapata.github.io/master?filepath=Jupyter_Notebook/Covid19_Visualizacion_es.ipynb)  [![nbviewer](https://img.shields.io/badge/render-nbviewer-orange.svg)](https://nbviewer.jupyter.org/github/JoseRZapata/JoseRZapata.github.io/blob/master/Jupyter_Notebook/Covid19_Visualizacion_es.ipynb)"
   ]
  },
  {
   "cell_type": "code",
   "execution_count": 1,
   "metadata": {
    "colab": {},
    "colab_type": "code",
    "id": "Fx_yb96YHeOb"
   },
   "outputs": [],
   "source": [
    "import pandas as pd\n",
    "import plotly.express as px\n",
    "import numpy as np\n",
    "\n",
    "#!pip install chart_studio -q\n",
    "import chart_studio"
   ]
  },
  {
   "cell_type": "code",
   "execution_count": 2,
   "metadata": {
    "tags": []
   },
   "outputs": [
    {
     "output_type": "stream",
     "name": "stdout",
     "text": "api_key loaded!\n"
    }
   ],
   "source": [
    "# Leer archivo con los datos de acceso a chart_studio\n",
    "# si no esta, dejar los campos vacios\n",
    "try:\n",
    "    with open(\"../../../info_chart.csv\",\"r\") as f:\n",
    "        info_user = f.read().split(\";\")\n",
    "        username = info_user[0] # your username\n",
    "        api_key = info_user[1] # your api key\n",
    "        print('api_key loaded!')\n",
    "except:\n",
    "    username = '' # your username\n",
    "    api_key =''\n",
    "    \n",
    "if api_key: chart_studio.tools.set_credentials_file(username=username, api_key=api_key)\n",
    "import chart_studio.plotly as py  "
   ]
  },
  {
   "cell_type": "code",
   "execution_count": 3,
   "metadata": {
    "colab": {},
    "colab_type": "code",
    "id": "lT7Dgoqy-YQA"
   },
   "outputs": [],
   "source": [
    "# Leer datos\n",
    "\n",
    "# los datos de personas recuperadas no eran confiables entonces ya solo se tienen los datos de confirmados y muertos\n",
    "\n",
    "confirmed = pd.read_csv('https://github.com/CSSEGISandData/COVID-19/raw/master/csse_covid_19_data/csse_covid_19_time_series/time_series_covid19_confirmed_global.csv')\n",
    "death = pd.read_csv('https://github.com/CSSEGISandData/COVID-19/raw/master/csse_covid_19_data/csse_covid_19_time_series/time_series_covid19_deaths_global.csv')\n",
    "recovered = pd.read_csv('https://github.com/CSSEGISandData/COVID-19/raw/master/csse_covid_19_data/csse_covid_19_time_series/time_series_covid19_recovered_global.csv')\n"
   ]
  },
  {
   "cell_type": "markdown",
   "metadata": {
    "colab_type": "text",
    "id": "1nocx9xeA5UY"
   },
   "source": [
    "## Datos CSSEGISandData/COVID-19\n",
    "\n",
    "Descripcion de los datos\n",
    "\n",
    "**Province/State:** China - province name; US/Canada/Australia/ - city name, state/province name; Others - name of the event (e.g., \"Diamond Princess\" cruise ship); other countries - blank.\n",
    "\n",
    "**Country/Region:** country/region name conforming to WHO (will be updated).\n",
    "\n",
    "**Last Update:** MM/DD/YYYY HH:mm (24 hour format, in UTC).\n",
    "\n",
    "**Confirmed: **the number of confirmed cases. For Hubei Province: from Feb 13 (GMT +8), we report both clinically diagnosed and lab-confirmed cases. For lab-confirmed cases only (Before Feb 17), please refer to who_covid_19_situation_reports. For Italy, diagnosis standard might be changed since Feb 27 to \"slow the growth of new case numbers.\"\n",
    "\n",
    "**Deaths:** the number of deaths.\n",
    "\n",
    "**Recovered:** the number of recovered cases."
   ]
  },
  {
   "cell_type": "code",
   "execution_count": 4,
   "metadata": {
    "colab": {},
    "colab_type": "code",
    "id": "fTZI2C13_rsQ"
   },
   "outputs": [],
   "source": [
    "#confirmed.head()"
   ]
  },
  {
   "cell_type": "code",
   "execution_count": 5,
   "metadata": {
    "colab": {},
    "colab_type": "code",
    "id": "LQezYlG7AhrM"
   },
   "outputs": [],
   "source": [
    "#death.head()"
   ]
  },
  {
   "cell_type": "code",
   "execution_count": 6,
   "metadata": {},
   "outputs": [],
   "source": [
    "#recovered.head()"
   ]
  },
  {
   "cell_type": "markdown",
   "metadata": {
    "colab_type": "text",
    "id": "N2E7F_J4BqN-"
   },
   "source": [
    "## Datos Generales de cada Dataframe"
   ]
  },
  {
   "cell_type": "code",
   "execution_count": 7,
   "metadata": {
    "colab": {},
    "colab_type": "code",
    "id": "dKDC24PCCGjq"
   },
   "outputs": [],
   "source": [
    "#confirmed.info()"
   ]
  },
  {
   "cell_type": "code",
   "execution_count": 8,
   "metadata": {
    "colab": {},
    "colab_type": "code",
    "id": "JD1ws-aKCXEc"
   },
   "outputs": [],
   "source": [
    "#death.info()"
   ]
  },
  {
   "cell_type": "code",
   "execution_count": 9,
   "metadata": {},
   "outputs": [],
   "source": [
    "#recovered.info()"
   ]
  },
  {
   "cell_type": "markdown",
   "metadata": {
    "colab_type": "text",
    "id": "Vh7JPE-MChF2"
   },
   "source": [
    "### Eliminar Ubicacion\n",
    "\n",
    "Se va realizar un analisis general de los datos y No se van a tomar los datos geograficos de *latitud*, *longitud* y los datos de *Province/State* estan incompletos.\n",
    "\n",
    "Solo se realizara un analisis por pais entonces se eliminaran las columnas mencionadas anteriormente\n"
   ]
  },
  {
   "cell_type": "code",
   "execution_count": 10,
   "metadata": {
    "colab": {},
    "colab_type": "code",
    "id": "bnNhCaqKDdmC"
   },
   "outputs": [],
   "source": [
    "confirmed = confirmed.drop(columns=['Lat', 'Long','Province/State'])\n",
    "death = death.drop(columns=['Lat', 'Long','Province/State'])\n",
    "recovered  = recovered.drop(columns=['Lat', 'Long','Province/State'])"
   ]
  },
  {
   "cell_type": "code",
   "execution_count": 11,
   "metadata": {},
   "outputs": [],
   "source": [
    "##confirmed.head()"
   ]
  },
  {
   "cell_type": "markdown",
   "metadata": {},
   "source": [
    "### Casos Activos\n",
    "Se calcula a partir del numero de personas confirmadas - muertos - recuperados"
   ]
  },
  {
   "cell_type": "code",
   "execution_count": 12,
   "metadata": {},
   "outputs": [],
   "source": [
    "active =confirmed.copy()"
   ]
  },
  {
   "cell_type": "code",
   "execution_count": 13,
   "metadata": {},
   "outputs": [],
   "source": [
    "# Calcular el numero de casos activos\n",
    "active.iloc[:,1:] = confirmed.iloc[:,1:] - death.iloc[:,1:] - recovered.iloc[:,1:]"
   ]
  },
  {
   "cell_type": "markdown",
   "metadata": {
    "colab_type": "text",
    "id": "2-pEpFHuPyAt"
   },
   "source": [
    "### Consolidar datos"
   ]
  },
  {
   "cell_type": "code",
   "execution_count": 14,
   "metadata": {
    "colab": {},
    "colab_type": "code",
    "id": "SdBF-Y5xH2jo"
   },
   "outputs": [],
   "source": [
    "confirmed_group = confirmed.groupby(by='Country/Region').aggregate(np.sum).T\n",
    "confirmed_group.index.name = 'date'\n",
    "confirmed_group =  confirmed_group.reset_index()"
   ]
  },
  {
   "cell_type": "code",
   "execution_count": 15,
   "metadata": {
    "colab": {},
    "colab_type": "code",
    "id": "tKMDez6aRMza"
   },
   "outputs": [],
   "source": [
    "recovered_group = recovered.groupby(by='Country/Region').aggregate(np.sum).T\n",
    "recovered_group.index.name = 'date'\n",
    "recovered_group =  recovered_group.reset_index()"
   ]
  },
  {
   "cell_type": "code",
   "execution_count": 16,
   "metadata": {
    "colab": {},
    "colab_type": "code",
    "id": "tKMDez6aRMza"
   },
   "outputs": [],
   "source": [
    "active_group = active.groupby(by='Country/Region').aggregate(np.sum).T\n",
    "active_group.index.name = 'date'\n",
    "active_group =  active_group.reset_index()"
   ]
  },
  {
   "cell_type": "code",
   "execution_count": 17,
   "metadata": {
    "colab": {},
    "colab_type": "code",
    "id": "tKMDez6aRMza"
   },
   "outputs": [],
   "source": [
    "death_group = death.groupby(by='Country/Region').aggregate(np.sum).T\n",
    "death_group.index.name = 'date'\n",
    "death_group =  death_group.reset_index()"
   ]
  },
  {
   "cell_type": "code",
   "execution_count": 18,
   "metadata": {
    "colab": {},
    "colab_type": "code",
    "id": "sSXIMVORLmio"
   },
   "outputs": [],
   "source": [
    "confirmed_melt = confirmed_group.melt(id_vars=\"date\").copy()\n",
    "confirmed_melt.rename(columns = {'value':'Confirmados', 'date':'Fecha'}, inplace = True)"
   ]
  },
  {
   "cell_type": "code",
   "execution_count": 19,
   "metadata": {
    "colab": {},
    "colab_type": "code",
    "id": "M_KhVx8L21QY"
   },
   "outputs": [],
   "source": [
    "death_melt = death_group.melt(id_vars=\"date\")\n",
    "death_melt.rename(columns = {'value':'Muertos', 'date':'Fecha'}, inplace = True)"
   ]
  },
  {
   "cell_type": "markdown",
   "metadata": {
    "colab_type": "text",
    "id": "x1I4DaJLnksH"
   },
   "source": [
    "### Datos Mundiales"
   ]
  },
  {
   "cell_type": "code",
   "execution_count": 20,
   "metadata": {
    "colab": {},
    "colab_type": "code",
    "id": "k252B3rFl0IK"
   },
   "outputs": [],
   "source": [
    "# Numero de Casos confirmados por dia en el mundo\n",
    "\n",
    "column_names = [\"Fecha\", \"Confirmados\", \"Recuperados\",\"Muertos\"]\n",
    "world = pd.DataFrame(columns = column_names)\n",
    "world['Fecha'] = confirmed_group['date'].copy()\n",
    "world['Confirmados'] = confirmed_group.iloc[:,1:].sum(1)\n",
    "world['Muertos'] = death_group.iloc[:,1:].sum(1)\n",
    "world['Recuperados'] = recovered_group.iloc[:,1:].sum(1)\n",
    "world['Activos'] = active_group.iloc[:,1:].sum(1)"
   ]
  },
  {
   "cell_type": "markdown",
   "metadata": {},
   "source": [
    "# Evolucion Animada de Casos Activos por Pais\n",
    "La gráfica animada de la evolución temporal de los casos activos por país, la he creado con la libreria [Pandas alive](https://github.com/JackMcKew/pandas_alive) y [Bar Chart Race](https://github.com/dexplo/bar_chart_race).\n",
    "La barra horizontal gris representa el valor promedio de casos activos a nivel mundial."
   ]
  },
  {
   "cell_type": "code",
   "execution_count": 21,
   "metadata": {},
   "outputs": [],
   "source": [
    "import pandas_alive\n",
    "active_evol = active_group.set_index('date')\n",
    "active_evol.index = pd.to_datetime(active_evol.index)"
   ]
  },
  {
   "cell_type": "code",
   "execution_count": 22,
   "metadata": {
    "tags": []
   },
   "outputs": [
    {
     "output_type": "stream",
     "name": "stdout",
     "text": "Generating BarChartRace, plotting ['Afghanistan', 'Albania', 'Algeria', 'Andorra', 'Angola', 'Antigua and Barbuda', 'Argentina', 'Armenia', 'Australia', 'Austria', 'Azerbaijan', 'Bahamas', 'Bahrain', 'Bangladesh', 'Barbados', 'Belarus', 'Belgium', 'Belize', 'Benin', 'Bhutan', 'Bolivia', 'Bosnia and Herzegovina', 'Botswana', 'Brazil', 'Brunei', 'Bulgaria', 'Burkina Faso', 'Burma', 'Burundi', 'Cabo Verde', 'Cambodia', 'Cameroon', 'Canada', 'Central African Republic', 'Chad', 'Chile', 'China', 'Colombia', 'Comoros', 'Congo (Brazzaville)', 'Congo (Kinshasa)', 'Costa Rica', \"Cote d'Ivoire\", 'Croatia', 'Cuba', 'Cyprus', 'Czechia', 'Denmark', 'Diamond Princess', 'Djibouti', 'Dominica', 'Dominican Republic', 'Ecuador', 'Egypt', 'El Salvador', 'Equatorial Guinea', 'Eritrea', 'Estonia', 'Eswatini', 'Ethiopia', 'Fiji', 'Finland', 'France', 'Gabon', 'Gambia', 'Georgia', 'Germany', 'Ghana', 'Greece', 'Grenada', 'Guatemala', 'Guinea', 'Guinea-Bissau', 'Guyana', 'Haiti', 'Holy See', 'Honduras', 'Hungary', 'Iceland', 'India', 'Indonesia', 'Iran', 'Iraq', 'Ireland', 'Israel', 'Italy', 'Jamaica', 'Japan', 'Jordan', 'Kazakhstan', 'Kenya', 'Korea, South', 'Kosovo', 'Kuwait', 'Kyrgyzstan', 'Laos', 'Latvia', 'Lebanon', 'Lesotho', 'Liberia', 'Libya', 'Liechtenstein', 'Lithuania', 'Luxembourg', 'MS Zaandam', 'Madagascar', 'Malawi', 'Malaysia', 'Maldives', 'Mali', 'Malta', 'Mauritania', 'Mauritius', 'Mexico', 'Moldova', 'Monaco', 'Mongolia', 'Montenegro', 'Morocco', 'Mozambique', 'Namibia', 'Nepal', 'Netherlands', 'New Zealand', 'Nicaragua', 'Niger', 'Nigeria', 'North Macedonia', 'Norway', 'Oman', 'Pakistan', 'Panama', 'Papua New Guinea', 'Paraguay', 'Peru', 'Philippines', 'Poland', 'Portugal', 'Qatar', 'Romania', 'Russia', 'Rwanda', 'Saint Kitts and Nevis', 'Saint Lucia', 'Saint Vincent and the Grenadines', 'San Marino', 'Sao Tome and Principe', 'Saudi Arabia', 'Senegal', 'Serbia', 'Seychelles', 'Sierra Leone', 'Singapore', 'Slovakia', 'Slovenia', 'Somalia', 'South Africa', 'South Sudan', 'Spain', 'Sri Lanka', 'Sudan', 'Suriname', 'Sweden', 'Switzerland', 'Syria', 'Taiwan*', 'Tajikistan', 'Tanzania', 'Thailand', 'Timor-Leste', 'Togo', 'Trinidad and Tobago', 'Tunisia', 'Turkey', 'US', 'Uganda', 'Ukraine', 'United Arab Emirates', 'United Kingdom', 'Uruguay', 'Uzbekistan', 'Venezuela', 'Vietnam', 'West Bank and Gaza', 'Western Sahara', 'Yemen', 'Zambia', 'Zimbabwe']\n"
    }
   ],
   "source": [
    "import warnings\n",
    "warnings.filterwarnings(\"ignore\")\n",
    "hola = active_evol.plot_animated(filename='evolucion_casos_activos.mp4', n_bars=8,n_visible=8,\n",
    "                          title='Evolución en el tiempo de Casos Activos COVID-19 por pais \\n https://joserzapata.github.io/',\n",
    "                          period_label={'x': .99, 'y': .25, 'ha': 'right', 'va': 'center'},\n",
    "                          period_fmt='%B %d, %Y',\n",
    "                          dpi=300,\n",
    "                          period_summary_func=lambda v: {'x': .99, 'y': .18,\n",
    "                                      's': f'Total Activos: {v.nlargest(8).sum():,.0f}',\n",
    "                                      'ha': 'right', 'size': 9, 'family': 'Courier New'});"
   ]
  },
  {
   "cell_type": "markdown",
   "metadata": {
    "colab_type": "text",
    "id": "Q2e5kRWeQrCs"
   },
   "source": [
    "# Visualizacion con Plotly"
   ]
  },
  {
   "cell_type": "markdown",
   "metadata": {
    "colab_type": "text",
    "id": "Z8B5K4RxbkEQ"
   },
   "source": [
    "## Valores Mundiales de Confirmados, Recuperados y Muertos\n"
   ]
  },
  {
   "cell_type": "code",
   "execution_count": 23,
   "metadata": {
    "colab": {},
    "colab_type": "code",
    "id": "bs5UwImuK7re"
   },
   "outputs": [
    {
     "output_type": "display_data",
     "data": {
      "application/vnd.plotly.v1+json": {
       "config": {
        "plotlyServerURL": "https://plotly.com"
       },
       "data": [
        {
         "alignmentgroup": "True",
         "hovertemplate": "variable=%{x}<br>value=%{text}<extra></extra>",
         "legendgroup": "Confirmados",
         "marker": {
          "color": "teal"
         },
         "name": "Confirmados",
         "offsetgroup": "Confirmados",
         "orientation": "v",
         "showlegend": true,
         "text": [
          32476713
         ],
         "textposition": "outside",
         "type": "bar",
         "x": [
          "Confirmados"
         ],
         "xaxis": "x",
         "y": [
          32476713
         ],
         "yaxis": "y"
        },
        {
         "alignmentgroup": "True",
         "hovertemplate": "variable=%{x}<br>value=%{text}<extra></extra>",
         "legendgroup": "Activos",
         "marker": {
          "color": "navy"
         },
         "name": "Activos",
         "offsetgroup": "Activos",
         "orientation": "v",
         "showlegend": true,
         "text": [
          8539491
         ],
         "textposition": "outside",
         "type": "bar",
         "x": [
          "Activos"
         ],
         "xaxis": "x",
         "y": [
          8539491
         ],
         "yaxis": "y"
        },
        {
         "alignmentgroup": "True",
         "hovertemplate": "variable=%{x}<br>value=%{text}<extra></extra>",
         "legendgroup": "Recuperados",
         "marker": {
          "color": "green"
         },
         "name": "Recuperados",
         "offsetgroup": "Recuperados",
         "orientation": "v",
         "showlegend": true,
         "text": [
          22378686
         ],
         "textposition": "outside",
         "type": "bar",
         "x": [
          "Recuperados"
         ],
         "xaxis": "x",
         "y": [
          22378686
         ],
         "yaxis": "y"
        },
        {
         "alignmentgroup": "True",
         "hovertemplate": "variable=%{x}<br>value=%{text}<extra></extra>",
         "legendgroup": "Muertos",
         "marker": {
          "color": "coral"
         },
         "name": "Muertos",
         "offsetgroup": "Muertos",
         "orientation": "v",
         "showlegend": true,
         "text": [
          987775
         ],
         "textposition": "outside",
         "type": "bar",
         "x": [
          "Muertos"
         ],
         "xaxis": "x",
         "y": [
          987775
         ],
         "yaxis": "y"
        }
       ],
       "layout": {
        "annotations": [
         {
          "showarrow": false,
          "text": "https://joserzapata.github.io/",
          "x": "Muertos",
          "y": 32476713
         }
        ],
        "barmode": "relative",
        "height": 500,
        "legend": {
         "title": {
          "text": "variable"
         },
         "tracegroupgap": 0
        },
        "showlegend": false,
        "template": {
         "data": {
          "bar": [
           {
            "error_x": {
             "color": "#2a3f5f"
            },
            "error_y": {
             "color": "#2a3f5f"
            },
            "marker": {
             "line": {
              "color": "#E5ECF6",
              "width": 0.5
             }
            },
            "type": "bar"
           }
          ],
          "barpolar": [
           {
            "marker": {
             "line": {
              "color": "#E5ECF6",
              "width": 0.5
             }
            },
            "type": "barpolar"
           }
          ],
          "carpet": [
           {
            "aaxis": {
             "endlinecolor": "#2a3f5f",
             "gridcolor": "white",
             "linecolor": "white",
             "minorgridcolor": "white",
             "startlinecolor": "#2a3f5f"
            },
            "baxis": {
             "endlinecolor": "#2a3f5f",
             "gridcolor": "white",
             "linecolor": "white",
             "minorgridcolor": "white",
             "startlinecolor": "#2a3f5f"
            },
            "type": "carpet"
           }
          ],
          "choropleth": [
           {
            "colorbar": {
             "outlinewidth": 0,
             "ticks": ""
            },
            "type": "choropleth"
           }
          ],
          "contour": [
           {
            "colorbar": {
             "outlinewidth": 0,
             "ticks": ""
            },
            "colorscale": [
             [
              0,
              "#0d0887"
             ],
             [
              0.1111111111111111,
              "#46039f"
             ],
             [
              0.2222222222222222,
              "#7201a8"
             ],
             [
              0.3333333333333333,
              "#9c179e"
             ],
             [
              0.4444444444444444,
              "#bd3786"
             ],
             [
              0.5555555555555556,
              "#d8576b"
             ],
             [
              0.6666666666666666,
              "#ed7953"
             ],
             [
              0.7777777777777778,
              "#fb9f3a"
             ],
             [
              0.8888888888888888,
              "#fdca26"
             ],
             [
              1,
              "#f0f921"
             ]
            ],
            "type": "contour"
           }
          ],
          "contourcarpet": [
           {
            "colorbar": {
             "outlinewidth": 0,
             "ticks": ""
            },
            "type": "contourcarpet"
           }
          ],
          "heatmap": [
           {
            "colorbar": {
             "outlinewidth": 0,
             "ticks": ""
            },
            "colorscale": [
             [
              0,
              "#0d0887"
             ],
             [
              0.1111111111111111,
              "#46039f"
             ],
             [
              0.2222222222222222,
              "#7201a8"
             ],
             [
              0.3333333333333333,
              "#9c179e"
             ],
             [
              0.4444444444444444,
              "#bd3786"
             ],
             [
              0.5555555555555556,
              "#d8576b"
             ],
             [
              0.6666666666666666,
              "#ed7953"
             ],
             [
              0.7777777777777778,
              "#fb9f3a"
             ],
             [
              0.8888888888888888,
              "#fdca26"
             ],
             [
              1,
              "#f0f921"
             ]
            ],
            "type": "heatmap"
           }
          ],
          "heatmapgl": [
           {
            "colorbar": {
             "outlinewidth": 0,
             "ticks": ""
            },
            "colorscale": [
             [
              0,
              "#0d0887"
             ],
             [
              0.1111111111111111,
              "#46039f"
             ],
             [
              0.2222222222222222,
              "#7201a8"
             ],
             [
              0.3333333333333333,
              "#9c179e"
             ],
             [
              0.4444444444444444,
              "#bd3786"
             ],
             [
              0.5555555555555556,
              "#d8576b"
             ],
             [
              0.6666666666666666,
              "#ed7953"
             ],
             [
              0.7777777777777778,
              "#fb9f3a"
             ],
             [
              0.8888888888888888,
              "#fdca26"
             ],
             [
              1,
              "#f0f921"
             ]
            ],
            "type": "heatmapgl"
           }
          ],
          "histogram": [
           {
            "marker": {
             "colorbar": {
              "outlinewidth": 0,
              "ticks": ""
             }
            },
            "type": "histogram"
           }
          ],
          "histogram2d": [
           {
            "colorbar": {
             "outlinewidth": 0,
             "ticks": ""
            },
            "colorscale": [
             [
              0,
              "#0d0887"
             ],
             [
              0.1111111111111111,
              "#46039f"
             ],
             [
              0.2222222222222222,
              "#7201a8"
             ],
             [
              0.3333333333333333,
              "#9c179e"
             ],
             [
              0.4444444444444444,
              "#bd3786"
             ],
             [
              0.5555555555555556,
              "#d8576b"
             ],
             [
              0.6666666666666666,
              "#ed7953"
             ],
             [
              0.7777777777777778,
              "#fb9f3a"
             ],
             [
              0.8888888888888888,
              "#fdca26"
             ],
             [
              1,
              "#f0f921"
             ]
            ],
            "type": "histogram2d"
           }
          ],
          "histogram2dcontour": [
           {
            "colorbar": {
             "outlinewidth": 0,
             "ticks": ""
            },
            "colorscale": [
             [
              0,
              "#0d0887"
             ],
             [
              0.1111111111111111,
              "#46039f"
             ],
             [
              0.2222222222222222,
              "#7201a8"
             ],
             [
              0.3333333333333333,
              "#9c179e"
             ],
             [
              0.4444444444444444,
              "#bd3786"
             ],
             [
              0.5555555555555556,
              "#d8576b"
             ],
             [
              0.6666666666666666,
              "#ed7953"
             ],
             [
              0.7777777777777778,
              "#fb9f3a"
             ],
             [
              0.8888888888888888,
              "#fdca26"
             ],
             [
              1,
              "#f0f921"
             ]
            ],
            "type": "histogram2dcontour"
           }
          ],
          "mesh3d": [
           {
            "colorbar": {
             "outlinewidth": 0,
             "ticks": ""
            },
            "type": "mesh3d"
           }
          ],
          "parcoords": [
           {
            "line": {
             "colorbar": {
              "outlinewidth": 0,
              "ticks": ""
             }
            },
            "type": "parcoords"
           }
          ],
          "pie": [
           {
            "automargin": true,
            "type": "pie"
           }
          ],
          "scatter": [
           {
            "marker": {
             "colorbar": {
              "outlinewidth": 0,
              "ticks": ""
             }
            },
            "type": "scatter"
           }
          ],
          "scatter3d": [
           {
            "line": {
             "colorbar": {
              "outlinewidth": 0,
              "ticks": ""
             }
            },
            "marker": {
             "colorbar": {
              "outlinewidth": 0,
              "ticks": ""
             }
            },
            "type": "scatter3d"
           }
          ],
          "scattercarpet": [
           {
            "marker": {
             "colorbar": {
              "outlinewidth": 0,
              "ticks": ""
             }
            },
            "type": "scattercarpet"
           }
          ],
          "scattergeo": [
           {
            "marker": {
             "colorbar": {
              "outlinewidth": 0,
              "ticks": ""
             }
            },
            "type": "scattergeo"
           }
          ],
          "scattergl": [
           {
            "marker": {
             "colorbar": {
              "outlinewidth": 0,
              "ticks": ""
             }
            },
            "type": "scattergl"
           }
          ],
          "scattermapbox": [
           {
            "marker": {
             "colorbar": {
              "outlinewidth": 0,
              "ticks": ""
             }
            },
            "type": "scattermapbox"
           }
          ],
          "scatterpolar": [
           {
            "marker": {
             "colorbar": {
              "outlinewidth": 0,
              "ticks": ""
             }
            },
            "type": "scatterpolar"
           }
          ],
          "scatterpolargl": [
           {
            "marker": {
             "colorbar": {
              "outlinewidth": 0,
              "ticks": ""
             }
            },
            "type": "scatterpolargl"
           }
          ],
          "scatterternary": [
           {
            "marker": {
             "colorbar": {
              "outlinewidth": 0,
              "ticks": ""
             }
            },
            "type": "scatterternary"
           }
          ],
          "surface": [
           {
            "colorbar": {
             "outlinewidth": 0,
             "ticks": ""
            },
            "colorscale": [
             [
              0,
              "#0d0887"
             ],
             [
              0.1111111111111111,
              "#46039f"
             ],
             [
              0.2222222222222222,
              "#7201a8"
             ],
             [
              0.3333333333333333,
              "#9c179e"
             ],
             [
              0.4444444444444444,
              "#bd3786"
             ],
             [
              0.5555555555555556,
              "#d8576b"
             ],
             [
              0.6666666666666666,
              "#ed7953"
             ],
             [
              0.7777777777777778,
              "#fb9f3a"
             ],
             [
              0.8888888888888888,
              "#fdca26"
             ],
             [
              1,
              "#f0f921"
             ]
            ],
            "type": "surface"
           }
          ],
          "table": [
           {
            "cells": {
             "fill": {
              "color": "#EBF0F8"
             },
             "line": {
              "color": "white"
             }
            },
            "header": {
             "fill": {
              "color": "#C8D4E3"
             },
             "line": {
              "color": "white"
             }
            },
            "type": "table"
           }
          ]
         },
         "layout": {
          "annotationdefaults": {
           "arrowcolor": "#2a3f5f",
           "arrowhead": 0,
           "arrowwidth": 1
          },
          "coloraxis": {
           "colorbar": {
            "outlinewidth": 0,
            "ticks": ""
           }
          },
          "colorscale": {
           "diverging": [
            [
             0,
             "#8e0152"
            ],
            [
             0.1,
             "#c51b7d"
            ],
            [
             0.2,
             "#de77ae"
            ],
            [
             0.3,
             "#f1b6da"
            ],
            [
             0.4,
             "#fde0ef"
            ],
            [
             0.5,
             "#f7f7f7"
            ],
            [
             0.6,
             "#e6f5d0"
            ],
            [
             0.7,
             "#b8e186"
            ],
            [
             0.8,
             "#7fbc41"
            ],
            [
             0.9,
             "#4d9221"
            ],
            [
             1,
             "#276419"
            ]
           ],
           "sequential": [
            [
             0,
             "#0d0887"
            ],
            [
             0.1111111111111111,
             "#46039f"
            ],
            [
             0.2222222222222222,
             "#7201a8"
            ],
            [
             0.3333333333333333,
             "#9c179e"
            ],
            [
             0.4444444444444444,
             "#bd3786"
            ],
            [
             0.5555555555555556,
             "#d8576b"
            ],
            [
             0.6666666666666666,
             "#ed7953"
            ],
            [
             0.7777777777777778,
             "#fb9f3a"
            ],
            [
             0.8888888888888888,
             "#fdca26"
            ],
            [
             1,
             "#f0f921"
            ]
           ],
           "sequentialminus": [
            [
             0,
             "#0d0887"
            ],
            [
             0.1111111111111111,
             "#46039f"
            ],
            [
             0.2222222222222222,
             "#7201a8"
            ],
            [
             0.3333333333333333,
             "#9c179e"
            ],
            [
             0.4444444444444444,
             "#bd3786"
            ],
            [
             0.5555555555555556,
             "#d8576b"
            ],
            [
             0.6666666666666666,
             "#ed7953"
            ],
            [
             0.7777777777777778,
             "#fb9f3a"
            ],
            [
             0.8888888888888888,
             "#fdca26"
            ],
            [
             1,
             "#f0f921"
            ]
           ]
          },
          "colorway": [
           "#636efa",
           "#EF553B",
           "#00cc96",
           "#ab63fa",
           "#FFA15A",
           "#19d3f3",
           "#FF6692",
           "#B6E880",
           "#FF97FF",
           "#FECB52"
          ],
          "font": {
           "color": "#2a3f5f"
          },
          "geo": {
           "bgcolor": "white",
           "lakecolor": "white",
           "landcolor": "#E5ECF6",
           "showlakes": true,
           "showland": true,
           "subunitcolor": "white"
          },
          "hoverlabel": {
           "align": "left"
          },
          "hovermode": "closest",
          "mapbox": {
           "style": "light"
          },
          "paper_bgcolor": "white",
          "plot_bgcolor": "#E5ECF6",
          "polar": {
           "angularaxis": {
            "gridcolor": "white",
            "linecolor": "white",
            "ticks": ""
           },
           "bgcolor": "#E5ECF6",
           "radialaxis": {
            "gridcolor": "white",
            "linecolor": "white",
            "ticks": ""
           }
          },
          "scene": {
           "xaxis": {
            "backgroundcolor": "#E5ECF6",
            "gridcolor": "white",
            "gridwidth": 2,
            "linecolor": "white",
            "showbackground": true,
            "ticks": "",
            "zerolinecolor": "white"
           },
           "yaxis": {
            "backgroundcolor": "#E5ECF6",
            "gridcolor": "white",
            "gridwidth": 2,
            "linecolor": "white",
            "showbackground": true,
            "ticks": "",
            "zerolinecolor": "white"
           },
           "zaxis": {
            "backgroundcolor": "#E5ECF6",
            "gridcolor": "white",
            "gridwidth": 2,
            "linecolor": "white",
            "showbackground": true,
            "ticks": "",
            "zerolinecolor": "white"
           }
          },
          "shapedefaults": {
           "line": {
            "color": "#2a3f5f"
           }
          },
          "ternary": {
           "aaxis": {
            "gridcolor": "white",
            "linecolor": "white",
            "ticks": ""
           },
           "baxis": {
            "gridcolor": "white",
            "linecolor": "white",
            "ticks": ""
           },
           "bgcolor": "#E5ECF6",
           "caxis": {
            "gridcolor": "white",
            "linecolor": "white",
            "ticks": ""
           }
          },
          "title": {
           "x": 0.05
          },
          "xaxis": {
           "automargin": true,
           "gridcolor": "white",
           "linecolor": "white",
           "ticks": "",
           "title": {
            "standoff": 15
           },
           "zerolinecolor": "white",
           "zerolinewidth": 2
          },
          "yaxis": {
           "automargin": true,
           "gridcolor": "white",
           "linecolor": "white",
           "ticks": "",
           "title": {
            "standoff": 15
           },
           "zerolinecolor": "white",
           "zerolinewidth": 2
          }
         }
        },
        "title": {
         "text": "Total de Casos Mundiales de COVID 19 - 9/25/20"
        },
        "width": 600,
        "xaxis": {
         "anchor": "y",
         "categoryarray": [
          "Confirmados",
          "Activos",
          "Recuperados",
          "Muertos"
         ],
         "categoryorder": "array",
         "domain": [
          0,
          1
         ],
         "title": {
          "text": ""
         }
        },
        "yaxis": {
         "anchor": "x",
         "domain": [
          0,
          1
         ],
         "title": {
          "text": "Numero de Personas"
         }
        }
       }
      }
     },
     "metadata": {}
    }
   ],
   "source": [
    "temp = pd.DataFrame(world.iloc[-1,:]).T\n",
    "tm = temp.melt(id_vars=\"Fecha\", value_vars=[ \"Confirmados\",\"Activos\",\"Recuperados\",\"Muertos\"])\n",
    "fig = px.bar(tm, x=\"variable\" , y=\"value\", color= 'variable', text='value',\n",
    "             color_discrete_sequence=[\"teal\",\"navy\",\"green\", \"coral\"],\n",
    "             height=500, width=600,\n",
    "             title= f'Total de Casos Mundiales de COVID 19 - {str(world.iloc[-1,0])}')\n",
    "fig.update_traces(textposition='outside')#poner los valores de las barras fuera\n",
    "fig.add_annotation(x='Muertos', y=tm['value'].max(),text='https://joserzapata.github.io/', showarrow=False)\n",
    "fig.layout.update(showlegend=False,\n",
    "                  yaxis =  {\"title\": {\"text\": \"Numero de Personas\"}}, # Cambiar texto eje y\n",
    "                  xaxis =  {\"title\": {\"text\": \"\"}} #Esconder nombre eje x\n",
    "                  )\n",
    "# grabar grafica en chart-studio si se proporciona el api-key\n",
    "if api_key: py.plot(fig, filename = 'total_casos_general', auto_open=False)\n",
    "fig.show()"
   ]
  },
  {
   "cell_type": "markdown",
   "metadata": {
    "colab_type": "text",
    "id": "GxS-iNEJ1Gu6"
   },
   "source": [
    "## Mapa Mundial de Confirmados por Pais"
   ]
  },
  {
   "cell_type": "code",
   "execution_count": 24,
   "metadata": {
    "colab": {},
    "colab_type": "code",
    "id": "AWj0By9l00Ac"
   },
   "outputs": [
    {
     "output_type": "display_data",
     "data": {
      "application/vnd.plotly.v1+json": {
       "config": {
        "plotlyServerURL": "https://plotly.com"
       },
       "data": [
        {
         "coloraxis": "coloraxis",
         "customdata": [
          [
           39186
          ],
          [
           13045
          ],
          [
           50754
          ],
          [
           1836
          ],
          [
           4590
          ],
          [
           98
          ],
          [
           691235
          ],
          [
           48643
          ],
          [
           27016
          ],
          [
           41500
          ],
          [
           39787
          ],
          [
           3790
          ],
          [
           68190
          ],
          [
           356767
          ],
          [
           190
          ],
          [
           76957
          ],
          [
           110976
          ],
          [
           1808
          ],
          [
           2325
          ],
          [
           263
          ],
          [
           133222
          ],
          [
           26564
          ],
          [
           2921
          ],
          [
           4689613
          ],
          [
           146
          ],
          [
           19828
          ],
          [
           1962
          ],
          [
           9112
          ],
          [
           483
          ],
          [
           5628
          ],
          [
           275
          ],
          [
           20712
          ],
          [
           152717
          ],
          [
           4806
          ],
          [
           1175
          ],
          [
           453868
          ],
          [
           90441
          ],
          [
           798317
          ],
          [
           474
          ],
          [
           5005
          ],
          [
           10578
          ],
          [
           70816
          ],
          [
           19556
          ],
          [
           15795
          ],
          [
           5350
          ],
          [
           1671
          ],
          [
           61318
          ],
          [
           26066
          ],
          [
           712
          ],
          [
           5409
          ],
          [
           24
          ],
          [
           110597
          ],
          [
           132475
          ],
          [
           102625
          ],
          [
           28415
          ],
          [
           5018
          ],
          [
           369
          ],
          [
           3118
          ],
          [
           5399
          ],
          [
           72173
          ],
          [
           32
          ],
          [
           9484
          ],
          [
           552421
          ],
          [
           8728
          ],
          [
           3555
          ],
          [
           4664
          ],
          [
           283712
          ],
          [
           46222
          ],
          [
           16913
          ],
          [
           24
          ],
          [
           88878
          ],
          [
           10478
          ],
          [
           2324
          ],
          [
           2709
          ],
          [
           8684
          ],
          [
           12
          ],
          [
           73840
          ],
          [
           22127
          ],
          [
           2561
          ],
          [
           5818570
          ],
          [
           266845
          ],
          [
           439882
          ],
          [
           341699
          ],
          [
           34315
          ],
          [
           217899
          ],
          [
           306235
          ],
          [
           5723
          ],
          [
           81054
          ],
          [
           7211
          ],
          [
           107659
          ],
          [
           37707
          ],
          [
           23516
          ],
          [
           12683
          ],
          [
           102441
          ],
          [
           45932
          ],
          [
           23
          ],
          [
           1625
          ],
          [
           33962
          ],
          [
           1558
          ],
          [
           1338
          ],
          [
           31290
          ],
          [
           117
          ],
          [
           4184
          ],
          [
           8233
          ],
          [
           9
          ],
          [
           16221
          ],
          [
           5764
          ],
          [
           10687
          ],
          [
           10014
          ],
          [
           3064
          ],
          [
           2929
          ],
          [
           7457
          ],
          [
           367
          ],
          [
           720858
          ],
          [
           49666
          ],
          [
           208
          ],
          [
           313
          ],
          [
           9962
          ],
          [
           112522
          ],
          [
           7589
          ],
          [
           10835
          ],
          [
           70614
          ],
          [
           110758
          ],
          [
           1831
          ],
          [
           5073
          ],
          [
           1194
          ],
          [
           58062
          ],
          [
           17343
          ],
          [
           13545
          ],
          [
           95907
          ],
          [
           309581
          ],
          [
           109431
          ],
          [
           532
          ],
          [
           37226
          ],
          [
           794584
          ],
          [
           299361
          ],
          [
           84396
          ],
          [
           72055
          ],
          [
           124650
          ],
          [
           119683
          ],
          [
           1131088
          ],
          [
           4798
          ],
          [
           19
          ],
          [
           27
          ],
          [
           64
          ],
          [
           727
          ],
          [
           911
          ],
          [
           332329
          ],
          [
           14839
          ],
          [
           33238
          ],
          [
           143
          ],
          [
           2199
          ],
          [
           57665
          ],
          [
           8048
          ],
          [
           5007
          ],
          [
           3465
          ],
          [
           668529
          ],
          [
           2676
          ],
          [
           716481
          ],
          [
           3345
          ],
          [
           13592
          ],
          [
           4817
          ],
          [
           90923
          ],
          [
           51864
          ],
          [
           4001
          ],
          [
           510
          ],
          [
           9562
          ],
          [
           509
          ],
          [
           3522
          ],
          [
           27
          ],
          [
           1722
          ],
          [
           4277
          ],
          [
           14392
          ],
          [
           311455
          ],
          [
           7032712
          ],
          [
           7218
          ],
          [
           196631
          ],
          [
           89540
          ],
          [
           425767
          ],
          [
           1967
          ],
          [
           54392
          ],
          [
           71273
          ],
          [
           1069
          ],
          [
           37963
          ],
          [
           10
          ],
          [
           2029
          ],
          [
           14515
          ],
          [
           7787
          ]
         ],
         "geo": "geo",
         "hovertemplate": "<b>%{hovertext}</b><br><br>Country/Region=%{location}<br>Confirmados=%{customdata[0]}<br>color=%{z}<extra></extra>",
         "hovertext": [
          "Afghanistan",
          "Albania",
          "Algeria",
          "Andorra",
          "Angola",
          "Antigua and Barbuda",
          "Argentina",
          "Armenia",
          "Australia",
          "Austria",
          "Azerbaijan",
          "Bahamas",
          "Bahrain",
          "Bangladesh",
          "Barbados",
          "Belarus",
          "Belgium",
          "Belize",
          "Benin",
          "Bhutan",
          "Bolivia",
          "Bosnia and Herzegovina",
          "Botswana",
          "Brazil",
          "Brunei",
          "Bulgaria",
          "Burkina Faso",
          "Burma",
          "Burundi",
          "Cabo Verde",
          "Cambodia",
          "Cameroon",
          "Canada",
          "Central African Republic",
          "Chad",
          "Chile",
          "China",
          "Colombia",
          "Comoros",
          "Congo (Brazzaville)",
          "Congo (Kinshasa)",
          "Costa Rica",
          "Cote d'Ivoire",
          "Croatia",
          "Cuba",
          "Cyprus",
          "Czechia",
          "Denmark",
          "Diamond Princess",
          "Djibouti",
          "Dominica",
          "Dominican Republic",
          "Ecuador",
          "Egypt",
          "El Salvador",
          "Equatorial Guinea",
          "Eritrea",
          "Estonia",
          "Eswatini",
          "Ethiopia",
          "Fiji",
          "Finland",
          "France",
          "Gabon",
          "Gambia",
          "Georgia",
          "Germany",
          "Ghana",
          "Greece",
          "Grenada",
          "Guatemala",
          "Guinea",
          "Guinea-Bissau",
          "Guyana",
          "Haiti",
          "Holy See",
          "Honduras",
          "Hungary",
          "Iceland",
          "India",
          "Indonesia",
          "Iran",
          "Iraq",
          "Ireland",
          "Israel",
          "Italy",
          "Jamaica",
          "Japan",
          "Jordan",
          "Kazakhstan",
          "Kenya",
          "Korea, South",
          "Kosovo",
          "Kuwait",
          "Kyrgyzstan",
          "Laos",
          "Latvia",
          "Lebanon",
          "Lesotho",
          "Liberia",
          "Libya",
          "Liechtenstein",
          "Lithuania",
          "Luxembourg",
          "MS Zaandam",
          "Madagascar",
          "Malawi",
          "Malaysia",
          "Maldives",
          "Mali",
          "Malta",
          "Mauritania",
          "Mauritius",
          "Mexico",
          "Moldova",
          "Monaco",
          "Mongolia",
          "Montenegro",
          "Morocco",
          "Mozambique",
          "Namibia",
          "Nepal",
          "Netherlands",
          "New Zealand",
          "Nicaragua",
          "Niger",
          "Nigeria",
          "North Macedonia",
          "Norway",
          "Oman",
          "Pakistan",
          "Panama",
          "Papua New Guinea",
          "Paraguay",
          "Peru",
          "Philippines",
          "Poland",
          "Portugal",
          "Qatar",
          "Romania",
          "Russia",
          "Rwanda",
          "Saint Kitts and Nevis",
          "Saint Lucia",
          "Saint Vincent and the Grenadines",
          "San Marino",
          "Sao Tome and Principe",
          "Saudi Arabia",
          "Senegal",
          "Serbia",
          "Seychelles",
          "Sierra Leone",
          "Singapore",
          "Slovakia",
          "Slovenia",
          "Somalia",
          "South Africa",
          "South Sudan",
          "Spain",
          "Sri Lanka",
          "Sudan",
          "Suriname",
          "Sweden",
          "Switzerland",
          "Syria",
          "Taiwan*",
          "Tajikistan",
          "Tanzania",
          "Thailand",
          "Timor-Leste",
          "Togo",
          "Trinidad and Tobago",
          "Tunisia",
          "Turkey",
          "US",
          "Uganda",
          "Ukraine",
          "United Arab Emirates",
          "United Kingdom",
          "Uruguay",
          "Uzbekistan",
          "Venezuela",
          "Vietnam",
          "West Bank and Gaza",
          "Western Sahara",
          "Yemen",
          "Zambia",
          "Zimbabwe"
         ],
         "locationmode": "country names",
         "locations": [
          "Afghanistan",
          "Albania",
          "Algeria",
          "Andorra",
          "Angola",
          "Antigua and Barbuda",
          "Argentina",
          "Armenia",
          "Australia",
          "Austria",
          "Azerbaijan",
          "Bahamas",
          "Bahrain",
          "Bangladesh",
          "Barbados",
          "Belarus",
          "Belgium",
          "Belize",
          "Benin",
          "Bhutan",
          "Bolivia",
          "Bosnia and Herzegovina",
          "Botswana",
          "Brazil",
          "Brunei",
          "Bulgaria",
          "Burkina Faso",
          "Burma",
          "Burundi",
          "Cabo Verde",
          "Cambodia",
          "Cameroon",
          "Canada",
          "Central African Republic",
          "Chad",
          "Chile",
          "China",
          "Colombia",
          "Comoros",
          "Congo (Brazzaville)",
          "Congo (Kinshasa)",
          "Costa Rica",
          "Cote d'Ivoire",
          "Croatia",
          "Cuba",
          "Cyprus",
          "Czechia",
          "Denmark",
          "Diamond Princess",
          "Djibouti",
          "Dominica",
          "Dominican Republic",
          "Ecuador",
          "Egypt",
          "El Salvador",
          "Equatorial Guinea",
          "Eritrea",
          "Estonia",
          "Eswatini",
          "Ethiopia",
          "Fiji",
          "Finland",
          "France",
          "Gabon",
          "Gambia",
          "Georgia",
          "Germany",
          "Ghana",
          "Greece",
          "Grenada",
          "Guatemala",
          "Guinea",
          "Guinea-Bissau",
          "Guyana",
          "Haiti",
          "Holy See",
          "Honduras",
          "Hungary",
          "Iceland",
          "India",
          "Indonesia",
          "Iran",
          "Iraq",
          "Ireland",
          "Israel",
          "Italy",
          "Jamaica",
          "Japan",
          "Jordan",
          "Kazakhstan",
          "Kenya",
          "Korea, South",
          "Kosovo",
          "Kuwait",
          "Kyrgyzstan",
          "Laos",
          "Latvia",
          "Lebanon",
          "Lesotho",
          "Liberia",
          "Libya",
          "Liechtenstein",
          "Lithuania",
          "Luxembourg",
          "MS Zaandam",
          "Madagascar",
          "Malawi",
          "Malaysia",
          "Maldives",
          "Mali",
          "Malta",
          "Mauritania",
          "Mauritius",
          "Mexico",
          "Moldova",
          "Monaco",
          "Mongolia",
          "Montenegro",
          "Morocco",
          "Mozambique",
          "Namibia",
          "Nepal",
          "Netherlands",
          "New Zealand",
          "Nicaragua",
          "Niger",
          "Nigeria",
          "North Macedonia",
          "Norway",
          "Oman",
          "Pakistan",
          "Panama",
          "Papua New Guinea",
          "Paraguay",
          "Peru",
          "Philippines",
          "Poland",
          "Portugal",
          "Qatar",
          "Romania",
          "Russia",
          "Rwanda",
          "Saint Kitts and Nevis",
          "Saint Lucia",
          "Saint Vincent and the Grenadines",
          "San Marino",
          "Sao Tome and Principe",
          "Saudi Arabia",
          "Senegal",
          "Serbia",
          "Seychelles",
          "Sierra Leone",
          "Singapore",
          "Slovakia",
          "Slovenia",
          "Somalia",
          "South Africa",
          "South Sudan",
          "Spain",
          "Sri Lanka",
          "Sudan",
          "Suriname",
          "Sweden",
          "Switzerland",
          "Syria",
          "Taiwan*",
          "Tajikistan",
          "Tanzania",
          "Thailand",
          "Timor-Leste",
          "Togo",
          "Trinidad and Tobago",
          "Tunisia",
          "Turkey",
          "US",
          "Uganda",
          "Ukraine",
          "United Arab Emirates",
          "United Kingdom",
          "Uruguay",
          "Uzbekistan",
          "Venezuela",
          "Vietnam",
          "West Bank and Gaza",
          "Western Sahara",
          "Yemen",
          "Zambia",
          "Zimbabwe"
         ],
         "name": "",
         "type": "choropleth",
         "z": [
          4.5931309341444,
          4.115444083436239,
          4.705470275343299,
          3.2638726768652235,
          3.661812685537261,
          1.9912260756924949,
          5.83962572009878,
          4.6870203516937075,
          4.431621047627355,
          4.6180480967120925,
          4.5997411939198445,
          3.578639209968072,
          4.8337206904446335,
          5.5523846764756515,
          2.278753600952829,
          4.886248129341082,
          5.045229067124079,
          3.2571984261393445,
          3.3664229572259727,
          2.419955748489758,
          5.124575949231093,
          4.4242934715668065,
          3.46553155697355,
          6.671137004996706,
          2.164352855784437,
          4.297278910233113,
          3.29269900304393,
          3.959613711071044,
          2.683947130751512,
          3.750354088762708,
          2.439332693830263,
          4.316222037426815,
          5.183887384111103,
          3.6817837664678814,
          3.070037866607755,
          5.656929563854704,
          4.956365355664486,
          5.902175377583192,
          2.6757783416740852,
          3.6994040818153375,
          4.0244035626829655,
          4.850131392247164,
          4.291280028591798,
          4.198519630241168,
          3.7283537820212285,
          3.2229764498933915,
          4.787587981095434,
          4.416074390922394,
          2.8524799936368566,
          3.7331169814420644,
          1.380211241711606,
          5.043743346669256,
          5.122133928186368,
          5.011253170127497,
          4.45354766038075,
          3.7005306569785916,
          2.56702636615906,
          3.4938761108528227,
          3.7323133274712426,
          4.858374757900891,
          1.505149978319906,
          3.9769915453061504,
          5.742270179701612,
          3.9409147375802855,
          3.550839605065785,
          3.668758541750958,
          5.452877705283222,
          4.664848733228159,
          4.228220648868423,
          1.380211241711606,
          4.948794273219754,
          4.020278394111927,
          3.366236123718293,
          3.4328090050331683,
          3.9387198147823823,
          1.0791812460476249,
          4.868291688017855,
          4.344922535853836,
          3.40840957846843,
          6.764816263444062,
          5.426259069636314,
          5.643336190982059,
          5.5336437078151,
          4.53548400322669,
          5.338255237150898,
          5.486054825285175,
          3.757623745908389,
          4.908774452066239,
          3.857995495560924,
          5.0320503415162765,
          4.576421980953126,
          4.371363451517044,
          4.103221992452924,
          5.010473809276695,
          4.662115356152807,
          1.3617278360175928,
          3.210853365314893,
          4.53099325764341,
          3.1925674533365456,
          3.1264561134318045,
          4.4954055631461936,
          2.0681858617461617,
          3.621591675859218,
          3.91555811541152,
          0.9542425094393249,
          4.2100776242952875,
          3.760723972141952,
          4.028855809390444,
          4.00060758706289,
          3.486288760960566,
          3.4667193716815987,
          3.8725641430906514,
          2.5646660642520893,
          5.857849722569467,
          4.696059184197354,
          2.3180633349627615,
          2.4955443375464483,
          3.9983465373963645,
          5.051237442843008,
          3.8801845528264334,
          4.034828915655837,
          4.848890813232842,
          5.044375104921081,
          3.2626883443016963,
          3.7052648623174043,
          3.0770043267933502,
          4.763891991433718,
          4.239124224094778,
          4.131779009369187,
          4.98185030634092,
          5.4907742987538635,
          5.03914036790068,
          2.7259116322950483,
          4.570846373009805,
          5.900139815713466,
          5.476195220896703,
          4.926321863461031,
          4.85766412251388,
          5.095692282839792,
          5.078032466776372,
          6.053496394870344,
          3.6810602436318116,
          1.2787536009528289,
          1.4313637641589874,
          1.806179973983887,
          2.8615344108590377,
          2.9595183769729982,
          5.521568240738359,
          4.17140463483013,
          4.521634883490663,
          2.155336037465062,
          3.3422252293607904,
          4.760912296364105,
          3.9056879677118523,
          3.699577591398909,
          3.5397032389478253,
          5.825120251189332,
          3.4274861090957853,
          5.855204678048694,
          3.524396122103842,
          4.133283365860989,
          3.682776646314434,
          4.958673756814825,
          4.714866008594847,
          3.602168551378997,
          2.7075701760979363,
          3.9805487393597705,
          2.7067177823367587,
          3.5467893516312583,
          1.4313637641589874,
          3.236033147117636,
          3.631139250256811,
          4.158121150337495,
          5.49339530729229,
          6.847122832773595,
          3.858416877723488,
          5.293651987899034,
          4.952017090047426,
          5.629171997465634,
          3.2938043599193367,
          4.735535028166055,
          4.852925039364163,
          3.028977705208778,
          4.579360524934513,
          1,
          3.307282047033346,
          4.161817040167692,
          3.891370174696148
         ]
        }
       ],
       "layout": {
        "annotations": [
         {
          "showarrow": false,
          "text": "https://joserzapata.github.io/",
          "x": 0.5,
          "y": 0
         }
        ],
        "coloraxis": {
         "colorbar": {
          "title": {
           "text": "color"
          }
         },
         "colorscale": [
          [
           0,
           "rgb(0,0,131)"
          ],
          [
           0.2,
           "rgb(0,60,170)"
          ],
          [
           0.4,
           "rgb(5,255,255)"
          ],
          [
           0.6,
           "rgb(255,255,0)"
          ],
          [
           0.8,
           "rgb(250,0,0)"
          ],
          [
           1,
           "rgb(128,0,0)"
          ]
         ],
         "showscale": false
        },
        "geo": {
         "center": {},
         "domain": {
          "x": [
           0,
           1
          ],
          "y": [
           0,
           1
          ]
         },
         "projection": {
          "type": "natural earth"
         }
        },
        "legend": {
         "tracegroupgap": 0
        },
        "template": {
         "data": {
          "bar": [
           {
            "error_x": {
             "color": "#2a3f5f"
            },
            "error_y": {
             "color": "#2a3f5f"
            },
            "marker": {
             "line": {
              "color": "#E5ECF6",
              "width": 0.5
             }
            },
            "type": "bar"
           }
          ],
          "barpolar": [
           {
            "marker": {
             "line": {
              "color": "#E5ECF6",
              "width": 0.5
             }
            },
            "type": "barpolar"
           }
          ],
          "carpet": [
           {
            "aaxis": {
             "endlinecolor": "#2a3f5f",
             "gridcolor": "white",
             "linecolor": "white",
             "minorgridcolor": "white",
             "startlinecolor": "#2a3f5f"
            },
            "baxis": {
             "endlinecolor": "#2a3f5f",
             "gridcolor": "white",
             "linecolor": "white",
             "minorgridcolor": "white",
             "startlinecolor": "#2a3f5f"
            },
            "type": "carpet"
           }
          ],
          "choropleth": [
           {
            "colorbar": {
             "outlinewidth": 0,
             "ticks": ""
            },
            "type": "choropleth"
           }
          ],
          "contour": [
           {
            "colorbar": {
             "outlinewidth": 0,
             "ticks": ""
            },
            "colorscale": [
             [
              0,
              "#0d0887"
             ],
             [
              0.1111111111111111,
              "#46039f"
             ],
             [
              0.2222222222222222,
              "#7201a8"
             ],
             [
              0.3333333333333333,
              "#9c179e"
             ],
             [
              0.4444444444444444,
              "#bd3786"
             ],
             [
              0.5555555555555556,
              "#d8576b"
             ],
             [
              0.6666666666666666,
              "#ed7953"
             ],
             [
              0.7777777777777778,
              "#fb9f3a"
             ],
             [
              0.8888888888888888,
              "#fdca26"
             ],
             [
              1,
              "#f0f921"
             ]
            ],
            "type": "contour"
           }
          ],
          "contourcarpet": [
           {
            "colorbar": {
             "outlinewidth": 0,
             "ticks": ""
            },
            "type": "contourcarpet"
           }
          ],
          "heatmap": [
           {
            "colorbar": {
             "outlinewidth": 0,
             "ticks": ""
            },
            "colorscale": [
             [
              0,
              "#0d0887"
             ],
             [
              0.1111111111111111,
              "#46039f"
             ],
             [
              0.2222222222222222,
              "#7201a8"
             ],
             [
              0.3333333333333333,
              "#9c179e"
             ],
             [
              0.4444444444444444,
              "#bd3786"
             ],
             [
              0.5555555555555556,
              "#d8576b"
             ],
             [
              0.6666666666666666,
              "#ed7953"
             ],
             [
              0.7777777777777778,
              "#fb9f3a"
             ],
             [
              0.8888888888888888,
              "#fdca26"
             ],
             [
              1,
              "#f0f921"
             ]
            ],
            "type": "heatmap"
           }
          ],
          "heatmapgl": [
           {
            "colorbar": {
             "outlinewidth": 0,
             "ticks": ""
            },
            "colorscale": [
             [
              0,
              "#0d0887"
             ],
             [
              0.1111111111111111,
              "#46039f"
             ],
             [
              0.2222222222222222,
              "#7201a8"
             ],
             [
              0.3333333333333333,
              "#9c179e"
             ],
             [
              0.4444444444444444,
              "#bd3786"
             ],
             [
              0.5555555555555556,
              "#d8576b"
             ],
             [
              0.6666666666666666,
              "#ed7953"
             ],
             [
              0.7777777777777778,
              "#fb9f3a"
             ],
             [
              0.8888888888888888,
              "#fdca26"
             ],
             [
              1,
              "#f0f921"
             ]
            ],
            "type": "heatmapgl"
           }
          ],
          "histogram": [
           {
            "marker": {
             "colorbar": {
              "outlinewidth": 0,
              "ticks": ""
             }
            },
            "type": "histogram"
           }
          ],
          "histogram2d": [
           {
            "colorbar": {
             "outlinewidth": 0,
             "ticks": ""
            },
            "colorscale": [
             [
              0,
              "#0d0887"
             ],
             [
              0.1111111111111111,
              "#46039f"
             ],
             [
              0.2222222222222222,
              "#7201a8"
             ],
             [
              0.3333333333333333,
              "#9c179e"
             ],
             [
              0.4444444444444444,
              "#bd3786"
             ],
             [
              0.5555555555555556,
              "#d8576b"
             ],
             [
              0.6666666666666666,
              "#ed7953"
             ],
             [
              0.7777777777777778,
              "#fb9f3a"
             ],
             [
              0.8888888888888888,
              "#fdca26"
             ],
             [
              1,
              "#f0f921"
             ]
            ],
            "type": "histogram2d"
           }
          ],
          "histogram2dcontour": [
           {
            "colorbar": {
             "outlinewidth": 0,
             "ticks": ""
            },
            "colorscale": [
             [
              0,
              "#0d0887"
             ],
             [
              0.1111111111111111,
              "#46039f"
             ],
             [
              0.2222222222222222,
              "#7201a8"
             ],
             [
              0.3333333333333333,
              "#9c179e"
             ],
             [
              0.4444444444444444,
              "#bd3786"
             ],
             [
              0.5555555555555556,
              "#d8576b"
             ],
             [
              0.6666666666666666,
              "#ed7953"
             ],
             [
              0.7777777777777778,
              "#fb9f3a"
             ],
             [
              0.8888888888888888,
              "#fdca26"
             ],
             [
              1,
              "#f0f921"
             ]
            ],
            "type": "histogram2dcontour"
           }
          ],
          "mesh3d": [
           {
            "colorbar": {
             "outlinewidth": 0,
             "ticks": ""
            },
            "type": "mesh3d"
           }
          ],
          "parcoords": [
           {
            "line": {
             "colorbar": {
              "outlinewidth": 0,
              "ticks": ""
             }
            },
            "type": "parcoords"
           }
          ],
          "pie": [
           {
            "automargin": true,
            "type": "pie"
           }
          ],
          "scatter": [
           {
            "marker": {
             "colorbar": {
              "outlinewidth": 0,
              "ticks": ""
             }
            },
            "type": "scatter"
           }
          ],
          "scatter3d": [
           {
            "line": {
             "colorbar": {
              "outlinewidth": 0,
              "ticks": ""
             }
            },
            "marker": {
             "colorbar": {
              "outlinewidth": 0,
              "ticks": ""
             }
            },
            "type": "scatter3d"
           }
          ],
          "scattercarpet": [
           {
            "marker": {
             "colorbar": {
              "outlinewidth": 0,
              "ticks": ""
             }
            },
            "type": "scattercarpet"
           }
          ],
          "scattergeo": [
           {
            "marker": {
             "colorbar": {
              "outlinewidth": 0,
              "ticks": ""
             }
            },
            "type": "scattergeo"
           }
          ],
          "scattergl": [
           {
            "marker": {
             "colorbar": {
              "outlinewidth": 0,
              "ticks": ""
             }
            },
            "type": "scattergl"
           }
          ],
          "scattermapbox": [
           {
            "marker": {
             "colorbar": {
              "outlinewidth": 0,
              "ticks": ""
             }
            },
            "type": "scattermapbox"
           }
          ],
          "scatterpolar": [
           {
            "marker": {
             "colorbar": {
              "outlinewidth": 0,
              "ticks": ""
             }
            },
            "type": "scatterpolar"
           }
          ],
          "scatterpolargl": [
           {
            "marker": {
             "colorbar": {
              "outlinewidth": 0,
              "ticks": ""
             }
            },
            "type": "scatterpolargl"
           }
          ],
          "scatterternary": [
           {
            "marker": {
             "colorbar": {
              "outlinewidth": 0,
              "ticks": ""
             }
            },
            "type": "scatterternary"
           }
          ],
          "surface": [
           {
            "colorbar": {
             "outlinewidth": 0,
             "ticks": ""
            },
            "colorscale": [
             [
              0,
              "#0d0887"
             ],
             [
              0.1111111111111111,
              "#46039f"
             ],
             [
              0.2222222222222222,
              "#7201a8"
             ],
             [
              0.3333333333333333,
              "#9c179e"
             ],
             [
              0.4444444444444444,
              "#bd3786"
             ],
             [
              0.5555555555555556,
              "#d8576b"
             ],
             [
              0.6666666666666666,
              "#ed7953"
             ],
             [
              0.7777777777777778,
              "#fb9f3a"
             ],
             [
              0.8888888888888888,
              "#fdca26"
             ],
             [
              1,
              "#f0f921"
             ]
            ],
            "type": "surface"
           }
          ],
          "table": [
           {
            "cells": {
             "fill": {
              "color": "#EBF0F8"
             },
             "line": {
              "color": "white"
             }
            },
            "header": {
             "fill": {
              "color": "#C8D4E3"
             },
             "line": {
              "color": "white"
             }
            },
            "type": "table"
           }
          ]
         },
         "layout": {
          "annotationdefaults": {
           "arrowcolor": "#2a3f5f",
           "arrowhead": 0,
           "arrowwidth": 1
          },
          "coloraxis": {
           "colorbar": {
            "outlinewidth": 0,
            "ticks": ""
           }
          },
          "colorscale": {
           "diverging": [
            [
             0,
             "#8e0152"
            ],
            [
             0.1,
             "#c51b7d"
            ],
            [
             0.2,
             "#de77ae"
            ],
            [
             0.3,
             "#f1b6da"
            ],
            [
             0.4,
             "#fde0ef"
            ],
            [
             0.5,
             "#f7f7f7"
            ],
            [
             0.6,
             "#e6f5d0"
            ],
            [
             0.7,
             "#b8e186"
            ],
            [
             0.8,
             "#7fbc41"
            ],
            [
             0.9,
             "#4d9221"
            ],
            [
             1,
             "#276419"
            ]
           ],
           "sequential": [
            [
             0,
             "#0d0887"
            ],
            [
             0.1111111111111111,
             "#46039f"
            ],
            [
             0.2222222222222222,
             "#7201a8"
            ],
            [
             0.3333333333333333,
             "#9c179e"
            ],
            [
             0.4444444444444444,
             "#bd3786"
            ],
            [
             0.5555555555555556,
             "#d8576b"
            ],
            [
             0.6666666666666666,
             "#ed7953"
            ],
            [
             0.7777777777777778,
             "#fb9f3a"
            ],
            [
             0.8888888888888888,
             "#fdca26"
            ],
            [
             1,
             "#f0f921"
            ]
           ],
           "sequentialminus": [
            [
             0,
             "#0d0887"
            ],
            [
             0.1111111111111111,
             "#46039f"
            ],
            [
             0.2222222222222222,
             "#7201a8"
            ],
            [
             0.3333333333333333,
             "#9c179e"
            ],
            [
             0.4444444444444444,
             "#bd3786"
            ],
            [
             0.5555555555555556,
             "#d8576b"
            ],
            [
             0.6666666666666666,
             "#ed7953"
            ],
            [
             0.7777777777777778,
             "#fb9f3a"
            ],
            [
             0.8888888888888888,
             "#fdca26"
            ],
            [
             1,
             "#f0f921"
            ]
           ]
          },
          "colorway": [
           "#636efa",
           "#EF553B",
           "#00cc96",
           "#ab63fa",
           "#FFA15A",
           "#19d3f3",
           "#FF6692",
           "#B6E880",
           "#FF97FF",
           "#FECB52"
          ],
          "font": {
           "color": "#2a3f5f"
          },
          "geo": {
           "bgcolor": "white",
           "lakecolor": "white",
           "landcolor": "#E5ECF6",
           "showlakes": true,
           "showland": true,
           "subunitcolor": "white"
          },
          "hoverlabel": {
           "align": "left"
          },
          "hovermode": "closest",
          "mapbox": {
           "style": "light"
          },
          "paper_bgcolor": "white",
          "plot_bgcolor": "#E5ECF6",
          "polar": {
           "angularaxis": {
            "gridcolor": "white",
            "linecolor": "white",
            "ticks": ""
           },
           "bgcolor": "#E5ECF6",
           "radialaxis": {
            "gridcolor": "white",
            "linecolor": "white",
            "ticks": ""
           }
          },
          "scene": {
           "xaxis": {
            "backgroundcolor": "#E5ECF6",
            "gridcolor": "white",
            "gridwidth": 2,
            "linecolor": "white",
            "showbackground": true,
            "ticks": "",
            "zerolinecolor": "white"
           },
           "yaxis": {
            "backgroundcolor": "#E5ECF6",
            "gridcolor": "white",
            "gridwidth": 2,
            "linecolor": "white",
            "showbackground": true,
            "ticks": "",
            "zerolinecolor": "white"
           },
           "zaxis": {
            "backgroundcolor": "#E5ECF6",
            "gridcolor": "white",
            "gridwidth": 2,
            "linecolor": "white",
            "showbackground": true,
            "ticks": "",
            "zerolinecolor": "white"
           }
          },
          "shapedefaults": {
           "line": {
            "color": "#2a3f5f"
           }
          },
          "ternary": {
           "aaxis": {
            "gridcolor": "white",
            "linecolor": "white",
            "ticks": ""
           },
           "baxis": {
            "gridcolor": "white",
            "linecolor": "white",
            "ticks": ""
           },
           "bgcolor": "#E5ECF6",
           "caxis": {
            "gridcolor": "white",
            "linecolor": "white",
            "ticks": ""
           }
          },
          "title": {
           "x": 0.05
          },
          "xaxis": {
           "automargin": true,
           "gridcolor": "white",
           "linecolor": "white",
           "ticks": "",
           "title": {
            "standoff": 15
           },
           "zerolinecolor": "white",
           "zerolinewidth": 2
          },
          "yaxis": {
           "automargin": true,
           "gridcolor": "white",
           "linecolor": "white",
           "ticks": "",
           "title": {
            "standoff": 15
           },
           "zerolinecolor": "white",
           "zerolinewidth": 2
          }
         }
        },
        "title": {
         "text": "Mapa de Confirmados COVID 19 por Pais"
        },
        "width": 900
       }
      }
     },
     "metadata": {}
    }
   ],
   "source": [
    "confirmed_melt['Fecha'] = pd.to_datetime(confirmed_melt['Fecha'])\n",
    "confirmed_melt['Fecha'] = confirmed_melt['Fecha'].dt.strftime('%m/%d/%Y')\n",
    "\n",
    "max_Fecha = confirmed_melt['Fecha'].max()\n",
    "conf_max = confirmed_melt[confirmed_melt['Fecha']== max_Fecha].copy()\n",
    "conf_max.dropna(inplace=True) #eliminar filas con valores faltantes\n",
    "\n",
    "fig = px.choropleth(conf_max, locations=\"Country/Region\", locationmode='country names', \n",
    "                     color=np.log10(conf_max[\"Confirmados\"]), hover_name=\"Country/Region\", \n",
    "                     hover_data = [\"Confirmados\"],\n",
    "                     projection=\"natural earth\", width=900,\n",
    "                     color_continuous_scale = px.colors.sequential.Jet,        \n",
    "                     title='Mapa de Confirmados COVID 19 por Pais')\n",
    "fig.add_annotation(x=0.5, y=0,text='https://joserzapata.github.io/', showarrow=False)\n",
    "fig.update(layout_coloraxis_showscale=False)\n",
    "# grabar grafica en chart-studio si se proporciona el api-key\n",
    "if api_key: py.plot(fig, filename = 'mapa_confirmados_pais', auto_open=False)\n",
    "fig.show()"
   ]
  },
  {
   "cell_type": "markdown",
   "metadata": {
    "colab_type": "text",
    "id": "dpXpgQip1lfo"
   },
   "source": [
    "# Confirmados vs Muertos por pais"
   ]
  },
  {
   "cell_type": "code",
   "execution_count": 25,
   "metadata": {
    "colab": {},
    "colab_type": "code",
    "id": "mUsTPQU63Rf_"
   },
   "outputs": [
    {
     "output_type": "display_data",
     "data": {
      "application/vnd.plotly.v1+json": {
       "config": {
        "plotlyServerURL": "https://plotly.com"
       },
       "data": [
        {
         "hovertemplate": "Country/Region=%{text}<br>Confirmados=%{marker.size}<br>Muertos=%{y}<extra></extra>",
         "legendgroup": "US",
         "marker": {
          "color": "#636efa",
          "size": [
           6977658
          ],
          "sizemode": "area",
          "sizeref": 17444.145,
          "symbol": "circle"
         },
         "mode": "markers+text",
         "name": "US",
         "orientation": "v",
         "showlegend": true,
         "text": [
          "US"
         ],
         "textposition": "top center",
         "type": "scatter",
         "x": [
          6977658
         ],
         "xaxis": "x",
         "y": [
          202798
         ],
         "yaxis": "y"
        },
        {
         "hovertemplate": "Country/Region=%{text}<br>Confirmados=%{marker.size}<br>Muertos=%{y}<extra></extra>",
         "legendgroup": "Brazil",
         "marker": {
          "color": "#EF553B",
          "size": [
           4657702
          ],
          "sizemode": "area",
          "sizeref": 17444.145,
          "symbol": "circle"
         },
         "mode": "markers+text",
         "name": "Brazil",
         "orientation": "v",
         "showlegend": true,
         "text": [
          "Brazil"
         ],
         "textposition": "top center",
         "type": "scatter",
         "x": [
          4657702
         ],
         "xaxis": "x",
         "y": [
          139808
         ],
         "yaxis": "y"
        },
        {
         "hovertemplate": "Country/Region=%{text}<br>Confirmados=%{marker.size}<br>Muertos=%{y}<extra></extra>",
         "legendgroup": "India",
         "marker": {
          "color": "#00cc96",
          "size": [
           5732518
          ],
          "sizemode": "area",
          "sizeref": 17444.145,
          "symbol": "circle"
         },
         "mode": "markers+text",
         "name": "India",
         "orientation": "v",
         "showlegend": true,
         "text": [
          "India"
         ],
         "textposition": "top center",
         "type": "scatter",
         "x": [
          5732518
         ],
         "xaxis": "x",
         "y": [
          91149
         ],
         "yaxis": "y"
        },
        {
         "hovertemplate": "Country/Region=%{text}<br>Confirmados=%{marker.size}<br>Muertos=%{y}<extra></extra>",
         "legendgroup": "Mexico",
         "marker": {
          "color": "#ab63fa",
          "size": [
           715457
          ],
          "sizemode": "area",
          "sizeref": 17444.145,
          "symbol": "circle"
         },
         "mode": "markers+text",
         "name": "Mexico",
         "orientation": "v",
         "showlegend": true,
         "text": [
          "Mexico"
         ],
         "textposition": "top center",
         "type": "scatter",
         "x": [
          715457
         ],
         "xaxis": "x",
         "y": [
          75439
         ],
         "yaxis": "y"
        },
        {
         "hovertemplate": "Country/Region=%{text}<br>Confirmados=%{marker.size}<br>Muertos=%{y}<extra></extra>",
         "legendgroup": "United Kingdom",
         "marker": {
          "color": "#FFA15A",
          "size": [
           418889
          ],
          "sizemode": "area",
          "sizeref": 17444.145,
          "symbol": "circle"
         },
         "mode": "markers+text",
         "name": "United Kingdom",
         "orientation": "v",
         "showlegend": true,
         "text": [
          "United Kingdom"
         ],
         "textposition": "top center",
         "type": "scatter",
         "x": [
          418889
         ],
         "xaxis": "x",
         "y": [
          41991
         ],
         "yaxis": "y"
        },
        {
         "hovertemplate": "Country/Region=%{text}<br>Confirmados=%{marker.size}<br>Muertos=%{y}<extra></extra>",
         "legendgroup": "Italy",
         "marker": {
          "color": "#19d3f3",
          "size": [
           304323
          ],
          "sizemode": "area",
          "sizeref": 17444.145,
          "symbol": "circle"
         },
         "mode": "markers+text",
         "name": "Italy",
         "orientation": "v",
         "showlegend": true,
         "text": [
          "Italy"
         ],
         "textposition": "top center",
         "type": "scatter",
         "x": [
          304323
         ],
         "xaxis": "x",
         "y": [
          35781
         ],
         "yaxis": "y"
        },
        {
         "hovertemplate": "Country/Region=%{text}<br>Confirmados=%{marker.size}<br>Muertos=%{y}<extra></extra>",
         "legendgroup": "Peru",
         "marker": {
          "color": "#FF6692",
          "size": [
           782695
          ],
          "sizemode": "area",
          "sizeref": 17444.145,
          "symbol": "circle"
         },
         "mode": "markers+text",
         "name": "Peru",
         "orientation": "v",
         "showlegend": true,
         "text": [
          "Peru"
         ],
         "textposition": "top center",
         "type": "scatter",
         "x": [
          782695
         ],
         "xaxis": "x",
         "y": [
          31870
         ],
         "yaxis": "y"
        },
        {
         "hovertemplate": "Country/Region=%{text}<br>Confirmados=%{marker.size}<br>Muertos=%{y}<extra></extra>",
         "legendgroup": "France",
         "marker": {
          "color": "#B6E880",
          "size": [
           536289
          ],
          "sizemode": "area",
          "sizeref": 17444.145,
          "symbol": "circle"
         },
         "mode": "markers+text",
         "name": "France",
         "orientation": "v",
         "showlegend": true,
         "text": [
          "France"
         ],
         "textposition": "top center",
         "type": "scatter",
         "x": [
          536289
         ],
         "xaxis": "x",
         "y": [
          31524
         ],
         "yaxis": "y"
        },
        {
         "hovertemplate": "Country/Region=%{text}<br>Confirmados=%{marker.size}<br>Muertos=%{y}<extra></extra>",
         "legendgroup": "Spain",
         "marker": {
          "color": "#FF97FF",
          "size": [
           704209
          ],
          "sizemode": "area",
          "sizeref": 17444.145,
          "symbol": "circle"
         },
         "mode": "markers+text",
         "name": "Spain",
         "orientation": "v",
         "showlegend": true,
         "text": [
          "Spain"
         ],
         "textposition": "top center",
         "type": "scatter",
         "x": [
          704209
         ],
         "xaxis": "x",
         "y": [
          31118
         ],
         "yaxis": "y"
        },
        {
         "hovertemplate": "Country/Region=%{text}<br>Confirmados=%{marker.size}<br>Muertos=%{y}<extra></extra>",
         "legendgroup": "Iran",
         "marker": {
          "color": "#FECB52",
          "size": [
           436319
          ],
          "sizemode": "area",
          "sizeref": 17444.145,
          "symbol": "circle"
         },
         "mode": "markers+text",
         "name": "Iran",
         "orientation": "v",
         "showlegend": true,
         "text": [
          "Iran"
         ],
         "textposition": "top center",
         "type": "scatter",
         "x": [
          436319
         ],
         "xaxis": "x",
         "y": [
          25015
         ],
         "yaxis": "y"
        },
        {
         "hovertemplate": "Country/Region=%{text}<br>Confirmados=%{marker.size}<br>Muertos=%{y}<extra></extra>",
         "legendgroup": "Colombia",
         "marker": {
          "color": "#636efa",
          "size": [
           790823
          ],
          "sizemode": "area",
          "sizeref": 17444.145,
          "symbol": "circle"
         },
         "mode": "markers+text",
         "name": "Colombia",
         "orientation": "v",
         "showlegend": true,
         "text": [
          "Colombia"
         ],
         "textposition": "top center",
         "type": "scatter",
         "x": [
          790823
         ],
         "xaxis": "x",
         "y": [
          24746
         ],
         "yaxis": "y"
        },
        {
         "hovertemplate": "Country/Region=%{text}<br>Confirmados=%{marker.size}<br>Muertos=%{y}<extra></extra>",
         "legendgroup": "Russia",
         "marker": {
          "color": "#EF553B",
          "size": [
           1123976
          ],
          "sizemode": "area",
          "sizeref": 17444.145,
          "symbol": "circle"
         },
         "mode": "markers+text",
         "name": "Russia",
         "orientation": "v",
         "showlegend": true,
         "text": [
          "Russia"
         ],
         "textposition": "top center",
         "type": "scatter",
         "x": [
          1123976
         ],
         "xaxis": "x",
         "y": [
          19867
         ],
         "yaxis": "y"
        },
        {
         "hovertemplate": "Country/Region=%{text}<br>Confirmados=%{marker.size}<br>Muertos=%{y}<extra></extra>",
         "legendgroup": "South Africa",
         "marker": {
          "color": "#00cc96",
          "size": [
           667049
          ],
          "sizemode": "area",
          "sizeref": 17444.145,
          "symbol": "circle"
         },
         "mode": "markers+text",
         "name": "South Africa",
         "orientation": "v",
         "showlegend": true,
         "text": [
          "South Africa"
         ],
         "textposition": "top center",
         "type": "scatter",
         "x": [
          667049
         ],
         "xaxis": "x",
         "y": [
          16283
         ],
         "yaxis": "y"
        },
        {
         "hovertemplate": "Country/Region=%{text}<br>Confirmados=%{marker.size}<br>Muertos=%{y}<extra></extra>",
         "legendgroup": "Argentina",
         "marker": {
          "color": "#ab63fa",
          "size": [
           678266
          ],
          "sizemode": "area",
          "sizeref": 17444.145,
          "symbol": "circle"
         },
         "mode": "markers+text",
         "name": "Argentina",
         "orientation": "v",
         "showlegend": true,
         "text": [
          "Argentina"
         ],
         "textposition": "top center",
         "type": "scatter",
         "x": [
          678266
         ],
         "xaxis": "x",
         "y": [
          14766
         ],
         "yaxis": "y"
        },
        {
         "hovertemplate": "Country/Region=%{text}<br>Confirmados=%{marker.size}<br>Muertos=%{y}<extra></extra>",
         "legendgroup": "Chile",
         "marker": {
          "color": "#FFA15A",
          "size": [
           451634
          ],
          "sizemode": "area",
          "sizeref": 17444.145,
          "symbol": "circle"
         },
         "mode": "markers+text",
         "name": "Chile",
         "orientation": "v",
         "showlegend": true,
         "text": [
          "Chile"
         ],
         "textposition": "top center",
         "type": "scatter",
         "x": [
          451634
         ],
         "xaxis": "x",
         "y": [
          12469
         ],
         "yaxis": "y"
        }
       ],
       "layout": {
        "annotations": [
         {
          "showarrow": false,
          "text": "https://joserzapata.github.io/",
          "x": 0.5,
          "xref": "paper",
          "y": 1,
          "yref": "paper"
         }
        ],
        "height": 500,
        "legend": {
         "itemsizing": "constant",
         "title": {
          "text": "Country/Region"
         },
         "tracegroupgap": 0
        },
        "showlegend": false,
        "template": {
         "data": {
          "bar": [
           {
            "error_x": {
             "color": "#2a3f5f"
            },
            "error_y": {
             "color": "#2a3f5f"
            },
            "marker": {
             "line": {
              "color": "#E5ECF6",
              "width": 0.5
             }
            },
            "type": "bar"
           }
          ],
          "barpolar": [
           {
            "marker": {
             "line": {
              "color": "#E5ECF6",
              "width": 0.5
             }
            },
            "type": "barpolar"
           }
          ],
          "carpet": [
           {
            "aaxis": {
             "endlinecolor": "#2a3f5f",
             "gridcolor": "white",
             "linecolor": "white",
             "minorgridcolor": "white",
             "startlinecolor": "#2a3f5f"
            },
            "baxis": {
             "endlinecolor": "#2a3f5f",
             "gridcolor": "white",
             "linecolor": "white",
             "minorgridcolor": "white",
             "startlinecolor": "#2a3f5f"
            },
            "type": "carpet"
           }
          ],
          "choropleth": [
           {
            "colorbar": {
             "outlinewidth": 0,
             "ticks": ""
            },
            "type": "choropleth"
           }
          ],
          "contour": [
           {
            "colorbar": {
             "outlinewidth": 0,
             "ticks": ""
            },
            "colorscale": [
             [
              0,
              "#0d0887"
             ],
             [
              0.1111111111111111,
              "#46039f"
             ],
             [
              0.2222222222222222,
              "#7201a8"
             ],
             [
              0.3333333333333333,
              "#9c179e"
             ],
             [
              0.4444444444444444,
              "#bd3786"
             ],
             [
              0.5555555555555556,
              "#d8576b"
             ],
             [
              0.6666666666666666,
              "#ed7953"
             ],
             [
              0.7777777777777778,
              "#fb9f3a"
             ],
             [
              0.8888888888888888,
              "#fdca26"
             ],
             [
              1,
              "#f0f921"
             ]
            ],
            "type": "contour"
           }
          ],
          "contourcarpet": [
           {
            "colorbar": {
             "outlinewidth": 0,
             "ticks": ""
            },
            "type": "contourcarpet"
           }
          ],
          "heatmap": [
           {
            "colorbar": {
             "outlinewidth": 0,
             "ticks": ""
            },
            "colorscale": [
             [
              0,
              "#0d0887"
             ],
             [
              0.1111111111111111,
              "#46039f"
             ],
             [
              0.2222222222222222,
              "#7201a8"
             ],
             [
              0.3333333333333333,
              "#9c179e"
             ],
             [
              0.4444444444444444,
              "#bd3786"
             ],
             [
              0.5555555555555556,
              "#d8576b"
             ],
             [
              0.6666666666666666,
              "#ed7953"
             ],
             [
              0.7777777777777778,
              "#fb9f3a"
             ],
             [
              0.8888888888888888,
              "#fdca26"
             ],
             [
              1,
              "#f0f921"
             ]
            ],
            "type": "heatmap"
           }
          ],
          "heatmapgl": [
           {
            "colorbar": {
             "outlinewidth": 0,
             "ticks": ""
            },
            "colorscale": [
             [
              0,
              "#0d0887"
             ],
             [
              0.1111111111111111,
              "#46039f"
             ],
             [
              0.2222222222222222,
              "#7201a8"
             ],
             [
              0.3333333333333333,
              "#9c179e"
             ],
             [
              0.4444444444444444,
              "#bd3786"
             ],
             [
              0.5555555555555556,
              "#d8576b"
             ],
             [
              0.6666666666666666,
              "#ed7953"
             ],
             [
              0.7777777777777778,
              "#fb9f3a"
             ],
             [
              0.8888888888888888,
              "#fdca26"
             ],
             [
              1,
              "#f0f921"
             ]
            ],
            "type": "heatmapgl"
           }
          ],
          "histogram": [
           {
            "marker": {
             "colorbar": {
              "outlinewidth": 0,
              "ticks": ""
             }
            },
            "type": "histogram"
           }
          ],
          "histogram2d": [
           {
            "colorbar": {
             "outlinewidth": 0,
             "ticks": ""
            },
            "colorscale": [
             [
              0,
              "#0d0887"
             ],
             [
              0.1111111111111111,
              "#46039f"
             ],
             [
              0.2222222222222222,
              "#7201a8"
             ],
             [
              0.3333333333333333,
              "#9c179e"
             ],
             [
              0.4444444444444444,
              "#bd3786"
             ],
             [
              0.5555555555555556,
              "#d8576b"
             ],
             [
              0.6666666666666666,
              "#ed7953"
             ],
             [
              0.7777777777777778,
              "#fb9f3a"
             ],
             [
              0.8888888888888888,
              "#fdca26"
             ],
             [
              1,
              "#f0f921"
             ]
            ],
            "type": "histogram2d"
           }
          ],
          "histogram2dcontour": [
           {
            "colorbar": {
             "outlinewidth": 0,
             "ticks": ""
            },
            "colorscale": [
             [
              0,
              "#0d0887"
             ],
             [
              0.1111111111111111,
              "#46039f"
             ],
             [
              0.2222222222222222,
              "#7201a8"
             ],
             [
              0.3333333333333333,
              "#9c179e"
             ],
             [
              0.4444444444444444,
              "#bd3786"
             ],
             [
              0.5555555555555556,
              "#d8576b"
             ],
             [
              0.6666666666666666,
              "#ed7953"
             ],
             [
              0.7777777777777778,
              "#fb9f3a"
             ],
             [
              0.8888888888888888,
              "#fdca26"
             ],
             [
              1,
              "#f0f921"
             ]
            ],
            "type": "histogram2dcontour"
           }
          ],
          "mesh3d": [
           {
            "colorbar": {
             "outlinewidth": 0,
             "ticks": ""
            },
            "type": "mesh3d"
           }
          ],
          "parcoords": [
           {
            "line": {
             "colorbar": {
              "outlinewidth": 0,
              "ticks": ""
             }
            },
            "type": "parcoords"
           }
          ],
          "pie": [
           {
            "automargin": true,
            "type": "pie"
           }
          ],
          "scatter": [
           {
            "marker": {
             "colorbar": {
              "outlinewidth": 0,
              "ticks": ""
             }
            },
            "type": "scatter"
           }
          ],
          "scatter3d": [
           {
            "line": {
             "colorbar": {
              "outlinewidth": 0,
              "ticks": ""
             }
            },
            "marker": {
             "colorbar": {
              "outlinewidth": 0,
              "ticks": ""
             }
            },
            "type": "scatter3d"
           }
          ],
          "scattercarpet": [
           {
            "marker": {
             "colorbar": {
              "outlinewidth": 0,
              "ticks": ""
             }
            },
            "type": "scattercarpet"
           }
          ],
          "scattergeo": [
           {
            "marker": {
             "colorbar": {
              "outlinewidth": 0,
              "ticks": ""
             }
            },
            "type": "scattergeo"
           }
          ],
          "scattergl": [
           {
            "marker": {
             "colorbar": {
              "outlinewidth": 0,
              "ticks": ""
             }
            },
            "type": "scattergl"
           }
          ],
          "scattermapbox": [
           {
            "marker": {
             "colorbar": {
              "outlinewidth": 0,
              "ticks": ""
             }
            },
            "type": "scattermapbox"
           }
          ],
          "scatterpolar": [
           {
            "marker": {
             "colorbar": {
              "outlinewidth": 0,
              "ticks": ""
             }
            },
            "type": "scatterpolar"
           }
          ],
          "scatterpolargl": [
           {
            "marker": {
             "colorbar": {
              "outlinewidth": 0,
              "ticks": ""
             }
            },
            "type": "scatterpolargl"
           }
          ],
          "scatterternary": [
           {
            "marker": {
             "colorbar": {
              "outlinewidth": 0,
              "ticks": ""
             }
            },
            "type": "scatterternary"
           }
          ],
          "surface": [
           {
            "colorbar": {
             "outlinewidth": 0,
             "ticks": ""
            },
            "colorscale": [
             [
              0,
              "#0d0887"
             ],
             [
              0.1111111111111111,
              "#46039f"
             ],
             [
              0.2222222222222222,
              "#7201a8"
             ],
             [
              0.3333333333333333,
              "#9c179e"
             ],
             [
              0.4444444444444444,
              "#bd3786"
             ],
             [
              0.5555555555555556,
              "#d8576b"
             ],
             [
              0.6666666666666666,
              "#ed7953"
             ],
             [
              0.7777777777777778,
              "#fb9f3a"
             ],
             [
              0.8888888888888888,
              "#fdca26"
             ],
             [
              1,
              "#f0f921"
             ]
            ],
            "type": "surface"
           }
          ],
          "table": [
           {
            "cells": {
             "fill": {
              "color": "#EBF0F8"
             },
             "line": {
              "color": "white"
             }
            },
            "header": {
             "fill": {
              "color": "#C8D4E3"
             },
             "line": {
              "color": "white"
             }
            },
            "type": "table"
           }
          ]
         },
         "layout": {
          "annotationdefaults": {
           "arrowcolor": "#2a3f5f",
           "arrowhead": 0,
           "arrowwidth": 1
          },
          "coloraxis": {
           "colorbar": {
            "outlinewidth": 0,
            "ticks": ""
           }
          },
          "colorscale": {
           "diverging": [
            [
             0,
             "#8e0152"
            ],
            [
             0.1,
             "#c51b7d"
            ],
            [
             0.2,
             "#de77ae"
            ],
            [
             0.3,
             "#f1b6da"
            ],
            [
             0.4,
             "#fde0ef"
            ],
            [
             0.5,
             "#f7f7f7"
            ],
            [
             0.6,
             "#e6f5d0"
            ],
            [
             0.7,
             "#b8e186"
            ],
            [
             0.8,
             "#7fbc41"
            ],
            [
             0.9,
             "#4d9221"
            ],
            [
             1,
             "#276419"
            ]
           ],
           "sequential": [
            [
             0,
             "#0d0887"
            ],
            [
             0.1111111111111111,
             "#46039f"
            ],
            [
             0.2222222222222222,
             "#7201a8"
            ],
            [
             0.3333333333333333,
             "#9c179e"
            ],
            [
             0.4444444444444444,
             "#bd3786"
            ],
            [
             0.5555555555555556,
             "#d8576b"
            ],
            [
             0.6666666666666666,
             "#ed7953"
            ],
            [
             0.7777777777777778,
             "#fb9f3a"
            ],
            [
             0.8888888888888888,
             "#fdca26"
            ],
            [
             1,
             "#f0f921"
            ]
           ],
           "sequentialminus": [
            [
             0,
             "#0d0887"
            ],
            [
             0.1111111111111111,
             "#46039f"
            ],
            [
             0.2222222222222222,
             "#7201a8"
            ],
            [
             0.3333333333333333,
             "#9c179e"
            ],
            [
             0.4444444444444444,
             "#bd3786"
            ],
            [
             0.5555555555555556,
             "#d8576b"
            ],
            [
             0.6666666666666666,
             "#ed7953"
            ],
            [
             0.7777777777777778,
             "#fb9f3a"
            ],
            [
             0.8888888888888888,
             "#fdca26"
            ],
            [
             1,
             "#f0f921"
            ]
           ]
          },
          "colorway": [
           "#636efa",
           "#EF553B",
           "#00cc96",
           "#ab63fa",
           "#FFA15A",
           "#19d3f3",
           "#FF6692",
           "#B6E880",
           "#FF97FF",
           "#FECB52"
          ],
          "font": {
           "color": "#2a3f5f"
          },
          "geo": {
           "bgcolor": "white",
           "lakecolor": "white",
           "landcolor": "#E5ECF6",
           "showlakes": true,
           "showland": true,
           "subunitcolor": "white"
          },
          "hoverlabel": {
           "align": "left"
          },
          "hovermode": "closest",
          "mapbox": {
           "style": "light"
          },
          "paper_bgcolor": "white",
          "plot_bgcolor": "#E5ECF6",
          "polar": {
           "angularaxis": {
            "gridcolor": "white",
            "linecolor": "white",
            "ticks": ""
           },
           "bgcolor": "#E5ECF6",
           "radialaxis": {
            "gridcolor": "white",
            "linecolor": "white",
            "ticks": ""
           }
          },
          "scene": {
           "xaxis": {
            "backgroundcolor": "#E5ECF6",
            "gridcolor": "white",
            "gridwidth": 2,
            "linecolor": "white",
            "showbackground": true,
            "ticks": "",
            "zerolinecolor": "white"
           },
           "yaxis": {
            "backgroundcolor": "#E5ECF6",
            "gridcolor": "white",
            "gridwidth": 2,
            "linecolor": "white",
            "showbackground": true,
            "ticks": "",
            "zerolinecolor": "white"
           },
           "zaxis": {
            "backgroundcolor": "#E5ECF6",
            "gridcolor": "white",
            "gridwidth": 2,
            "linecolor": "white",
            "showbackground": true,
            "ticks": "",
            "zerolinecolor": "white"
           }
          },
          "shapedefaults": {
           "line": {
            "color": "#2a3f5f"
           }
          },
          "ternary": {
           "aaxis": {
            "gridcolor": "white",
            "linecolor": "white",
            "ticks": ""
           },
           "baxis": {
            "gridcolor": "white",
            "linecolor": "white",
            "ticks": ""
           },
           "bgcolor": "#E5ECF6",
           "caxis": {
            "gridcolor": "white",
            "linecolor": "white",
            "ticks": ""
           }
          },
          "title": {
           "x": 0.05
          },
          "xaxis": {
           "automargin": true,
           "gridcolor": "white",
           "linecolor": "white",
           "ticks": "",
           "title": {
            "standoff": 15
           },
           "zerolinecolor": "white",
           "zerolinewidth": 2
          },
          "yaxis": {
           "automargin": true,
           "gridcolor": "white",
           "linecolor": "white",
           "ticks": "",
           "title": {
            "standoff": 15
           },
           "zerolinecolor": "white",
           "zerolinewidth": 2
          }
         }
        },
        "title": {
         "text": "Muertos vs Confirmados - 09/24/2020 - (15 Paises)"
        },
        "width": 900,
        "xaxis": {
         "anchor": "y",
         "domain": [
          0,
          1
         ],
         "title": {
          "text": "Confirmados"
         },
         "type": "log"
        },
        "yaxis": {
         "anchor": "x",
         "domain": [
          0,
          1
         ],
         "title": {
          "text": "Muertos"
         },
         "type": "log"
        }
       }
      }
     },
     "metadata": {}
    }
   ],
   "source": [
    "death_melt['Fecha'] = pd.to_datetime(death_melt['Fecha'])\n",
    "death_melt['Fecha'] = death_melt['Fecha'].dt.strftime('%m/%d/%Y')\n",
    "\n",
    "max_Fecha = death_melt['Fecha'].max()\n",
    "death_max = death_melt[death_melt['Fecha']== max_Fecha].copy()\n",
    "death_max.dropna(inplace=True) #eliminar filas con valores faltantes\n",
    "maxi_y = death_max[\"Muertos\"].max()\n",
    "maxi_x = conf_max[\"Confirmados\"].max()\n",
    "\n",
    "full_melt_max = pd.merge(conf_max[['Country/Region','Confirmados']],\n",
    "                         death_max[['Country/Region','Muertos']],\n",
    "                         on='Country/Region', how='left')\n",
    "\n",
    "fig = px.scatter(full_melt_max.sort_values('Muertos', ascending=False).iloc[:15, :], \n",
    "                 x='Confirmados', y='Muertos', color='Country/Region', size='Confirmados', height=500,width=900,\n",
    "                 text='Country/Region', log_x=True, log_y=True, title= f'Muertos vs Confirmados - {max_Fecha} - (15 Paises)'                   )\n",
    "fig.add_annotation(x=0.5, y=1, xref=\"paper\",yref=\"paper\",text='https://joserzapata.github.io/', showarrow=False)                 \n",
    "fig.update_traces(textposition='top center')\n",
    "fig.layout.update(showlegend = False)\n",
    "\n",
    "# grabar grafica en chart-studio si se proporciona el api-key\n",
    "if api_key: py.plot(fig, filename = 'scatter_muertos_confirmados', auto_open=False)\n",
    "fig.show()"
   ]
  },
  {
   "cell_type": "code",
   "execution_count": 27,
   "metadata": {},
   "outputs": [
    {
     "output_type": "execute_result",
     "data": {
      "text/plain": "       country continent  year  lifeExp       pop   gdpPercap iso_alpha  \\\n0  Afghanistan      Asia  1952   28.801   8425333  779.445314       AFG   \n1  Afghanistan      Asia  1957   30.332   9240934  820.853030       AFG   \n2  Afghanistan      Asia  1962   31.997  10267083  853.100710       AFG   \n3  Afghanistan      Asia  1967   34.020  11537966  836.197138       AFG   \n4  Afghanistan      Asia  1972   36.088  13079460  739.981106       AFG   \n\n   iso_num  \n0        4  \n1        4  \n2        4  \n3        4  \n4        4  ",
      "text/html": "<div>\n<style scoped>\n    .dataframe tbody tr th:only-of-type {\n        vertical-align: middle;\n    }\n\n    .dataframe tbody tr th {\n        vertical-align: top;\n    }\n\n    .dataframe thead th {\n        text-align: right;\n    }\n</style>\n<table border=\"1\" class=\"dataframe\">\n  <thead>\n    <tr style=\"text-align: right;\">\n      <th></th>\n      <th>country</th>\n      <th>continent</th>\n      <th>year</th>\n      <th>lifeExp</th>\n      <th>pop</th>\n      <th>gdpPercap</th>\n      <th>iso_alpha</th>\n      <th>iso_num</th>\n    </tr>\n  </thead>\n  <tbody>\n    <tr>\n      <th>0</th>\n      <td>Afghanistan</td>\n      <td>Asia</td>\n      <td>1952</td>\n      <td>28.801</td>\n      <td>8425333</td>\n      <td>779.445314</td>\n      <td>AFG</td>\n      <td>4</td>\n    </tr>\n    <tr>\n      <th>1</th>\n      <td>Afghanistan</td>\n      <td>Asia</td>\n      <td>1957</td>\n      <td>30.332</td>\n      <td>9240934</td>\n      <td>820.853030</td>\n      <td>AFG</td>\n      <td>4</td>\n    </tr>\n    <tr>\n      <th>2</th>\n      <td>Afghanistan</td>\n      <td>Asia</td>\n      <td>1962</td>\n      <td>31.997</td>\n      <td>10267083</td>\n      <td>853.100710</td>\n      <td>AFG</td>\n      <td>4</td>\n    </tr>\n    <tr>\n      <th>3</th>\n      <td>Afghanistan</td>\n      <td>Asia</td>\n      <td>1967</td>\n      <td>34.020</td>\n      <td>11537966</td>\n      <td>836.197138</td>\n      <td>AFG</td>\n      <td>4</td>\n    </tr>\n    <tr>\n      <th>4</th>\n      <td>Afghanistan</td>\n      <td>Asia</td>\n      <td>1972</td>\n      <td>36.088</td>\n      <td>13079460</td>\n      <td>739.981106</td>\n      <td>AFG</td>\n      <td>4</td>\n    </tr>\n  </tbody>\n</table>\n</div>"
     },
     "metadata": {},
     "execution_count": 27
    }
   ],
   "source": [
    "df = px.data.gapminder()\n",
    "df.head()"
   ]
  },
  {
   "cell_type": "code",
   "execution_count": null,
   "metadata": {},
   "outputs": [],
   "source": []
  },
  {
   "cell_type": "code",
   "execution_count": null,
   "metadata": {},
   "outputs": [],
   "source": []
  },
  {
   "cell_type": "code",
   "execution_count": null,
   "metadata": {},
   "outputs": [],
   "source": []
  },
  {
   "cell_type": "code",
   "execution_count": null,
   "metadata": {},
   "outputs": [],
   "source": []
  },
  {
   "cell_type": "code",
   "execution_count": null,
   "metadata": {},
   "outputs": [],
   "source": []
  },
  {
   "cell_type": "markdown",
   "metadata": {
    "colab_type": "text",
    "id": "3b83uuD9G0yg"
   },
   "source": [
    "## Progresion Mundial en el Tiempo del numero de casos\n"
   ]
  },
  {
   "cell_type": "code",
   "execution_count": null,
   "metadata": {
    "colab": {},
    "colab_type": "code",
    "id": "OUcnRkN9lqLk"
   },
   "outputs": [],
   "source": [
    "world_melt = world.melt(id_vars='Fecha', value_vars= list(world.columns)[1:], var_name=None)\n",
    "\n",
    "fig = px.line(world_melt, x=\"Fecha\", y= 'value',\n",
    "              color='variable',  color_discrete_sequence=[\"teal\",\"green\",\"coral\", \"navy\"],\n",
    "              title=f'Total de Casos en el tiempo de COVID 19 - {world.iloc[-1,0]}')\n",
    "for n in list(world.columns)[1:]:\n",
    "  fig.add_annotation(x=world.iloc[-1,0], y=world.loc[world.index[-1],n],\n",
    "                     text=n, xref=\"x\",yref=\"y\",\n",
    "                     showarrow=True, ax=-50, ay=-20)\n",
    "# Indicador de numero total de confirmados\n",
    "fig.add_indicator( title= {'text':'Confirmados', 'font':{'color':'teal'}},\n",
    "                  value = world['Confirmados'].iloc[-1],\n",
    "                  mode = \"number+delta\", delta = {\"reference\": world['Confirmados'\n",
    "                  ].iloc[-2], 'relative': True },domain = {'x': [0, 0.25], 'y': [0.15, .4]})\n",
    "#Indicador numero total de Activos\n",
    "fig.add_indicator(title={'text':'Activos', 'font':{'color':'navy'}},\n",
    "                  value = world['Activos'].iloc[-1],\n",
    "                  mode = \"number+delta\", delta = {\"reference\": world['Activos'\n",
    "                  ].iloc[-2], 'relative': True },domain = {'x': [0, 0.25], 'y': [0.6, .85]})\n",
    "#Indicador numero total de Recuperados\n",
    "fig.add_indicator(title={'text':'Recuperados', 'font':{'color':'green'}},\n",
    "                  value = world['Recuperados'].iloc[-1],\n",
    "                  mode = \"number+delta\", delta = {\"reference\": world['Recuperados'\n",
    "                  ].iloc[-2], 'relative': True },domain = {'x': [0.25, 0.50], 'y': [0.6, .85]}) \n",
    "#Indicador numero total de muertos\n",
    "fig.add_indicator(title={'text':'Muertos', 'font':{'color':'coral'}}, \n",
    "                  value = world['Muertos'].iloc[-1],\n",
    "                  mode = \"number+delta\", delta = {\"reference\": world['Muertos'\n",
    "                  ].iloc[-2], 'relative': True },domain = {'x': [0.25, 0.5], 'y': [0.15, .4]})\n",
    "fig.add_annotation(x=80, y=world_melt['value'].max(),\n",
    "                   text='https://joserzapata.github.io/', showarrow=False)\n",
    "fig.layout.update(showlegend = False,\n",
    "                  yaxis =  {\"title\": {\"text\": \"Numero de Personas\"}}, # Cambiar texto eje y\n",
    "                  )\n",
    "# grabar grafica en chart-studio si se proporciona el api-key\n",
    "if api_key: py.plot(fig, filename = 'total_casos_serie', auto_open=False)\n",
    "fig.show()"
   ]
  },
  {
   "cell_type": "markdown",
   "metadata": {
    "colab_type": "text",
    "id": "o-ong5NYHCsT"
   },
   "source": [
    "## Total Casos Confirmados de COVID 19 por Pais\n"
   ]
  },
  {
   "cell_type": "code",
   "execution_count": null,
   "metadata": {
    "colab": {},
    "colab_type": "code",
    "id": "iSsXyRwJN8_X"
   },
   "outputs": [],
   "source": [
    "df1 = confirmed_group.copy()\n",
    "# Cambiar el nombre de la columna\n",
    "df1.rename(columns = {'date':'Fecha'}, inplace = True) \n",
    "\n",
    "if api_key:\n",
    "    # se toman la serie de tiempo cada 2 dias, por que las graficas\n",
    "    # grandes no se pueden subir a chart-studio con subscripcion gratuita\n",
    "    df1 = df1.iloc[::-2].iloc[::-1]\n",
    "    \n",
    "df_melt = df1.melt(id_vars='Fecha', value_vars= list(df1.columns)[1:], var_name=None)\n",
    "\n",
    "fig = px.line(df_melt, x='Fecha' , y='value', color='Country/Region',\n",
    "              color_discrete_sequence=px.colors.qualitative.G10, width=900,\n",
    "              title=f'Total Casos Confirmados de COVID 19 por Pais - {world.iloc[-1,0]}')\n",
    "# 8 paises mas infectados\n",
    "fecha = df1['Fecha'].iloc[-1] #obtener la fecha del ultimo dato\n",
    "paises = df1.iloc[-1,1:] #obtener la serie sin el primer dato, fecha\n",
    "paises.sort_values(ascending=False, inplace=True)\n",
    "mas_infectados=[]\n",
    "for n in range(8):\n",
    "  fig.add_annotation(x=fecha, y=paises[n], text=paises.index[n],\n",
    "                     showarrow=True, ax=+30, xref=\"x\",yref=\"y\")\n",
    "  mas_infectados.append(paises.index[n])\n",
    "    \n",
    "fig.layout.update(showlegend=False,\n",
    "                  yaxis =  {\"title\": {\"text\": \"Numero de Personas\"}}, # Cambiar texto eje y\n",
    "                  )\n",
    "fig.add_annotation(x=60, y=df_melt['value'].max(),\n",
    "                   text='https://joserzapata.github.io/', showarrow=False)\n",
    "# grabar grafica en chart-studio si se proporciona el api-key\n",
    "if api_key: py.plot(fig, filename = 'total_casos_no_china', auto_open=False)\n",
    "fig.show()"
   ]
  },
  {
   "cell_type": "markdown",
   "metadata": {
    "colab_type": "text",
    "id": "q2wii5D2IbAR"
   },
   "source": [
    "## Total Casos Confirmados de COVID 19 por Pais (Excluyendo los 8 mas infectados)"
   ]
  },
  {
   "cell_type": "code",
   "execution_count": null,
   "metadata": {
    "colab": {},
    "colab_type": "code",
    "id": "MmP8VOi9YVNK"
   },
   "outputs": [],
   "source": [
    "df2 = confirmed_group.drop(columns=mas_infectados).copy()\n",
    "# Cambiar el nombre de la columna\n",
    "df2.rename(columns = {'date':'Fecha'}, inplace = True)\n",
    "if api_key:\n",
    "    # se toman la serie de tiempo cada 2 dias, por que las graficas\n",
    "    # grandes no se pueden subir a chart-studio con subscripcion gratuita\n",
    "    df2 = df2.iloc[::-2].iloc[::-1] \n",
    "\n",
    "df_melt2 = df2.melt(id_vars='Fecha', value_vars= list(df2.columns)[1:], var_name=None)\n",
    "fig = px.line(df_melt2, x='Fecha' , y='value', color='Country/Region',\n",
    "              color_discrete_sequence=px.colors.qualitative.G10, width=900,\n",
    "              title=f'Total Casos Confirmados de COVID 19 por Pais (Excluyendo los 8 mas infectados) - {world.iloc[-1,0]}')\n",
    "\n",
    "fecha = df2['Fecha'].iloc[-1] #obtener la fecha del ultimo dato\n",
    "paises = df2.iloc[-1,1:] #obtener la serie sin el primer dato, fecha\n",
    "paises.sort_values(ascending=False, inplace=True)\n",
    "for n in range(8):\n",
    "  fig.add_annotation(x=fecha, y=paises[n], text=paises.index[n],\n",
    "                     showarrow=True, ax=+30,xref=\"x\", yref=\"y\")\n",
    "fig.add_annotation(x=60, y=df_melt2['value'].max(),\n",
    "                   text='https://joserzapata.github.io/', showarrow=False)\n",
    "fig.layout.update(showlegend=False,\n",
    "                  yaxis =  {\"title\": {\"text\": \"Numero de Personas\"}}, # Cambiar texto eje y\n",
    "                  )\n",
    "# grabar grafica en chart-studio si se proporciona el api-key\n",
    "if api_key: py.plot(fig, filename = 'total_casos_no_8_infectados', auto_open=False)\n",
    "fig.show()"
   ]
  },
  {
   "cell_type": "markdown",
   "metadata": {
    "colab_type": "text",
    "id": "gPDj3HYfKBIJ"
   },
   "source": [
    "# Animacion del Mapa de Evolucion Temporal del Codiv 19"
   ]
  },
  {
   "cell_type": "code",
   "execution_count": null,
   "metadata": {
    "colab": {},
    "colab_type": "code",
    "id": "AQxF9NDpKHtS"
   },
   "outputs": [],
   "source": [
    "if api_key:\n",
    "    # se toman la serie de tiempo cada 5 dias, por que las graficas\n",
    "    # grandes no se pueden subir a chart-studio con subscripcion gratuita\n",
    "    confirmed_melt = confirmed_group.iloc[::-5].iloc[::-1].melt(id_vars=\"date\").copy()\n",
    "    confirmed_melt.rename(columns = {'value':'Confirmados', 'date':'Fecha'}, inplace = True)\n",
    "\n",
    "confirmed_melt['Fecha'] = pd.to_datetime(confirmed_melt['Fecha'])\n",
    "confirmed_melt['Fecha'] = confirmed_melt['Fecha'].dt.strftime('%m/%d/%Y')\n",
    "confirmed_melt['size'] = confirmed_melt['Confirmados'].pow(0.3)\n",
    "confirmed_melt.dropna(inplace=True) #eliminar filas con valores faltantes\n",
    "\n",
    "fig = px.scatter_geo(confirmed_melt, locations=\"Country/Region\", locationmode='country names', \n",
    "                     color=\"Confirmados\", size='size', hover_name=\"Country/Region\", \n",
    "                     range_color= [0, max(confirmed_melt['Confirmados'])+2], \n",
    "                     projection=\"natural earth\", animation_frame=\"Fecha\", \n",
    "                     title='Contagiados COVID 19 en el Tiempo')\n",
    "fig.update(layout_coloraxis_showscale=False)\n",
    "fig.add_annotation(x=0.5, y=-0.1,text='https://joserzapata.github.io/', showarrow=False)\n",
    "# grabar grafica en chart-studio si se proporciona el api-key\n",
    "if api_key: py.plot(fig, filename = 'mapa_evolucion_temporal', auto_open=False)\n",
    "fig.show()"
   ]
  },
  {
   "cell_type": "markdown",
   "metadata": {
    "colab_type": "text",
    "id": "CU-c2Nw6jH2v"
   },
   "source": [
    "## Numero de Casos COVID 19 en Colombia"
   ]
  },
  {
   "cell_type": "code",
   "execution_count": null,
   "metadata": {
    "colab": {},
    "colab_type": "code",
    "id": "NJL6KgRTjG6g"
   },
   "outputs": [],
   "source": [
    "column_names = [\"Fecha\", \"Confirmados\", \"Recuperados\",\"Muertos\", \"Activos\"]\n",
    "colombia = pd.DataFrame(columns = column_names)\n",
    "colombia['Fecha'] = confirmed_group['date']\n",
    "colombia['Confirmados'] = confirmed_group['Colombia']\n",
    "colombia['Muertos'] = death_group['Colombia']\n",
    "colombia['Recuperados'] = recovered_group['Colombia']\n",
    "colombia['Activos'] = colombia['Confirmados'] - colombia['Recuperados'] - colombia['Muertos']\n",
    "df_melt3 = colombia.melt(id_vars='Fecha', value_vars= list(colombia.columns)[1:], var_name=None)\n",
    "fig = px.line(df_melt3, x='Fecha' , y='value', color='variable',\n",
    "              color_discrete_sequence=[\"teal\",\"green\",\"coral\", \"navy\"],\n",
    "              title=f'Corona virus (COVID 19) en Colombia - {colombia.iloc[-1,0]}')\n",
    "# Indicador de numero total de confirmados\n",
    "fig.add_indicator( title= {'text':'Confirmados', 'font':{'color':'teal'}},\n",
    "                  value = colombia['Confirmados'].iloc[-1],\n",
    "                  mode = \"number+delta\", delta = {\"reference\": colombia['Confirmados'\n",
    "                  ].iloc[-2], 'relative': True },domain = {'x': [0, 0.25], 'y': [0.15, .4]})\n",
    "#Indicador numero total de Activos\n",
    "fig.add_indicator(title={'text':'Activos', 'font':{'color':'navy'}},\n",
    "                  value = colombia['Activos'].iloc[-1],\n",
    "                  mode = \"number+delta\", delta = {\"reference\": colombia['Activos'\n",
    "                  ].iloc[-2], 'relative': True },domain = {'x': [0, 0.25], 'y': [0.6, .85]})\n",
    "#Indicador numero total de Recuperados\n",
    "fig.add_indicator(title={'text':'Recuperados', 'font':{'color':'green'}},\n",
    "                  value = colombia['Recuperados'].iloc[-1],\n",
    "                  mode = \"number+delta\", delta = {\"reference\": colombia['Recuperados'\n",
    "                  ].iloc[-2], 'relative': True },domain = {'x': [0.25, 0.50], 'y': [0.6, .85]}) \n",
    "#Indicador numero total de muertos\n",
    "fig.add_indicator(title={'text':'Muertos', 'font':{'color':'coral'}}, \n",
    "                  value = colombia['Muertos'].iloc[-1],\n",
    "                  mode = \"number+delta\", delta = {\"reference\": colombia['Muertos'\n",
    "                  ].iloc[-2], 'relative': True },domain = {'x': [0.25, 0.5], 'y': [0.15, .4]})\n",
    "fig.add_annotation(x=140, y=df_melt3['value'].max(),\n",
    "                   text='https://joserzapata.github.io/', showarrow=False)\n",
    "fig.layout.update(showlegend=False,\n",
    "                  yaxis =  {\"title\": {\"text\": \"Numero de Personas\"}}, # Cambiar texto eje y\n",
    "                  xaxis =  {\"title\": {\"text\": \"Fecha\"}})\n",
    "# grabar grafica en chart-studio si se proporciona el api-key\n",
    "if api_key: py.plot(fig, filename = 'Colombia_general', auto_open=False)\n",
    "fig.show()"
   ]
  },
  {
   "cell_type": "markdown",
   "metadata": {
    "colab_type": "text",
    "id": "P7oX7axkfJyq"
   },
   "source": [
    "# Codigo Fuente Jupyter notebook\n",
    "## Ejecutar en Google Colaboratory\n",
    "[![Open In Colab](https://colab.research.google.com/assets/colab-badge.svg)](https://colab.research.google.com/github/JoseRZapata/JoseRZapata.github.io/blob/master/Jupyter_Notebook/Covid19_Visualizacion_es.ipynb)\n",
    "\n",
    "## Ejecutar en MyBinder\n",
    "[![Binder](https://mybinder.org/badge_logo.svg)](https://mybinder.org/v2/gh/JoseRZapata/JoseRZapata.github.io/master?filepath=Jupyter_Notebook/Covid19_Visualizacion_es.ipynb)\n",
    "\n",
    "## Leer en nbviewer\n",
    "[![nbviewer](https://img.shields.io/badge/render-nbviewer-orange.svg)](https://nbviewer.jupyter.org/github/JoseRZapata/JoseRZapata.github.io/blob/master/Jupyter_Notebook/Covid19_Visualizacion_es.ipynb)"
   ]
  },
  {
   "cell_type": "markdown",
   "metadata": {
    "colab_type": "text",
    "id": "E6mkrGmdxXI4"
   },
   "source": [
    "# Refencias\n",
    "Fuentes de datos, visualizaciones y analisis de datos.\n",
    "\n",
    "- https://github.com/CSSEGISandData/COVID-19\n",
    "- https://www.kaggle.com/imdevskp/covid-19-analysis-viz-prediction-comparisons\n",
    "- https://junye0798.com/post/build-a-dashboard-to-track-the-spread-of-coronavirus-using-dash/\n",
    "- https://github.com/Perishleaf/data-visualisation-scripts/tree/master/dash-2019-coronavirus\n",
    "- https://medium.com/tomas-pueyo/coronavirus-por-qu%C3%A9-debemos-actuar-ya-93079c61e200"
   ]
  }
 ],
 "metadata": {
  "colab": {
   "collapsed_sections": [],
   "name": "Covid19_Visualizacion_v3.ipynb",
   "provenance": []
  },
  "kernelspec": {
   "display_name": "Python 3",
   "language": "python",
   "name": "python3"
  },
  "language_info": {
   "codemirror_mode": {
    "name": "ipython",
    "version": 3
   },
   "file_extension": ".py",
   "mimetype": "text/x-python",
   "name": "python",
   "nbconvert_exporter": "python",
   "pygments_lexer": "ipython3",
   "version": "3.8.3-final"
  },
  "toc": {
   "base_numbering": 1,
   "nav_menu": {},
   "number_sections": true,
   "sideBar": true,
   "skip_h1_title": false,
   "title_cell": "Table of Contents",
   "title_sidebar": "Contents",
   "toc_cell": false,
   "toc_position": {},
   "toc_section_display": true,
   "toc_window_display": false
  },
  "varInspector": {
   "cols": {
    "lenName": 16,
    "lenType": 16,
    "lenVar": 40
   },
   "kernels_config": {
    "python": {
     "delete_cmd_postfix": "",
     "delete_cmd_prefix": "del ",
     "library": "var_list.py",
     "varRefreshCmd": "print(var_dic_list())"
    },
    "r": {
     "delete_cmd_postfix": ") ",
     "delete_cmd_prefix": "rm(",
     "library": "var_list.r",
     "varRefreshCmd": "cat(var_dic_list()) "
    }
   },
   "types_to_exclude": [
    "module",
    "function",
    "builtin_function_or_method",
    "instance",
    "_Feature"
   ],
   "window_display": false
  }
 },
 "nbformat": 4,
 "nbformat_minor": 4
}