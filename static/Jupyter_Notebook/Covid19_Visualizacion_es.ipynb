{
 "cells": [
  {
   "cell_type": "markdown",
   "metadata": {
    "colab_type": "text",
    "id": "AVfznQKR-I--"
   },
   "source": [
    "# Visualizacion del Coronavirus (COVID19) Mundial con plotly\n",
    "por: Jose R. Zapata - https://joserzapata.github.io/\n",
    "\n",
    "\n",
    "Link: https://joserzapata.github.io/post/covid19-visualizacion/\n",
    "\n",
    "He visto en las redes sociales varias visualizaciones de los datos del COVID 19 y queria realizarlos en Python para tener la actualizacion de las graficas\n",
    "actualizadas cada dia, y ademas practicar el uso de [plotly](https://plotly.com/) para visualizacion interactiva.\n",
    "\n",
    "Las Graficas se actualizaran diariamente con los nuevos datos!\n",
    "\n",
    "Informacion extraida de 2019 Novel Coronavirus COVID-19 (2019-nCoV) Data Repository by Johns Hopkins CSSE\n",
    "\n",
    "https://github.com/CSSEGISandData/COVID-19\n",
    "\n",
    "**Actualizaciones**\n",
    "- 25/May/2020 agregar datos de personas recuperadas\n",
    "- 29/May/2020 actualizacion a plotly 0.48"
   ]
  },
  {
   "cell_type": "markdown",
   "metadata": {
    "colab_type": "text",
    "id": "l8tbwHgTf71J"
   },
   "source": [
    "[![Open In Colab](https://colab.research.google.com/assets/colab-badge.svg)](https://colab.research.google.com/github/JoseRZapata/JoseRZapata.github.io/blob/master/Jupyter_Notebook/Covid19_Visualizacion_es.ipynb) [![Binder](https://mybinder.org/badge_logo.svg)](https://mybinder.org/v2/gh/JoseRZapata/JoseRZapata.github.io/master?filepath=Jupyter_Notebook/Covid19_Visualizacion_es.ipynb)  [![nbviewer](https://img.shields.io/badge/render-nbviewer-orange.svg)](https://nbviewer.jupyter.org/github/JoseRZapata/JoseRZapata.github.io/blob/master/Jupyter_Notebook/Covid19_Visualizacion_es.ipynb)"
   ]
  },
  {
   "cell_type": "code",
   "execution_count": 1,
   "metadata": {
    "colab": {},
    "colab_type": "code",
    "id": "Fx_yb96YHeOb"
   },
   "outputs": [],
   "source": [
    "import pandas as pd\n",
    "import plotly.express as px\n",
    "import numpy as np\n",
    "\n",
    "#!pip install chart_studio -q\n",
    "import chart_studio"
   ]
  },
  {
   "cell_type": "code",
   "execution_count": 2,
   "metadata": {
    "tags": []
   },
   "outputs": [
    {
     "output_type": "stream",
     "name": "stdout",
     "text": "api_key loaded!\n"
    }
   ],
   "source": [
    "# Leer archivo con los datos de acceso a chart_studio\n",
    "# si no esta, dejar los campos vacios\n",
    "try:\n",
    "    with open(\"../../../info_chart.csv\",\"r\") as f:\n",
    "        info_user = f.read().split(\";\")\n",
    "        username = info_user[0] # your username\n",
    "        api_key = info_user[1] # your api key\n",
    "        print('api_key loaded!')\n",
    "except:\n",
    "    username = '' # your username\n",
    "    api_key =''\n",
    "    \n",
    "if api_key: chart_studio.tools.set_credentials_file(username=username, api_key=api_key)\n",
    "import chart_studio.plotly as py  "
   ]
  },
  {
   "cell_type": "code",
   "execution_count": 3,
   "metadata": {
    "colab": {},
    "colab_type": "code",
    "id": "lT7Dgoqy-YQA"
   },
   "outputs": [],
   "source": [
    "# Leer datos\n",
    "\n",
    "# los datos de personas recuperadas no eran confiables entonces ya solo se tienen los datos de confirmados y muertos\n",
    "\n",
    "confirmed = pd.read_csv('https://github.com/CSSEGISandData/COVID-19/raw/master/csse_covid_19_data/csse_covid_19_time_series/time_series_covid19_confirmed_global.csv')\n",
    "death = pd.read_csv('https://github.com/CSSEGISandData/COVID-19/raw/master/csse_covid_19_data/csse_covid_19_time_series/time_series_covid19_deaths_global.csv')\n",
    "recovered = pd.read_csv('https://github.com/CSSEGISandData/COVID-19/raw/master/csse_covid_19_data/csse_covid_19_time_series/time_series_covid19_recovered_global.csv')\n"
   ]
  },
  {
   "cell_type": "markdown",
   "metadata": {
    "colab_type": "text",
    "id": "1nocx9xeA5UY"
   },
   "source": [
    "## Datos CSSEGISandData/COVID-19\n",
    "\n",
    "Descripcion de los datos\n",
    "\n",
    "**Province/State:** China - province name; US/Canada/Australia/ - city name, state/province name; Others - name of the event (e.g., \"Diamond Princess\" cruise ship); other countries - blank.\n",
    "\n",
    "**Country/Region:** country/region name conforming to WHO (will be updated).\n",
    "\n",
    "**Last Update:** MM/DD/YYYY HH:mm (24 hour format, in UTC).\n",
    "\n",
    "**Confirmed: **the number of confirmed cases. For Hubei Province: from Feb 13 (GMT +8), we report both clinically diagnosed and lab-confirmed cases. For lab-confirmed cases only (Before Feb 17), please refer to who_covid_19_situation_reports. For Italy, diagnosis standard might be changed since Feb 27 to \"slow the growth of new case numbers.\"\n",
    "\n",
    "**Deaths:** the number of deaths.\n",
    "\n",
    "**Recovered:** the number of recovered cases."
   ]
  },
  {
   "cell_type": "code",
   "execution_count": 4,
   "metadata": {
    "colab": {},
    "colab_type": "code",
    "id": "fTZI2C13_rsQ"
   },
   "outputs": [],
   "source": [
    "#confirmed.head()"
   ]
  },
  {
   "cell_type": "code",
   "execution_count": 5,
   "metadata": {
    "colab": {},
    "colab_type": "code",
    "id": "LQezYlG7AhrM"
   },
   "outputs": [],
   "source": [
    "#death.head()"
   ]
  },
  {
   "cell_type": "code",
   "execution_count": 6,
   "metadata": {},
   "outputs": [],
   "source": [
    "#recovered.head()"
   ]
  },
  {
   "cell_type": "markdown",
   "metadata": {
    "colab_type": "text",
    "id": "N2E7F_J4BqN-"
   },
   "source": [
    "## Datos Generales de cada Dataframe"
   ]
  },
  {
   "cell_type": "code",
   "execution_count": 7,
   "metadata": {
    "colab": {},
    "colab_type": "code",
    "id": "dKDC24PCCGjq"
   },
   "outputs": [],
   "source": [
    "#confirmed.info()"
   ]
  },
  {
   "cell_type": "code",
   "execution_count": 8,
   "metadata": {
    "colab": {},
    "colab_type": "code",
    "id": "JD1ws-aKCXEc"
   },
   "outputs": [],
   "source": [
    "#death.info()"
   ]
  },
  {
   "cell_type": "code",
   "execution_count": 9,
   "metadata": {},
   "outputs": [],
   "source": [
    "#recovered.info()"
   ]
  },
  {
   "cell_type": "markdown",
   "metadata": {
    "colab_type": "text",
    "id": "Vh7JPE-MChF2"
   },
   "source": [
    "### Eliminar Ubicacion\n",
    "\n",
    "Se va realizar un analisis general de los datos y No se van a tomar los datos geograficos de *latitud*, *longitud* y los datos de *Province/State* estan incompletos.\n",
    "\n",
    "Solo se realizara un analisis por pais entonces se eliminaran las columnas mencionadas anteriormente\n"
   ]
  },
  {
   "cell_type": "code",
   "execution_count": 10,
   "metadata": {
    "colab": {},
    "colab_type": "code",
    "id": "bnNhCaqKDdmC"
   },
   "outputs": [],
   "source": [
    "confirmed = confirmed.drop(columns=['Lat', 'Long','Province/State'])\n",
    "death = death.drop(columns=['Lat', 'Long','Province/State'])\n",
    "recovered  = recovered.drop(columns=['Lat', 'Long','Province/State'])"
   ]
  },
  {
   "cell_type": "code",
   "execution_count": 11,
   "metadata": {},
   "outputs": [],
   "source": [
    "##confirmed.head()"
   ]
  },
  {
   "cell_type": "markdown",
   "metadata": {},
   "source": [
    "### Casos Activos\n",
    "Se calcula a partir del numero de personas confirmadas - muertos - recuperados"
   ]
  },
  {
   "cell_type": "code",
   "execution_count": 12,
   "metadata": {},
   "outputs": [],
   "source": [
    "active =confirmed.copy()"
   ]
  },
  {
   "cell_type": "code",
   "execution_count": 13,
   "metadata": {},
   "outputs": [],
   "source": [
    "# Calcular el numero de casos activos\n",
    "active.iloc[:,1:] = confirmed.iloc[:,1:] - death.iloc[:,1:] - recovered.iloc[:,1:]"
   ]
  },
  {
   "cell_type": "markdown",
   "metadata": {
    "colab_type": "text",
    "id": "2-pEpFHuPyAt"
   },
   "source": [
    "### Consolidar datos"
   ]
  },
  {
   "cell_type": "code",
   "execution_count": 14,
   "metadata": {
    "colab": {},
    "colab_type": "code",
    "id": "SdBF-Y5xH2jo"
   },
   "outputs": [],
   "source": [
    "confirmed_group = confirmed.groupby(by='Country/Region').aggregate(np.sum).T\n",
    "confirmed_group.index.name = 'date'\n",
    "confirmed_group =  confirmed_group.reset_index()"
   ]
  },
  {
   "cell_type": "code",
   "execution_count": 15,
   "metadata": {
    "colab": {},
    "colab_type": "code",
    "id": "tKMDez6aRMza"
   },
   "outputs": [],
   "source": [
    "recovered_group = recovered.groupby(by='Country/Region').aggregate(np.sum).T\n",
    "recovered_group.index.name = 'date'\n",
    "recovered_group =  recovered_group.reset_index()"
   ]
  },
  {
   "cell_type": "code",
   "execution_count": 16,
   "metadata": {
    "colab": {},
    "colab_type": "code",
    "id": "tKMDez6aRMza"
   },
   "outputs": [],
   "source": [
    "active_group = active.groupby(by='Country/Region').aggregate(np.sum).T\n",
    "active_group.index.name = 'date'\n",
    "active_group =  active_group.reset_index()"
   ]
  },
  {
   "cell_type": "code",
   "execution_count": 17,
   "metadata": {
    "colab": {},
    "colab_type": "code",
    "id": "tKMDez6aRMza"
   },
   "outputs": [],
   "source": [
    "death_group = death.groupby(by='Country/Region').aggregate(np.sum).T\n",
    "death_group.index.name = 'date'\n",
    "death_group =  death_group.reset_index()"
   ]
  },
  {
   "cell_type": "code",
   "execution_count": 18,
   "metadata": {
    "colab": {},
    "colab_type": "code",
    "id": "sSXIMVORLmio"
   },
   "outputs": [],
   "source": [
    "confirmed_melt = confirmed_group.melt(id_vars=\"date\").copy()\n",
    "confirmed_melt.rename(columns = {'value':'Confirmados', 'date':'Fecha'}, inplace = True)"
   ]
  },
  {
   "cell_type": "code",
   "execution_count": 19,
   "metadata": {
    "colab": {},
    "colab_type": "code",
    "id": "M_KhVx8L21QY"
   },
   "outputs": [],
   "source": [
    "death_melt = death_group.melt(id_vars=\"date\")\n",
    "death_melt.rename(columns = {'value':'Muertos', 'date':'Fecha'}, inplace = True)"
   ]
  },
  {
   "cell_type": "markdown",
   "metadata": {
    "colab_type": "text",
    "id": "x1I4DaJLnksH"
   },
   "source": [
    "### Datos Mundiales"
   ]
  },
  {
   "cell_type": "code",
   "execution_count": 20,
   "metadata": {
    "colab": {},
    "colab_type": "code",
    "id": "k252B3rFl0IK"
   },
   "outputs": [],
   "source": [
    "# Numero de Casos confirmados por dia en el mundo\n",
    "\n",
    "column_names = [\"Fecha\", \"Confirmados\", \"Recuperados\",\"Muertos\"]\n",
    "world = pd.DataFrame(columns = column_names)\n",
    "world['Fecha'] = confirmed_group['date'].copy()\n",
    "world['Confirmados'] = confirmed_group.iloc[:,1:].sum(1)\n",
    "world['Muertos'] = death_group.iloc[:,1:].sum(1)\n",
    "world['Recuperados'] = recovered_group.iloc[:,1:].sum(1)\n",
    "world['Activos'] = active_group.iloc[:,1:].sum(1)"
   ]
  },
  {
   "cell_type": "markdown",
   "metadata": {},
   "source": [
    "# Evolucion Animada de Casos Activos por Pais\n",
    "La gráfica animada de la evolución temporal de los casos activos por país, la he creado con la libreria [Pandas alive](https://github.com/JackMcKew/pandas_alive) y [Bar Chart Race](https://github.com/dexplo/bar_chart_race).\n",
    "La barra horizontal gris representa el valor promedio de casos activos a nivel mundial."
   ]
  },
  {
   "cell_type": "code",
   "execution_count": 21,
   "metadata": {},
   "outputs": [],
   "source": [
    "import pandas_alive\n",
    "active_evol = active_group.set_index('date')\n",
    "active_evol.index = pd.to_datetime(active_evol.index)"
   ]
  },
  {
   "cell_type": "code",
   "execution_count": 22,
   "metadata": {
    "tags": []
   },
   "outputs": [
    {
     "output_type": "stream",
     "name": "stdout",
     "text": "Generating BarChartRace, plotting ['Afghanistan', 'Albania', 'Algeria', 'Andorra', 'Angola', 'Antigua and Barbuda', 'Argentina', 'Armenia', 'Australia', 'Austria', 'Azerbaijan', 'Bahamas', 'Bahrain', 'Bangladesh', 'Barbados', 'Belarus', 'Belgium', 'Belize', 'Benin', 'Bhutan', 'Bolivia', 'Bosnia and Herzegovina', 'Botswana', 'Brazil', 'Brunei', 'Bulgaria', 'Burkina Faso', 'Burma', 'Burundi', 'Cabo Verde', 'Cambodia', 'Cameroon', 'Canada', 'Central African Republic', 'Chad', 'Chile', 'China', 'Colombia', 'Comoros', 'Congo (Brazzaville)', 'Congo (Kinshasa)', 'Costa Rica', \"Cote d'Ivoire\", 'Croatia', 'Cuba', 'Cyprus', 'Czechia', 'Denmark', 'Diamond Princess', 'Djibouti', 'Dominica', 'Dominican Republic', 'Ecuador', 'Egypt', 'El Salvador', 'Equatorial Guinea', 'Eritrea', 'Estonia', 'Eswatini', 'Ethiopia', 'Fiji', 'Finland', 'France', 'Gabon', 'Gambia', 'Georgia', 'Germany', 'Ghana', 'Greece', 'Grenada', 'Guatemala', 'Guinea', 'Guinea-Bissau', 'Guyana', 'Haiti', 'Holy See', 'Honduras', 'Hungary', 'Iceland', 'India', 'Indonesia', 'Iran', 'Iraq', 'Ireland', 'Israel', 'Italy', 'Jamaica', 'Japan', 'Jordan', 'Kazakhstan', 'Kenya', 'Korea, South', 'Kosovo', 'Kuwait', 'Kyrgyzstan', 'Laos', 'Latvia', 'Lebanon', 'Lesotho', 'Liberia', 'Libya', 'Liechtenstein', 'Lithuania', 'Luxembourg', 'MS Zaandam', 'Madagascar', 'Malawi', 'Malaysia', 'Maldives', 'Mali', 'Malta', 'Mauritania', 'Mauritius', 'Mexico', 'Moldova', 'Monaco', 'Mongolia', 'Montenegro', 'Morocco', 'Mozambique', 'Namibia', 'Nepal', 'Netherlands', 'New Zealand', 'Nicaragua', 'Niger', 'Nigeria', 'North Macedonia', 'Norway', 'Oman', 'Pakistan', 'Panama', 'Papua New Guinea', 'Paraguay', 'Peru', 'Philippines', 'Poland', 'Portugal', 'Qatar', 'Romania', 'Russia', 'Rwanda', 'Saint Kitts and Nevis', 'Saint Lucia', 'Saint Vincent and the Grenadines', 'San Marino', 'Sao Tome and Principe', 'Saudi Arabia', 'Senegal', 'Serbia', 'Seychelles', 'Sierra Leone', 'Singapore', 'Slovakia', 'Slovenia', 'Somalia', 'South Africa', 'South Sudan', 'Spain', 'Sri Lanka', 'Sudan', 'Suriname', 'Sweden', 'Switzerland', 'Syria', 'Taiwan*', 'Tajikistan', 'Tanzania', 'Thailand', 'Timor-Leste', 'Togo', 'Trinidad and Tobago', 'Tunisia', 'Turkey', 'US', 'Uganda', 'Ukraine', 'United Arab Emirates', 'United Kingdom', 'Uruguay', 'Uzbekistan', 'Venezuela', 'Vietnam', 'West Bank and Gaza', 'Western Sahara', 'Yemen', 'Zambia', 'Zimbabwe']\n"
    }
   ],
   "source": [
    "import warnings\n",
    "warnings.filterwarnings(\"ignore\")\n",
    "hola = active_evol.plot_animated(filename='evolucion_casos_activos.mp4', n_bars=8,n_visible=8,\n",
    "                          title='Evolución en el tiempo de Casos Activos COVID-19 por pais \\n https://joserzapata.github.io/',\n",
    "                          period_label={'x': .99, 'y': .25, 'ha': 'right', 'va': 'center'},\n",
    "                          period_fmt='%B %d, %Y',\n",
    "                          dpi=300,\n",
    "                          period_summary_func=lambda v: {'x': .99, 'y': .18,\n",
    "                                      's': f'Total Activos: {v.nlargest(8).sum():,.0f}',\n",
    "                                      'ha': 'right', 'size': 9, 'family': 'Courier New'});"
   ]
  },
  {
   "cell_type": "markdown",
   "metadata": {
    "colab_type": "text",
    "id": "Q2e5kRWeQrCs"
   },
   "source": [
    "# Visualizacion con Plotly"
   ]
  },
  {
   "cell_type": "markdown",
   "metadata": {
    "colab_type": "text",
    "id": "Z8B5K4RxbkEQ"
   },
   "source": [
    "## Valores Mundiales de Confirmados, Recuperados y Muertos\n"
   ]
  },
  {
   "cell_type": "code",
   "execution_count": 23,
   "metadata": {
    "colab": {},
    "colab_type": "code",
    "id": "bs5UwImuK7re"
   },
   "outputs": [
    {
     "output_type": "display_data",
     "data": {
      "application/vnd.plotly.v1+json": {
       "config": {
        "plotlyServerURL": "https://plotly.com"
       },
       "data": [
        {
         "alignmentgroup": "True",
         "hovertemplate": "variable=%{x}<br>value=%{text}<extra></extra>",
         "legendgroup": "Confirmados",
         "marker": {
          "color": "teal"
         },
         "name": "Confirmados",
         "offsetgroup": "Confirmados",
         "orientation": "v",
         "showlegend": true,
         "text": [
          27863733
         ],
         "textposition": "outside",
         "type": "bar",
         "x": [
          "Confirmados"
         ],
         "xaxis": "x",
         "y": [
          27863733
         ],
         "yaxis": "y"
        },
        {
         "alignmentgroup": "True",
         "hovertemplate": "variable=%{x}<br>value=%{text}<extra></extra>",
         "legendgroup": "Activos",
         "marker": {
          "color": "navy"
         },
         "name": "Activos",
         "offsetgroup": "Activos",
         "orientation": "v",
         "showlegend": true,
         "text": [
          7715990
         ],
         "textposition": "outside",
         "type": "bar",
         "x": [
          "Activos"
         ],
         "xaxis": "x",
         "y": [
          7715990
         ],
         "yaxis": "y"
        },
        {
         "alignmentgroup": "True",
         "hovertemplate": "variable=%{x}<br>value=%{text}<extra></extra>",
         "legendgroup": "Recuperados",
         "marker": {
          "color": "green"
         },
         "name": "Recuperados",
         "offsetgroup": "Recuperados",
         "orientation": "v",
         "showlegend": true,
         "text": [
          18776723
         ],
         "textposition": "outside",
         "type": "bar",
         "x": [
          "Recuperados"
         ],
         "xaxis": "x",
         "y": [
          18776723
         ],
         "yaxis": "y"
        },
        {
         "alignmentgroup": "True",
         "hovertemplate": "variable=%{x}<br>value=%{text}<extra></extra>",
         "legendgroup": "Muertos",
         "marker": {
          "color": "coral"
         },
         "name": "Muertos",
         "offsetgroup": "Muertos",
         "orientation": "v",
         "showlegend": true,
         "text": [
          903686
         ],
         "textposition": "outside",
         "type": "bar",
         "x": [
          "Muertos"
         ],
         "xaxis": "x",
         "y": [
          903686
         ],
         "yaxis": "y"
        }
       ],
       "layout": {
        "annotations": [
         {
          "showarrow": false,
          "text": "https://joserzapata.github.io/",
          "x": "Muertos",
          "y": 27863733
         }
        ],
        "barmode": "relative",
        "height": 500,
        "legend": {
         "title": {
          "text": "variable"
         },
         "tracegroupgap": 0
        },
        "showlegend": false,
        "template": {
         "data": {
          "bar": [
           {
            "error_x": {
             "color": "#2a3f5f"
            },
            "error_y": {
             "color": "#2a3f5f"
            },
            "marker": {
             "line": {
              "color": "#E5ECF6",
              "width": 0.5
             }
            },
            "type": "bar"
           }
          ],
          "barpolar": [
           {
            "marker": {
             "line": {
              "color": "#E5ECF6",
              "width": 0.5
             }
            },
            "type": "barpolar"
           }
          ],
          "carpet": [
           {
            "aaxis": {
             "endlinecolor": "#2a3f5f",
             "gridcolor": "white",
             "linecolor": "white",
             "minorgridcolor": "white",
             "startlinecolor": "#2a3f5f"
            },
            "baxis": {
             "endlinecolor": "#2a3f5f",
             "gridcolor": "white",
             "linecolor": "white",
             "minorgridcolor": "white",
             "startlinecolor": "#2a3f5f"
            },
            "type": "carpet"
           }
          ],
          "choropleth": [
           {
            "colorbar": {
             "outlinewidth": 0,
             "ticks": ""
            },
            "type": "choropleth"
           }
          ],
          "contour": [
           {
            "colorbar": {
             "outlinewidth": 0,
             "ticks": ""
            },
            "colorscale": [
             [
              0,
              "#0d0887"
             ],
             [
              0.1111111111111111,
              "#46039f"
             ],
             [
              0.2222222222222222,
              "#7201a8"
             ],
             [
              0.3333333333333333,
              "#9c179e"
             ],
             [
              0.4444444444444444,
              "#bd3786"
             ],
             [
              0.5555555555555556,
              "#d8576b"
             ],
             [
              0.6666666666666666,
              "#ed7953"
             ],
             [
              0.7777777777777778,
              "#fb9f3a"
             ],
             [
              0.8888888888888888,
              "#fdca26"
             ],
             [
              1,
              "#f0f921"
             ]
            ],
            "type": "contour"
           }
          ],
          "contourcarpet": [
           {
            "colorbar": {
             "outlinewidth": 0,
             "ticks": ""
            },
            "type": "contourcarpet"
           }
          ],
          "heatmap": [
           {
            "colorbar": {
             "outlinewidth": 0,
             "ticks": ""
            },
            "colorscale": [
             [
              0,
              "#0d0887"
             ],
             [
              0.1111111111111111,
              "#46039f"
             ],
             [
              0.2222222222222222,
              "#7201a8"
             ],
             [
              0.3333333333333333,
              "#9c179e"
             ],
             [
              0.4444444444444444,
              "#bd3786"
             ],
             [
              0.5555555555555556,
              "#d8576b"
             ],
             [
              0.6666666666666666,
              "#ed7953"
             ],
             [
              0.7777777777777778,
              "#fb9f3a"
             ],
             [
              0.8888888888888888,
              "#fdca26"
             ],
             [
              1,
              "#f0f921"
             ]
            ],
            "type": "heatmap"
           }
          ],
          "heatmapgl": [
           {
            "colorbar": {
             "outlinewidth": 0,
             "ticks": ""
            },
            "colorscale": [
             [
              0,
              "#0d0887"
             ],
             [
              0.1111111111111111,
              "#46039f"
             ],
             [
              0.2222222222222222,
              "#7201a8"
             ],
             [
              0.3333333333333333,
              "#9c179e"
             ],
             [
              0.4444444444444444,
              "#bd3786"
             ],
             [
              0.5555555555555556,
              "#d8576b"
             ],
             [
              0.6666666666666666,
              "#ed7953"
             ],
             [
              0.7777777777777778,
              "#fb9f3a"
             ],
             [
              0.8888888888888888,
              "#fdca26"
             ],
             [
              1,
              "#f0f921"
             ]
            ],
            "type": "heatmapgl"
           }
          ],
          "histogram": [
           {
            "marker": {
             "colorbar": {
              "outlinewidth": 0,
              "ticks": ""
             }
            },
            "type": "histogram"
           }
          ],
          "histogram2d": [
           {
            "colorbar": {
             "outlinewidth": 0,
             "ticks": ""
            },
            "colorscale": [
             [
              0,
              "#0d0887"
             ],
             [
              0.1111111111111111,
              "#46039f"
             ],
             [
              0.2222222222222222,
              "#7201a8"
             ],
             [
              0.3333333333333333,
              "#9c179e"
             ],
             [
              0.4444444444444444,
              "#bd3786"
             ],
             [
              0.5555555555555556,
              "#d8576b"
             ],
             [
              0.6666666666666666,
              "#ed7953"
             ],
             [
              0.7777777777777778,
              "#fb9f3a"
             ],
             [
              0.8888888888888888,
              "#fdca26"
             ],
             [
              1,
              "#f0f921"
             ]
            ],
            "type": "histogram2d"
           }
          ],
          "histogram2dcontour": [
           {
            "colorbar": {
             "outlinewidth": 0,
             "ticks": ""
            },
            "colorscale": [
             [
              0,
              "#0d0887"
             ],
             [
              0.1111111111111111,
              "#46039f"
             ],
             [
              0.2222222222222222,
              "#7201a8"
             ],
             [
              0.3333333333333333,
              "#9c179e"
             ],
             [
              0.4444444444444444,
              "#bd3786"
             ],
             [
              0.5555555555555556,
              "#d8576b"
             ],
             [
              0.6666666666666666,
              "#ed7953"
             ],
             [
              0.7777777777777778,
              "#fb9f3a"
             ],
             [
              0.8888888888888888,
              "#fdca26"
             ],
             [
              1,
              "#f0f921"
             ]
            ],
            "type": "histogram2dcontour"
           }
          ],
          "mesh3d": [
           {
            "colorbar": {
             "outlinewidth": 0,
             "ticks": ""
            },
            "type": "mesh3d"
           }
          ],
          "parcoords": [
           {
            "line": {
             "colorbar": {
              "outlinewidth": 0,
              "ticks": ""
             }
            },
            "type": "parcoords"
           }
          ],
          "pie": [
           {
            "automargin": true,
            "type": "pie"
           }
          ],
          "scatter": [
           {
            "marker": {
             "colorbar": {
              "outlinewidth": 0,
              "ticks": ""
             }
            },
            "type": "scatter"
           }
          ],
          "scatter3d": [
           {
            "line": {
             "colorbar": {
              "outlinewidth": 0,
              "ticks": ""
             }
            },
            "marker": {
             "colorbar": {
              "outlinewidth": 0,
              "ticks": ""
             }
            },
            "type": "scatter3d"
           }
          ],
          "scattercarpet": [
           {
            "marker": {
             "colorbar": {
              "outlinewidth": 0,
              "ticks": ""
             }
            },
            "type": "scattercarpet"
           }
          ],
          "scattergeo": [
           {
            "marker": {
             "colorbar": {
              "outlinewidth": 0,
              "ticks": ""
             }
            },
            "type": "scattergeo"
           }
          ],
          "scattergl": [
           {
            "marker": {
             "colorbar": {
              "outlinewidth": 0,
              "ticks": ""
             }
            },
            "type": "scattergl"
           }
          ],
          "scattermapbox": [
           {
            "marker": {
             "colorbar": {
              "outlinewidth": 0,
              "ticks": ""
             }
            },
            "type": "scattermapbox"
           }
          ],
          "scatterpolar": [
           {
            "marker": {
             "colorbar": {
              "outlinewidth": 0,
              "ticks": ""
             }
            },
            "type": "scatterpolar"
           }
          ],
          "scatterpolargl": [
           {
            "marker": {
             "colorbar": {
              "outlinewidth": 0,
              "ticks": ""
             }
            },
            "type": "scatterpolargl"
           }
          ],
          "scatterternary": [
           {
            "marker": {
             "colorbar": {
              "outlinewidth": 0,
              "ticks": ""
             }
            },
            "type": "scatterternary"
           }
          ],
          "surface": [
           {
            "colorbar": {
             "outlinewidth": 0,
             "ticks": ""
            },
            "colorscale": [
             [
              0,
              "#0d0887"
             ],
             [
              0.1111111111111111,
              "#46039f"
             ],
             [
              0.2222222222222222,
              "#7201a8"
             ],
             [
              0.3333333333333333,
              "#9c179e"
             ],
             [
              0.4444444444444444,
              "#bd3786"
             ],
             [
              0.5555555555555556,
              "#d8576b"
             ],
             [
              0.6666666666666666,
              "#ed7953"
             ],
             [
              0.7777777777777778,
              "#fb9f3a"
             ],
             [
              0.8888888888888888,
              "#fdca26"
             ],
             [
              1,
              "#f0f921"
             ]
            ],
            "type": "surface"
           }
          ],
          "table": [
           {
            "cells": {
             "fill": {
              "color": "#EBF0F8"
             },
             "line": {
              "color": "white"
             }
            },
            "header": {
             "fill": {
              "color": "#C8D4E3"
             },
             "line": {
              "color": "white"
             }
            },
            "type": "table"
           }
          ]
         },
         "layout": {
          "annotationdefaults": {
           "arrowcolor": "#2a3f5f",
           "arrowhead": 0,
           "arrowwidth": 1
          },
          "coloraxis": {
           "colorbar": {
            "outlinewidth": 0,
            "ticks": ""
           }
          },
          "colorscale": {
           "diverging": [
            [
             0,
             "#8e0152"
            ],
            [
             0.1,
             "#c51b7d"
            ],
            [
             0.2,
             "#de77ae"
            ],
            [
             0.3,
             "#f1b6da"
            ],
            [
             0.4,
             "#fde0ef"
            ],
            [
             0.5,
             "#f7f7f7"
            ],
            [
             0.6,
             "#e6f5d0"
            ],
            [
             0.7,
             "#b8e186"
            ],
            [
             0.8,
             "#7fbc41"
            ],
            [
             0.9,
             "#4d9221"
            ],
            [
             1,
             "#276419"
            ]
           ],
           "sequential": [
            [
             0,
             "#0d0887"
            ],
            [
             0.1111111111111111,
             "#46039f"
            ],
            [
             0.2222222222222222,
             "#7201a8"
            ],
            [
             0.3333333333333333,
             "#9c179e"
            ],
            [
             0.4444444444444444,
             "#bd3786"
            ],
            [
             0.5555555555555556,
             "#d8576b"
            ],
            [
             0.6666666666666666,
             "#ed7953"
            ],
            [
             0.7777777777777778,
             "#fb9f3a"
            ],
            [
             0.8888888888888888,
             "#fdca26"
            ],
            [
             1,
             "#f0f921"
            ]
           ],
           "sequentialminus": [
            [
             0,
             "#0d0887"
            ],
            [
             0.1111111111111111,
             "#46039f"
            ],
            [
             0.2222222222222222,
             "#7201a8"
            ],
            [
             0.3333333333333333,
             "#9c179e"
            ],
            [
             0.4444444444444444,
             "#bd3786"
            ],
            [
             0.5555555555555556,
             "#d8576b"
            ],
            [
             0.6666666666666666,
             "#ed7953"
            ],
            [
             0.7777777777777778,
             "#fb9f3a"
            ],
            [
             0.8888888888888888,
             "#fdca26"
            ],
            [
             1,
             "#f0f921"
            ]
           ]
          },
          "colorway": [
           "#636efa",
           "#EF553B",
           "#00cc96",
           "#ab63fa",
           "#FFA15A",
           "#19d3f3",
           "#FF6692",
           "#B6E880",
           "#FF97FF",
           "#FECB52"
          ],
          "font": {
           "color": "#2a3f5f"
          },
          "geo": {
           "bgcolor": "white",
           "lakecolor": "white",
           "landcolor": "#E5ECF6",
           "showlakes": true,
           "showland": true,
           "subunitcolor": "white"
          },
          "hoverlabel": {
           "align": "left"
          },
          "hovermode": "closest",
          "mapbox": {
           "style": "light"
          },
          "paper_bgcolor": "white",
          "plot_bgcolor": "#E5ECF6",
          "polar": {
           "angularaxis": {
            "gridcolor": "white",
            "linecolor": "white",
            "ticks": ""
           },
           "bgcolor": "#E5ECF6",
           "radialaxis": {
            "gridcolor": "white",
            "linecolor": "white",
            "ticks": ""
           }
          },
          "scene": {
           "xaxis": {
            "backgroundcolor": "#E5ECF6",
            "gridcolor": "white",
            "gridwidth": 2,
            "linecolor": "white",
            "showbackground": true,
            "ticks": "",
            "zerolinecolor": "white"
           },
           "yaxis": {
            "backgroundcolor": "#E5ECF6",
            "gridcolor": "white",
            "gridwidth": 2,
            "linecolor": "white",
            "showbackground": true,
            "ticks": "",
            "zerolinecolor": "white"
           },
           "zaxis": {
            "backgroundcolor": "#E5ECF6",
            "gridcolor": "white",
            "gridwidth": 2,
            "linecolor": "white",
            "showbackground": true,
            "ticks": "",
            "zerolinecolor": "white"
           }
          },
          "shapedefaults": {
           "line": {
            "color": "#2a3f5f"
           }
          },
          "ternary": {
           "aaxis": {
            "gridcolor": "white",
            "linecolor": "white",
            "ticks": ""
           },
           "baxis": {
            "gridcolor": "white",
            "linecolor": "white",
            "ticks": ""
           },
           "bgcolor": "#E5ECF6",
           "caxis": {
            "gridcolor": "white",
            "linecolor": "white",
            "ticks": ""
           }
          },
          "title": {
           "x": 0.05
          },
          "xaxis": {
           "automargin": true,
           "gridcolor": "white",
           "linecolor": "white",
           "ticks": "",
           "title": {
            "standoff": 15
           },
           "zerolinecolor": "white",
           "zerolinewidth": 2
          },
          "yaxis": {
           "automargin": true,
           "gridcolor": "white",
           "linecolor": "white",
           "ticks": "",
           "title": {
            "standoff": 15
           },
           "zerolinecolor": "white",
           "zerolinewidth": 2
          }
         }
        },
        "title": {
         "text": "Total de Casos Mundiales de COVID 19 - 9/9/20"
        },
        "width": 600,
        "xaxis": {
         "anchor": "y",
         "categoryarray": [
          "Confirmados",
          "Activos",
          "Recuperados",
          "Muertos"
         ],
         "categoryorder": "array",
         "domain": [
          0,
          1
         ],
         "title": {
          "text": ""
         }
        },
        "yaxis": {
         "anchor": "x",
         "domain": [
          0,
          1
         ],
         "title": {
          "text": "Numero de Personas"
         }
        }
       }
      }
     },
     "metadata": {}
    }
   ],
   "source": [
    "temp = pd.DataFrame(world.iloc[-1,:]).T\n",
    "tm = temp.melt(id_vars=\"Fecha\", value_vars=[ \"Confirmados\",\"Activos\",\"Recuperados\",\"Muertos\"])\n",
    "fig = px.bar(tm, x=\"variable\" , y=\"value\", color= 'variable', text='value',\n",
    "             color_discrete_sequence=[\"teal\",\"navy\",\"green\", \"coral\"],\n",
    "             height=500, width=600,\n",
    "             title= f'Total de Casos Mundiales de COVID 19 - {str(world.iloc[-1,0])}')\n",
    "fig.update_traces(textposition='outside')#poner los valores de las barras fuera\n",
    "fig.add_annotation(x='Muertos', y=tm['value'].max(),text='https://joserzapata.github.io/', showarrow=False)\n",
    "fig.layout.update(showlegend=False,\n",
    "                  yaxis =  {\"title\": {\"text\": \"Numero de Personas\"}}, # Cambiar texto eje y\n",
    "                  xaxis =  {\"title\": {\"text\": \"\"}} #Esconder nombre eje x\n",
    "                  )\n",
    "# grabar grafica en chart-studio si se proporciona el api-key\n",
    "if api_key: py.plot(fig, filename = 'total_casos_general', auto_open=False)\n",
    "fig.show()"
   ]
  },
  {
   "cell_type": "markdown",
   "metadata": {
    "colab_type": "text",
    "id": "GxS-iNEJ1Gu6"
   },
   "source": [
    "## Mapa Mundial de Confirmados por Pais"
   ]
  },
  {
   "cell_type": "code",
   "execution_count": 24,
   "metadata": {
    "colab": {},
    "colab_type": "code",
    "id": "AWj0By9l00Ac"
   },
   "outputs": [
    {
     "output_type": "display_data",
     "data": {
      "application/vnd.plotly.v1+json": {
       "config": {
        "plotlyServerURL": "https://plotly.com"
       },
       "data": [
        {
         "geo": "geo",
         "hovertemplate": "<b>%{hovertext}</b><br><br>size=%{marker.size}<br>Country/Region=%{location}<br>Confirmados=%{marker.color}<extra></extra>",
         "hovertext": [
          "Afghanistan",
          "Albania",
          "Algeria",
          "Andorra",
          "Angola",
          "Antigua and Barbuda",
          "Argentina",
          "Armenia",
          "Australia",
          "Austria",
          "Azerbaijan",
          "Bahamas",
          "Bahrain",
          "Bangladesh",
          "Barbados",
          "Belarus",
          "Belgium",
          "Belize",
          "Benin",
          "Bhutan",
          "Bolivia",
          "Bosnia and Herzegovina",
          "Botswana",
          "Brazil",
          "Brunei",
          "Bulgaria",
          "Burkina Faso",
          "Burma",
          "Burundi",
          "Cabo Verde",
          "Cambodia",
          "Cameroon",
          "Canada",
          "Central African Republic",
          "Chad",
          "Chile",
          "China",
          "Colombia",
          "Comoros",
          "Congo (Brazzaville)",
          "Congo (Kinshasa)",
          "Costa Rica",
          "Cote d'Ivoire",
          "Croatia",
          "Cuba",
          "Cyprus",
          "Czechia",
          "Denmark",
          "Diamond Princess",
          "Djibouti",
          "Dominica",
          "Dominican Republic",
          "Ecuador",
          "Egypt",
          "El Salvador",
          "Equatorial Guinea",
          "Eritrea",
          "Estonia",
          "Eswatini",
          "Ethiopia",
          "Fiji",
          "Finland",
          "France",
          "Gabon",
          "Gambia",
          "Georgia",
          "Germany",
          "Ghana",
          "Greece",
          "Grenada",
          "Guatemala",
          "Guinea",
          "Guinea-Bissau",
          "Guyana",
          "Haiti",
          "Holy See",
          "Honduras",
          "Hungary",
          "Iceland",
          "India",
          "Indonesia",
          "Iran",
          "Iraq",
          "Ireland",
          "Israel",
          "Italy",
          "Jamaica",
          "Japan",
          "Jordan",
          "Kazakhstan",
          "Kenya",
          "Korea, South",
          "Kosovo",
          "Kuwait",
          "Kyrgyzstan",
          "Laos",
          "Latvia",
          "Lebanon",
          "Lesotho",
          "Liberia",
          "Libya",
          "Liechtenstein",
          "Lithuania",
          "Luxembourg",
          "MS Zaandam",
          "Madagascar",
          "Malawi",
          "Malaysia",
          "Maldives",
          "Mali",
          "Malta",
          "Mauritania",
          "Mauritius",
          "Mexico",
          "Moldova",
          "Monaco",
          "Mongolia",
          "Montenegro",
          "Morocco",
          "Mozambique",
          "Namibia",
          "Nepal",
          "Netherlands",
          "New Zealand",
          "Nicaragua",
          "Niger",
          "Nigeria",
          "North Macedonia",
          "Norway",
          "Oman",
          "Pakistan",
          "Panama",
          "Papua New Guinea",
          "Paraguay",
          "Peru",
          "Philippines",
          "Poland",
          "Portugal",
          "Qatar",
          "Romania",
          "Russia",
          "Rwanda",
          "Saint Kitts and Nevis",
          "Saint Lucia",
          "Saint Vincent and the Grenadines",
          "San Marino",
          "Sao Tome and Principe",
          "Saudi Arabia",
          "Senegal",
          "Serbia",
          "Seychelles",
          "Sierra Leone",
          "Singapore",
          "Slovakia",
          "Slovenia",
          "Somalia",
          "South Africa",
          "South Sudan",
          "Spain",
          "Sri Lanka",
          "Sudan",
          "Suriname",
          "Sweden",
          "Switzerland",
          "Syria",
          "Taiwan*",
          "Tajikistan",
          "Tanzania",
          "Thailand",
          "Timor-Leste",
          "Togo",
          "Trinidad and Tobago",
          "Tunisia",
          "Turkey",
          "US",
          "Uganda",
          "Ukraine",
          "United Arab Emirates",
          "United Kingdom",
          "Uruguay",
          "Uzbekistan",
          "Venezuela",
          "Vietnam",
          "West Bank and Gaza",
          "Western Sahara",
          "Yemen",
          "Zambia",
          "Zimbabwe"
         ],
         "legendgroup": "",
         "locationmode": "country names",
         "locations": [
          "Afghanistan",
          "Albania",
          "Algeria",
          "Andorra",
          "Angola",
          "Antigua and Barbuda",
          "Argentina",
          "Armenia",
          "Australia",
          "Austria",
          "Azerbaijan",
          "Bahamas",
          "Bahrain",
          "Bangladesh",
          "Barbados",
          "Belarus",
          "Belgium",
          "Belize",
          "Benin",
          "Bhutan",
          "Bolivia",
          "Bosnia and Herzegovina",
          "Botswana",
          "Brazil",
          "Brunei",
          "Bulgaria",
          "Burkina Faso",
          "Burma",
          "Burundi",
          "Cabo Verde",
          "Cambodia",
          "Cameroon",
          "Canada",
          "Central African Republic",
          "Chad",
          "Chile",
          "China",
          "Colombia",
          "Comoros",
          "Congo (Brazzaville)",
          "Congo (Kinshasa)",
          "Costa Rica",
          "Cote d'Ivoire",
          "Croatia",
          "Cuba",
          "Cyprus",
          "Czechia",
          "Denmark",
          "Diamond Princess",
          "Djibouti",
          "Dominica",
          "Dominican Republic",
          "Ecuador",
          "Egypt",
          "El Salvador",
          "Equatorial Guinea",
          "Eritrea",
          "Estonia",
          "Eswatini",
          "Ethiopia",
          "Fiji",
          "Finland",
          "France",
          "Gabon",
          "Gambia",
          "Georgia",
          "Germany",
          "Ghana",
          "Greece",
          "Grenada",
          "Guatemala",
          "Guinea",
          "Guinea-Bissau",
          "Guyana",
          "Haiti",
          "Holy See",
          "Honduras",
          "Hungary",
          "Iceland",
          "India",
          "Indonesia",
          "Iran",
          "Iraq",
          "Ireland",
          "Israel",
          "Italy",
          "Jamaica",
          "Japan",
          "Jordan",
          "Kazakhstan",
          "Kenya",
          "Korea, South",
          "Kosovo",
          "Kuwait",
          "Kyrgyzstan",
          "Laos",
          "Latvia",
          "Lebanon",
          "Lesotho",
          "Liberia",
          "Libya",
          "Liechtenstein",
          "Lithuania",
          "Luxembourg",
          "MS Zaandam",
          "Madagascar",
          "Malawi",
          "Malaysia",
          "Maldives",
          "Mali",
          "Malta",
          "Mauritania",
          "Mauritius",
          "Mexico",
          "Moldova",
          "Monaco",
          "Mongolia",
          "Montenegro",
          "Morocco",
          "Mozambique",
          "Namibia",
          "Nepal",
          "Netherlands",
          "New Zealand",
          "Nicaragua",
          "Niger",
          "Nigeria",
          "North Macedonia",
          "Norway",
          "Oman",
          "Pakistan",
          "Panama",
          "Papua New Guinea",
          "Paraguay",
          "Peru",
          "Philippines",
          "Poland",
          "Portugal",
          "Qatar",
          "Romania",
          "Russia",
          "Rwanda",
          "Saint Kitts and Nevis",
          "Saint Lucia",
          "Saint Vincent and the Grenadines",
          "San Marino",
          "Sao Tome and Principe",
          "Saudi Arabia",
          "Senegal",
          "Serbia",
          "Seychelles",
          "Sierra Leone",
          "Singapore",
          "Slovakia",
          "Slovenia",
          "Somalia",
          "South Africa",
          "South Sudan",
          "Spain",
          "Sri Lanka",
          "Sudan",
          "Suriname",
          "Sweden",
          "Switzerland",
          "Syria",
          "Taiwan*",
          "Tajikistan",
          "Tanzania",
          "Thailand",
          "Timor-Leste",
          "Togo",
          "Trinidad and Tobago",
          "Tunisia",
          "Turkey",
          "US",
          "Uganda",
          "Ukraine",
          "United Arab Emirates",
          "United Kingdom",
          "Uruguay",
          "Uzbekistan",
          "Venezuela",
          "Vietnam",
          "West Bank and Gaza",
          "Western Sahara",
          "Yemen",
          "Zambia",
          "Zimbabwe"
         ],
         "marker": {
          "color": [
           38544,
           10704,
           47216,
           1301,
           3092,
           95,
           512293,
           45152,
           26524,
           30583,
           37732,
           2721,
           57450,
           331078,
           180,
           73402,
           89691,
           1365,
           2242,
           234,
           123345,
           22258,
           2126,
           4197889,
           145,
           17435,
           1476,
           2009,
           466,
           4473,
           274,
           19848,
           136135,
           4736,
           1048,
           427027,
           90100,
           686851,
           456,
           4891,
           10324,
           51224,
           18815,
           12626,
           4459,
           1514,
           31036,
           19036,
           712,
           5391,
           22,
           100937,
           112166,
           100403,
           26602,
           4990,
           341,
           2585,
           4936,
           61700,
           32,
           8430,
           383292,
           8621,
           3293,
           1773,
           256433,
           45313,
           12080,
           24,
           79622,
           9885,
           2245,
           1703,
           8384,
           12,
           65597,
           9715,
           2153,
           4465863,
           203342,
           393425,
           273821,
           30164,
           141097,
           281583,
           3437,
           73264,
           2659,
           106584,
           35460,
           21743,
           12683,
           92082,
           44613,
           22,
           1443,
           21877,
           1164,
           1313,
           20462,
           108,
           3163,
           7023,
           9,
           15520,
           5653,
           9583,
           8834,
           2898,
           2162,
           7191,
           361,
           647321,
           41144,
           161,
           310,
           6094,
           77878,
           4764,
           9108,
           49219,
           81085,
           1792,
           4818,
           1178,
           55632,
           15293,
           11746,
           87939,
           300030,
           99042,
           504,
           25026,
           696190,
           245143,
           71947,
           61541,
           120846,
           98304,
           1037526,
           4460,
           17,
           27,
           62,
           722,
           898,
           323012,
           14102,
           32078,
           137,
           2067,
           57166,
           4888,
           3312,
           3371,
           642431,
           2555,
           543379,
           3147,
           13437,
           4447,
           85880,
           45306,
           3351,
           495,
           8899,
           509,
           3454,
           27,
           1528,
           2588,
           5417,
           284943,
           6361265,
           4101,
           146511,
           75981,
           357613,
           1741,
           44930,
           56751,
           1059,
           27919,
           10,
           1999,
           13112,
           7429
          ],
          "coloraxis": "coloraxis",
          "size": [
           23.756750399816376,
           16.17572779955492,
           25.24798698444102,
           8.595738382774108,
           11.144788871948561,
           3.920279951613009,
           51.62446054781144,
           24.911684648564197,
           21.236928543698884,
           22.163789939400804,
           23.605486077575367,
           10.72552507475697,
           26.778547083017344,
           45.28757819447558,
           4.748776734338052,
           28.82122049765127,
           30.60727459506513,
           8.720468053022428,
           10.120236985145514,
           5.137652867481977,
           33.677237896828586,
           20.148644830468857,
           9.960221075351141,
           97.0307269823386,
           4.450516348093168,
           18.72520519584685,
           8.927418769597514,
           9.792509037371504,
           6.3170712455563445,
           12.450295792096982,
           5.386729515921298,
           19.467717047141306,
           34.68893277325766,
           12.665534088175024,
           8.055794607229323,
           48.88060815677787,
           30.649079615673426,
           56.37139217066557,
           6.276094190811437,
           12.788490901920401,
           16.00126798642909,
           25.872717505831744,
           19.158048430480594,
           16.99729200728092,
           12.438592544345923,
           8.995757975790644,
           22.261771613824585,
           19.22528155758113,
           7.173713004945817,
           13.167423368797763,
           2.5277074255111027,
           31.711378244778786,
           32.730931844230966,
           31.660954735263555,
           21.25564493246349,
           12.865603522755142,
           5.752098490995029,
           10.561805468742122,
           12.823676254105877,
           27.358075844710175,
           2.82842712474619,
           15.057340532328276,
           47.32154619779181,
           15.1588862303901,
           11.357363325365718,
           9.432191741183306,
           41.9461566061286,
           24.93829998677392,
           16.773360467955126,
           2.594557933960465,
           29.53316043754744,
           15.794031581809147,
           10.124297623348822,
           9.31889448524404,
           15.032644283178511,
           2.107435899344471,
           27.86539433802266,
           15.712049601783697,
           9.998001761827021,
           98.84884947086515,
           39.126241142812184,
           47.69343318982892,
           42.779925670256006,
           22.07225371648878,
           35.06350559102083,
           43.140177680076675,
           11.50413209056362,
           28.804954121872793,
           10.651615996156657,
           32.233510356090974,
           23.169764488438464,
           20.00763886116418,
           17.020275977707964,
           30.849804987571925,
           24.82209471844328,
           2.5277074255111027,
           8.86706514816579,
           20.044550888605905,
           8.313538150648567,
           8.619447282764307,
           19.646465236127924,
           4.0740572414573535,
           11.220953369087793,
           14.254657948010047,
           1.9331820449317627,
           18.08287645227244,
           13.356224047726453,
           15.647697668079603,
           15.270287665328004,
           10.93023537654022,
           10.01052159597655,
           14.356110306836959,
           5.851297242409216,
           55.37782683149947,
           24.226571247137485,
           4.592485172624222,
           5.589957527770381,
           13.660630201166224,
           29.33759013695297,
           12.687951966495746,
           15.410861116722296,
           25.56464908459786,
           29.694919775449574,
           9.462402151602785,
           12.730927317310833,
           8.343410029676447,
           26.521458400268898,
           18.003121254735152,
           16.632862562360632,
           30.42667228034027,
           43.96928511512039,
           31.531586343077162,
           6.467391640165971,
           20.869758909866757,
           56.60024801954614,
           41.38336952437679,
           28.648626597373763,
           27.336906331584952,
           33.47107677356264,
           31.460915546198944,
           63.79691770208775,
           12.439429342932607,
           2.3395626336814512,
           2.6878753795222865,
           3.449193085800954,
           7.203791910812621,
           7.691001587543644,
           44.95371594747755,
           17.570503754665513,
           22.483410244081508,
           4.375383957829938,
           9.876478962273579,
           26.738764823417753,
           12.786137167804453,
           11.37698271941917,
           11.437408317008083,
           55.25199283153941,
           10.524882870272739,
           52.54493450696703,
           11.203894814220995,
           17.317719267745616,
           12.428540699636937,
           30.21117459365294,
           24.937144175818922,
           11.417008604162735,
           6.432526139139814,
           15.303908556104808,
           6.486573368802769,
           11.521173053126162,
           2.6878753795222865,
           9.020632836926195,
           10.565481200414666,
           13.1864426615326,
           43.293968590074655,
           109.91653933306792,
           12.13017121205422,
           35.46182397943168,
           29.121349832842547,
           46.347252013816856,
           9.380794697060052,
           24.874876062477057,
           26.680382750095703,
           8.08106849831396,
           21.566017714856873,
           1.9952623149688795,
           9.77786052949636,
           17.190981864669137,
           14.497032332358554
          ],
          "sizemode": "area",
          "sizeref": 0.27479134833266977
         },
         "name": "",
         "showlegend": false,
         "type": "scattergeo"
        }
       ],
       "layout": {
        "annotations": [
         {
          "showarrow": false,
          "text": "https://joserzapata.github.io/",
          "x": 0.5,
          "y": 0
         }
        ],
        "coloraxis": {
         "cmax": 6361267,
         "cmin": 0,
         "colorbar": {
          "title": {
           "text": "Confirmados"
          }
         },
         "colorscale": [
          [
           0,
           "#0d0887"
          ],
          [
           0.1111111111111111,
           "#46039f"
          ],
          [
           0.2222222222222222,
           "#7201a8"
          ],
          [
           0.3333333333333333,
           "#9c179e"
          ],
          [
           0.4444444444444444,
           "#bd3786"
          ],
          [
           0.5555555555555556,
           "#d8576b"
          ],
          [
           0.6666666666666666,
           "#ed7953"
          ],
          [
           0.7777777777777778,
           "#fb9f3a"
          ],
          [
           0.8888888888888888,
           "#fdca26"
          ],
          [
           1,
           "#f0f921"
          ]
         ],
         "showscale": false
        },
        "geo": {
         "center": {},
         "domain": {
          "x": [
           0,
           1
          ],
          "y": [
           0,
           1
          ]
         },
         "projection": {
          "type": "natural earth"
         }
        },
        "legend": {
         "itemsizing": "constant",
         "tracegroupgap": 0
        },
        "template": {
         "data": {
          "bar": [
           {
            "error_x": {
             "color": "#2a3f5f"
            },
            "error_y": {
             "color": "#2a3f5f"
            },
            "marker": {
             "line": {
              "color": "#E5ECF6",
              "width": 0.5
             }
            },
            "type": "bar"
           }
          ],
          "barpolar": [
           {
            "marker": {
             "line": {
              "color": "#E5ECF6",
              "width": 0.5
             }
            },
            "type": "barpolar"
           }
          ],
          "carpet": [
           {
            "aaxis": {
             "endlinecolor": "#2a3f5f",
             "gridcolor": "white",
             "linecolor": "white",
             "minorgridcolor": "white",
             "startlinecolor": "#2a3f5f"
            },
            "baxis": {
             "endlinecolor": "#2a3f5f",
             "gridcolor": "white",
             "linecolor": "white",
             "minorgridcolor": "white",
             "startlinecolor": "#2a3f5f"
            },
            "type": "carpet"
           }
          ],
          "choropleth": [
           {
            "colorbar": {
             "outlinewidth": 0,
             "ticks": ""
            },
            "type": "choropleth"
           }
          ],
          "contour": [
           {
            "colorbar": {
             "outlinewidth": 0,
             "ticks": ""
            },
            "colorscale": [
             [
              0,
              "#0d0887"
             ],
             [
              0.1111111111111111,
              "#46039f"
             ],
             [
              0.2222222222222222,
              "#7201a8"
             ],
             [
              0.3333333333333333,
              "#9c179e"
             ],
             [
              0.4444444444444444,
              "#bd3786"
             ],
             [
              0.5555555555555556,
              "#d8576b"
             ],
             [
              0.6666666666666666,
              "#ed7953"
             ],
             [
              0.7777777777777778,
              "#fb9f3a"
             ],
             [
              0.8888888888888888,
              "#fdca26"
             ],
             [
              1,
              "#f0f921"
             ]
            ],
            "type": "contour"
           }
          ],
          "contourcarpet": [
           {
            "colorbar": {
             "outlinewidth": 0,
             "ticks": ""
            },
            "type": "contourcarpet"
           }
          ],
          "heatmap": [
           {
            "colorbar": {
             "outlinewidth": 0,
             "ticks": ""
            },
            "colorscale": [
             [
              0,
              "#0d0887"
             ],
             [
              0.1111111111111111,
              "#46039f"
             ],
             [
              0.2222222222222222,
              "#7201a8"
             ],
             [
              0.3333333333333333,
              "#9c179e"
             ],
             [
              0.4444444444444444,
              "#bd3786"
             ],
             [
              0.5555555555555556,
              "#d8576b"
             ],
             [
              0.6666666666666666,
              "#ed7953"
             ],
             [
              0.7777777777777778,
              "#fb9f3a"
             ],
             [
              0.8888888888888888,
              "#fdca26"
             ],
             [
              1,
              "#f0f921"
             ]
            ],
            "type": "heatmap"
           }
          ],
          "heatmapgl": [
           {
            "colorbar": {
             "outlinewidth": 0,
             "ticks": ""
            },
            "colorscale": [
             [
              0,
              "#0d0887"
             ],
             [
              0.1111111111111111,
              "#46039f"
             ],
             [
              0.2222222222222222,
              "#7201a8"
             ],
             [
              0.3333333333333333,
              "#9c179e"
             ],
             [
              0.4444444444444444,
              "#bd3786"
             ],
             [
              0.5555555555555556,
              "#d8576b"
             ],
             [
              0.6666666666666666,
              "#ed7953"
             ],
             [
              0.7777777777777778,
              "#fb9f3a"
             ],
             [
              0.8888888888888888,
              "#fdca26"
             ],
             [
              1,
              "#f0f921"
             ]
            ],
            "type": "heatmapgl"
           }
          ],
          "histogram": [
           {
            "marker": {
             "colorbar": {
              "outlinewidth": 0,
              "ticks": ""
             }
            },
            "type": "histogram"
           }
          ],
          "histogram2d": [
           {
            "colorbar": {
             "outlinewidth": 0,
             "ticks": ""
            },
            "colorscale": [
             [
              0,
              "#0d0887"
             ],
             [
              0.1111111111111111,
              "#46039f"
             ],
             [
              0.2222222222222222,
              "#7201a8"
             ],
             [
              0.3333333333333333,
              "#9c179e"
             ],
             [
              0.4444444444444444,
              "#bd3786"
             ],
             [
              0.5555555555555556,
              "#d8576b"
             ],
             [
              0.6666666666666666,
              "#ed7953"
             ],
             [
              0.7777777777777778,
              "#fb9f3a"
             ],
             [
              0.8888888888888888,
              "#fdca26"
             ],
             [
              1,
              "#f0f921"
             ]
            ],
            "type": "histogram2d"
           }
          ],
          "histogram2dcontour": [
           {
            "colorbar": {
             "outlinewidth": 0,
             "ticks": ""
            },
            "colorscale": [
             [
              0,
              "#0d0887"
             ],
             [
              0.1111111111111111,
              "#46039f"
             ],
             [
              0.2222222222222222,
              "#7201a8"
             ],
             [
              0.3333333333333333,
              "#9c179e"
             ],
             [
              0.4444444444444444,
              "#bd3786"
             ],
             [
              0.5555555555555556,
              "#d8576b"
             ],
             [
              0.6666666666666666,
              "#ed7953"
             ],
             [
              0.7777777777777778,
              "#fb9f3a"
             ],
             [
              0.8888888888888888,
              "#fdca26"
             ],
             [
              1,
              "#f0f921"
             ]
            ],
            "type": "histogram2dcontour"
           }
          ],
          "mesh3d": [
           {
            "colorbar": {
             "outlinewidth": 0,
             "ticks": ""
            },
            "type": "mesh3d"
           }
          ],
          "parcoords": [
           {
            "line": {
             "colorbar": {
              "outlinewidth": 0,
              "ticks": ""
             }
            },
            "type": "parcoords"
           }
          ],
          "pie": [
           {
            "automargin": true,
            "type": "pie"
           }
          ],
          "scatter": [
           {
            "marker": {
             "colorbar": {
              "outlinewidth": 0,
              "ticks": ""
             }
            },
            "type": "scatter"
           }
          ],
          "scatter3d": [
           {
            "line": {
             "colorbar": {
              "outlinewidth": 0,
              "ticks": ""
             }
            },
            "marker": {
             "colorbar": {
              "outlinewidth": 0,
              "ticks": ""
             }
            },
            "type": "scatter3d"
           }
          ],
          "scattercarpet": [
           {
            "marker": {
             "colorbar": {
              "outlinewidth": 0,
              "ticks": ""
             }
            },
            "type": "scattercarpet"
           }
          ],
          "scattergeo": [
           {
            "marker": {
             "colorbar": {
              "outlinewidth": 0,
              "ticks": ""
             }
            },
            "type": "scattergeo"
           }
          ],
          "scattergl": [
           {
            "marker": {
             "colorbar": {
              "outlinewidth": 0,
              "ticks": ""
             }
            },
            "type": "scattergl"
           }
          ],
          "scattermapbox": [
           {
            "marker": {
             "colorbar": {
              "outlinewidth": 0,
              "ticks": ""
             }
            },
            "type": "scattermapbox"
           }
          ],
          "scatterpolar": [
           {
            "marker": {
             "colorbar": {
              "outlinewidth": 0,
              "ticks": ""
             }
            },
            "type": "scatterpolar"
           }
          ],
          "scatterpolargl": [
           {
            "marker": {
             "colorbar": {
              "outlinewidth": 0,
              "ticks": ""
             }
            },
            "type": "scatterpolargl"
           }
          ],
          "scatterternary": [
           {
            "marker": {
             "colorbar": {
              "outlinewidth": 0,
              "ticks": ""
             }
            },
            "type": "scatterternary"
           }
          ],
          "surface": [
           {
            "colorbar": {
             "outlinewidth": 0,
             "ticks": ""
            },
            "colorscale": [
             [
              0,
              "#0d0887"
             ],
             [
              0.1111111111111111,
              "#46039f"
             ],
             [
              0.2222222222222222,
              "#7201a8"
             ],
             [
              0.3333333333333333,
              "#9c179e"
             ],
             [
              0.4444444444444444,
              "#bd3786"
             ],
             [
              0.5555555555555556,
              "#d8576b"
             ],
             [
              0.6666666666666666,
              "#ed7953"
             ],
             [
              0.7777777777777778,
              "#fb9f3a"
             ],
             [
              0.8888888888888888,
              "#fdca26"
             ],
             [
              1,
              "#f0f921"
             ]
            ],
            "type": "surface"
           }
          ],
          "table": [
           {
            "cells": {
             "fill": {
              "color": "#EBF0F8"
             },
             "line": {
              "color": "white"
             }
            },
            "header": {
             "fill": {
              "color": "#C8D4E3"
             },
             "line": {
              "color": "white"
             }
            },
            "type": "table"
           }
          ]
         },
         "layout": {
          "annotationdefaults": {
           "arrowcolor": "#2a3f5f",
           "arrowhead": 0,
           "arrowwidth": 1
          },
          "coloraxis": {
           "colorbar": {
            "outlinewidth": 0,
            "ticks": ""
           }
          },
          "colorscale": {
           "diverging": [
            [
             0,
             "#8e0152"
            ],
            [
             0.1,
             "#c51b7d"
            ],
            [
             0.2,
             "#de77ae"
            ],
            [
             0.3,
             "#f1b6da"
            ],
            [
             0.4,
             "#fde0ef"
            ],
            [
             0.5,
             "#f7f7f7"
            ],
            [
             0.6,
             "#e6f5d0"
            ],
            [
             0.7,
             "#b8e186"
            ],
            [
             0.8,
             "#7fbc41"
            ],
            [
             0.9,
             "#4d9221"
            ],
            [
             1,
             "#276419"
            ]
           ],
           "sequential": [
            [
             0,
             "#0d0887"
            ],
            [
             0.1111111111111111,
             "#46039f"
            ],
            [
             0.2222222222222222,
             "#7201a8"
            ],
            [
             0.3333333333333333,
             "#9c179e"
            ],
            [
             0.4444444444444444,
             "#bd3786"
            ],
            [
             0.5555555555555556,
             "#d8576b"
            ],
            [
             0.6666666666666666,
             "#ed7953"
            ],
            [
             0.7777777777777778,
             "#fb9f3a"
            ],
            [
             0.8888888888888888,
             "#fdca26"
            ],
            [
             1,
             "#f0f921"
            ]
           ],
           "sequentialminus": [
            [
             0,
             "#0d0887"
            ],
            [
             0.1111111111111111,
             "#46039f"
            ],
            [
             0.2222222222222222,
             "#7201a8"
            ],
            [
             0.3333333333333333,
             "#9c179e"
            ],
            [
             0.4444444444444444,
             "#bd3786"
            ],
            [
             0.5555555555555556,
             "#d8576b"
            ],
            [
             0.6666666666666666,
             "#ed7953"
            ],
            [
             0.7777777777777778,
             "#fb9f3a"
            ],
            [
             0.8888888888888888,
             "#fdca26"
            ],
            [
             1,
             "#f0f921"
            ]
           ]
          },
          "colorway": [
           "#636efa",
           "#EF553B",
           "#00cc96",
           "#ab63fa",
           "#FFA15A",
           "#19d3f3",
           "#FF6692",
           "#B6E880",
           "#FF97FF",
           "#FECB52"
          ],
          "font": {
           "color": "#2a3f5f"
          },
          "geo": {
           "bgcolor": "white",
           "lakecolor": "white",
           "landcolor": "#E5ECF6",
           "showlakes": true,
           "showland": true,
           "subunitcolor": "white"
          },
          "hoverlabel": {
           "align": "left"
          },
          "hovermode": "closest",
          "mapbox": {
           "style": "light"
          },
          "paper_bgcolor": "white",
          "plot_bgcolor": "#E5ECF6",
          "polar": {
           "angularaxis": {
            "gridcolor": "white",
            "linecolor": "white",
            "ticks": ""
           },
           "bgcolor": "#E5ECF6",
           "radialaxis": {
            "gridcolor": "white",
            "linecolor": "white",
            "ticks": ""
           }
          },
          "scene": {
           "xaxis": {
            "backgroundcolor": "#E5ECF6",
            "gridcolor": "white",
            "gridwidth": 2,
            "linecolor": "white",
            "showbackground": true,
            "ticks": "",
            "zerolinecolor": "white"
           },
           "yaxis": {
            "backgroundcolor": "#E5ECF6",
            "gridcolor": "white",
            "gridwidth": 2,
            "linecolor": "white",
            "showbackground": true,
            "ticks": "",
            "zerolinecolor": "white"
           },
           "zaxis": {
            "backgroundcolor": "#E5ECF6",
            "gridcolor": "white",
            "gridwidth": 2,
            "linecolor": "white",
            "showbackground": true,
            "ticks": "",
            "zerolinecolor": "white"
           }
          },
          "shapedefaults": {
           "line": {
            "color": "#2a3f5f"
           }
          },
          "ternary": {
           "aaxis": {
            "gridcolor": "white",
            "linecolor": "white",
            "ticks": ""
           },
           "baxis": {
            "gridcolor": "white",
            "linecolor": "white",
            "ticks": ""
           },
           "bgcolor": "#E5ECF6",
           "caxis": {
            "gridcolor": "white",
            "linecolor": "white",
            "ticks": ""
           }
          },
          "title": {
           "x": 0.05
          },
          "xaxis": {
           "automargin": true,
           "gridcolor": "white",
           "linecolor": "white",
           "ticks": "",
           "title": {
            "standoff": 15
           },
           "zerolinecolor": "white",
           "zerolinewidth": 2
          },
          "yaxis": {
           "automargin": true,
           "gridcolor": "white",
           "linecolor": "white",
           "ticks": "",
           "title": {
            "standoff": 15
           },
           "zerolinecolor": "white",
           "zerolinewidth": 2
          }
         }
        },
        "title": {
         "text": "Mapa de Confirmados COVID 19 por Pais"
        },
        "width": 900
       }
      }
     },
     "metadata": {}
    }
   ],
   "source": [
    "confirmed_melt['Fecha'] = pd.to_datetime(confirmed_melt['Fecha'])\n",
    "confirmed_melt['Fecha'] = confirmed_melt['Fecha'].dt.strftime('%m/%d/%Y')\n",
    "confirmed_melt['size'] = confirmed_melt['Confirmados'].pow(0.3)\n",
    "\n",
    "max_Fecha = confirmed_melt['Fecha'].max()\n",
    "conf_max = confirmed_melt[confirmed_melt['Fecha']== max_Fecha].copy()\n",
    "conf_max.dropna(inplace=True) #eliminar filas con valores faltantes\n",
    "\n",
    "fig = px.scatter_geo(conf_max, locations=\"Country/Region\", locationmode='country names', \n",
    "                     color=\"Confirmados\", size='size', hover_name=\"Country/Region\", \n",
    "                     range_color= [0, max(confirmed_melt['Confirmados'])+2], \n",
    "                     projection=\"natural earth\", width=900,\n",
    "                     title='Mapa de Confirmados COVID 19 por Pais')\n",
    "fig.add_annotation(x=0.5, y=0,text='https://joserzapata.github.io/', showarrow=False)\n",
    "fig.update(layout_coloraxis_showscale=False)\n",
    "# grabar grafica en chart-studio si se proporciona el api-key\n",
    "if api_key: py.plot(fig, filename = 'mapa_confirmados_pais', auto_open=False)\n",
    "fig.show()"
   ]
  },
  {
   "cell_type": "markdown",
   "metadata": {
    "colab_type": "text",
    "id": "dpXpgQip1lfo"
   },
   "source": [
    "# Confirmados vs Muertos por pais"
   ]
  },
  {
   "cell_type": "code",
   "execution_count": 25,
   "metadata": {
    "colab": {},
    "colab_type": "code",
    "id": "mUsTPQU63Rf_"
   },
   "outputs": [
    {
     "output_type": "display_data",
     "data": {
      "application/vnd.plotly.v1+json": {
       "config": {
        "plotlyServerURL": "https://plotly.com"
       },
       "data": [
        {
         "hovertemplate": "Country/Region=%{text}<br>Confirmados=%{marker.size}<br>Muertos=%{y}<extra></extra>",
         "legendgroup": "US",
         "marker": {
          "color": "#636efa",
          "size": [
           6361265
          ],
          "sizemode": "area",
          "sizeref": 15903.1625,
          "symbol": "circle"
         },
         "mode": "markers+text",
         "name": "US",
         "orientation": "v",
         "showlegend": true,
         "text": [
          "US"
         ],
         "textposition": "top center",
         "type": "scatter",
         "x": [
          6361265
         ],
         "xaxis": "x",
         "y": [
          190859
         ],
         "yaxis": "y"
        },
        {
         "hovertemplate": "Country/Region=%{text}<br>Confirmados=%{marker.size}<br>Muertos=%{y}<extra></extra>",
         "legendgroup": "Brazil",
         "marker": {
          "color": "#EF553B",
          "size": [
           4197889
          ],
          "sizemode": "area",
          "sizeref": 15903.1625,
          "symbol": "circle"
         },
         "mode": "markers+text",
         "name": "Brazil",
         "orientation": "v",
         "showlegend": true,
         "text": [
          "Brazil"
         ],
         "textposition": "top center",
         "type": "scatter",
         "x": [
          4197889
         ],
         "xaxis": "x",
         "y": [
          128539
         ],
         "yaxis": "y"
        },
        {
         "hovertemplate": "Country/Region=%{text}<br>Confirmados=%{marker.size}<br>Muertos=%{y}<extra></extra>",
         "legendgroup": "India",
         "marker": {
          "color": "#00cc96",
          "size": [
           4465863
          ],
          "sizemode": "area",
          "sizeref": 15903.1625,
          "symbol": "circle"
         },
         "mode": "markers+text",
         "name": "India",
         "orientation": "v",
         "showlegend": true,
         "text": [
          "India"
         ],
         "textposition": "top center",
         "type": "scatter",
         "x": [
          4465863
         ],
         "xaxis": "x",
         "y": [
          75062
         ],
         "yaxis": "y"
        },
        {
         "hovertemplate": "Country/Region=%{text}<br>Confirmados=%{marker.size}<br>Muertos=%{y}<extra></extra>",
         "legendgroup": "Mexico",
         "marker": {
          "color": "#ab63fa",
          "size": [
           647321
          ],
          "sizemode": "area",
          "sizeref": 15903.1625,
          "symbol": "circle"
         },
         "mode": "markers+text",
         "name": "Mexico",
         "orientation": "v",
         "showlegend": true,
         "text": [
          "Mexico"
         ],
         "textposition": "top center",
         "type": "scatter",
         "x": [
          647321
         ],
         "xaxis": "x",
         "y": [
          69049
         ],
         "yaxis": "y"
        },
        {
         "hovertemplate": "Country/Region=%{text}<br>Confirmados=%{marker.size}<br>Muertos=%{y}<extra></extra>",
         "legendgroup": "United Kingdom",
         "marker": {
          "color": "#FFA15A",
          "size": [
           357613
          ],
          "sizemode": "area",
          "sizeref": 15903.1625,
          "symbol": "circle"
         },
         "mode": "markers+text",
         "name": "United Kingdom",
         "orientation": "v",
         "showlegend": true,
         "text": [
          "United Kingdom"
         ],
         "textposition": "top center",
         "type": "scatter",
         "x": [
          357613
         ],
         "xaxis": "x",
         "y": [
          41683
         ],
         "yaxis": "y"
        },
        {
         "hovertemplate": "Country/Region=%{text}<br>Confirmados=%{marker.size}<br>Muertos=%{y}<extra></extra>",
         "legendgroup": "Italy",
         "marker": {
          "color": "#19d3f3",
          "size": [
           281583
          ],
          "sizemode": "area",
          "sizeref": 15903.1625,
          "symbol": "circle"
         },
         "mode": "markers+text",
         "name": "Italy",
         "orientation": "v",
         "showlegend": true,
         "text": [
          "Italy"
         ],
         "textposition": "top center",
         "type": "scatter",
         "x": [
          281583
         ],
         "xaxis": "x",
         "y": [
          35577
         ],
         "yaxis": "y"
        },
        {
         "hovertemplate": "Country/Region=%{text}<br>Confirmados=%{marker.size}<br>Muertos=%{y}<extra></extra>",
         "legendgroup": "France",
         "marker": {
          "color": "#FF6692",
          "size": [
           383292
          ],
          "sizemode": "area",
          "sizeref": 15903.1625,
          "symbol": "circle"
         },
         "mode": "markers+text",
         "name": "France",
         "orientation": "v",
         "showlegend": true,
         "text": [
          "France"
         ],
         "textposition": "top center",
         "type": "scatter",
         "x": [
          383292
         ],
         "xaxis": "x",
         "y": [
          30805
         ],
         "yaxis": "y"
        },
        {
         "hovertemplate": "Country/Region=%{text}<br>Confirmados=%{marker.size}<br>Muertos=%{y}<extra></extra>",
         "legendgroup": "Peru",
         "marker": {
          "color": "#B6E880",
          "size": [
           696190
          ],
          "sizemode": "area",
          "sizeref": 15903.1625,
          "symbol": "circle"
         },
         "mode": "markers+text",
         "name": "Peru",
         "orientation": "v",
         "showlegend": true,
         "text": [
          "Peru"
         ],
         "textposition": "top center",
         "type": "scatter",
         "x": [
          696190
         ],
         "xaxis": "x",
         "y": [
          30123
         ],
         "yaxis": "y"
        },
        {
         "hovertemplate": "Country/Region=%{text}<br>Confirmados=%{marker.size}<br>Muertos=%{y}<extra></extra>",
         "legendgroup": "Spain",
         "marker": {
          "color": "#FF97FF",
          "size": [
           543379
          ],
          "sizemode": "area",
          "sizeref": 15903.1625,
          "symbol": "circle"
         },
         "mode": "markers+text",
         "name": "Spain",
         "orientation": "v",
         "showlegend": true,
         "text": [
          "Spain"
         ],
         "textposition": "top center",
         "type": "scatter",
         "x": [
          543379
         ],
         "xaxis": "x",
         "y": [
          29628
         ],
         "yaxis": "y"
        },
        {
         "hovertemplate": "Country/Region=%{text}<br>Confirmados=%{marker.size}<br>Muertos=%{y}<extra></extra>",
         "legendgroup": "Iran",
         "marker": {
          "color": "#FECB52",
          "size": [
           393425
          ],
          "sizemode": "area",
          "sizeref": 15903.1625,
          "symbol": "circle"
         },
         "mode": "markers+text",
         "name": "Iran",
         "orientation": "v",
         "showlegend": true,
         "text": [
          "Iran"
         ],
         "textposition": "top center",
         "type": "scatter",
         "x": [
          393425
         ],
         "xaxis": "x",
         "y": [
          22669
         ],
         "yaxis": "y"
        },
        {
         "hovertemplate": "Country/Region=%{text}<br>Confirmados=%{marker.size}<br>Muertos=%{y}<extra></extra>",
         "legendgroup": "Colombia",
         "marker": {
          "color": "#636efa",
          "size": [
           686851
          ],
          "sizemode": "area",
          "sizeref": 15903.1625,
          "symbol": "circle"
         },
         "mode": "markers+text",
         "name": "Colombia",
         "orientation": "v",
         "showlegend": true,
         "text": [
          "Colombia"
         ],
         "textposition": "top center",
         "type": "scatter",
         "x": [
          686851
         ],
         "xaxis": "x",
         "y": [
          22053
         ],
         "yaxis": "y"
        },
        {
         "hovertemplate": "Country/Region=%{text}<br>Confirmados=%{marker.size}<br>Muertos=%{y}<extra></extra>",
         "legendgroup": "Russia",
         "marker": {
          "color": "#EF553B",
          "size": [
           1037526
          ],
          "sizemode": "area",
          "sizeref": 15903.1625,
          "symbol": "circle"
         },
         "mode": "markers+text",
         "name": "Russia",
         "orientation": "v",
         "showlegend": true,
         "text": [
          "Russia"
         ],
         "textposition": "top center",
         "type": "scatter",
         "x": [
          1037526
         ],
         "xaxis": "x",
         "y": [
          18080
         ],
         "yaxis": "y"
        },
        {
         "hovertemplate": "Country/Region=%{text}<br>Confirmados=%{marker.size}<br>Muertos=%{y}<extra></extra>",
         "legendgroup": "South Africa",
         "marker": {
          "color": "#00cc96",
          "size": [
           642431
          ],
          "sizemode": "area",
          "sizeref": 15903.1625,
          "symbol": "circle"
         },
         "mode": "markers+text",
         "name": "South Africa",
         "orientation": "v",
         "showlegend": true,
         "text": [
          "South Africa"
         ],
         "textposition": "top center",
         "type": "scatter",
         "x": [
          642431
         ],
         "xaxis": "x",
         "y": [
          15168
         ],
         "yaxis": "y"
        },
        {
         "hovertemplate": "Country/Region=%{text}<br>Confirmados=%{marker.size}<br>Muertos=%{y}<extra></extra>",
         "legendgroup": "Chile",
         "marker": {
          "color": "#ab63fa",
          "size": [
           427027
          ],
          "sizemode": "area",
          "sizeref": 15903.1625,
          "symbol": "circle"
         },
         "mode": "markers+text",
         "name": "Chile",
         "orientation": "v",
         "showlegend": true,
         "text": [
          "Chile"
         ],
         "textposition": "top center",
         "type": "scatter",
         "x": [
          427027
         ],
         "xaxis": "x",
         "y": [
          11702
         ],
         "yaxis": "y"
        },
        {
         "hovertemplate": "Country/Region=%{text}<br>Confirmados=%{marker.size}<br>Muertos=%{y}<extra></extra>",
         "legendgroup": "Ecuador",
         "marker": {
          "color": "#FFA15A",
          "size": [
           112166
          ],
          "sizemode": "area",
          "sizeref": 15903.1625,
          "symbol": "circle"
         },
         "mode": "markers+text",
         "name": "Ecuador",
         "orientation": "v",
         "showlegend": true,
         "text": [
          "Ecuador"
         ],
         "textposition": "top center",
         "type": "scatter",
         "x": [
          112166
         ],
         "xaxis": "x",
         "y": [
          10701
         ],
         "yaxis": "y"
        }
       ],
       "layout": {
        "height": 500,
        "legend": {
         "itemsizing": "constant",
         "title": {
          "text": "Country/Region"
         },
         "tracegroupgap": 0
        },
        "showlegend": false,
        "template": {
         "data": {
          "bar": [
           {
            "error_x": {
             "color": "#2a3f5f"
            },
            "error_y": {
             "color": "#2a3f5f"
            },
            "marker": {
             "line": {
              "color": "#E5ECF6",
              "width": 0.5
             }
            },
            "type": "bar"
           }
          ],
          "barpolar": [
           {
            "marker": {
             "line": {
              "color": "#E5ECF6",
              "width": 0.5
             }
            },
            "type": "barpolar"
           }
          ],
          "carpet": [
           {
            "aaxis": {
             "endlinecolor": "#2a3f5f",
             "gridcolor": "white",
             "linecolor": "white",
             "minorgridcolor": "white",
             "startlinecolor": "#2a3f5f"
            },
            "baxis": {
             "endlinecolor": "#2a3f5f",
             "gridcolor": "white",
             "linecolor": "white",
             "minorgridcolor": "white",
             "startlinecolor": "#2a3f5f"
            },
            "type": "carpet"
           }
          ],
          "choropleth": [
           {
            "colorbar": {
             "outlinewidth": 0,
             "ticks": ""
            },
            "type": "choropleth"
           }
          ],
          "contour": [
           {
            "colorbar": {
             "outlinewidth": 0,
             "ticks": ""
            },
            "colorscale": [
             [
              0,
              "#0d0887"
             ],
             [
              0.1111111111111111,
              "#46039f"
             ],
             [
              0.2222222222222222,
              "#7201a8"
             ],
             [
              0.3333333333333333,
              "#9c179e"
             ],
             [
              0.4444444444444444,
              "#bd3786"
             ],
             [
              0.5555555555555556,
              "#d8576b"
             ],
             [
              0.6666666666666666,
              "#ed7953"
             ],
             [
              0.7777777777777778,
              "#fb9f3a"
             ],
             [
              0.8888888888888888,
              "#fdca26"
             ],
             [
              1,
              "#f0f921"
             ]
            ],
            "type": "contour"
           }
          ],
          "contourcarpet": [
           {
            "colorbar": {
             "outlinewidth": 0,
             "ticks": ""
            },
            "type": "contourcarpet"
           }
          ],
          "heatmap": [
           {
            "colorbar": {
             "outlinewidth": 0,
             "ticks": ""
            },
            "colorscale": [
             [
              0,
              "#0d0887"
             ],
             [
              0.1111111111111111,
              "#46039f"
             ],
             [
              0.2222222222222222,
              "#7201a8"
             ],
             [
              0.3333333333333333,
              "#9c179e"
             ],
             [
              0.4444444444444444,
              "#bd3786"
             ],
             [
              0.5555555555555556,
              "#d8576b"
             ],
             [
              0.6666666666666666,
              "#ed7953"
             ],
             [
              0.7777777777777778,
              "#fb9f3a"
             ],
             [
              0.8888888888888888,
              "#fdca26"
             ],
             [
              1,
              "#f0f921"
             ]
            ],
            "type": "heatmap"
           }
          ],
          "heatmapgl": [
           {
            "colorbar": {
             "outlinewidth": 0,
             "ticks": ""
            },
            "colorscale": [
             [
              0,
              "#0d0887"
             ],
             [
              0.1111111111111111,
              "#46039f"
             ],
             [
              0.2222222222222222,
              "#7201a8"
             ],
             [
              0.3333333333333333,
              "#9c179e"
             ],
             [
              0.4444444444444444,
              "#bd3786"
             ],
             [
              0.5555555555555556,
              "#d8576b"
             ],
             [
              0.6666666666666666,
              "#ed7953"
             ],
             [
              0.7777777777777778,
              "#fb9f3a"
             ],
             [
              0.8888888888888888,
              "#fdca26"
             ],
             [
              1,
              "#f0f921"
             ]
            ],
            "type": "heatmapgl"
           }
          ],
          "histogram": [
           {
            "marker": {
             "colorbar": {
              "outlinewidth": 0,
              "ticks": ""
             }
            },
            "type": "histogram"
           }
          ],
          "histogram2d": [
           {
            "colorbar": {
             "outlinewidth": 0,
             "ticks": ""
            },
            "colorscale": [
             [
              0,
              "#0d0887"
             ],
             [
              0.1111111111111111,
              "#46039f"
             ],
             [
              0.2222222222222222,
              "#7201a8"
             ],
             [
              0.3333333333333333,
              "#9c179e"
             ],
             [
              0.4444444444444444,
              "#bd3786"
             ],
             [
              0.5555555555555556,
              "#d8576b"
             ],
             [
              0.6666666666666666,
              "#ed7953"
             ],
             [
              0.7777777777777778,
              "#fb9f3a"
             ],
             [
              0.8888888888888888,
              "#fdca26"
             ],
             [
              1,
              "#f0f921"
             ]
            ],
            "type": "histogram2d"
           }
          ],
          "histogram2dcontour": [
           {
            "colorbar": {
             "outlinewidth": 0,
             "ticks": ""
            },
            "colorscale": [
             [
              0,
              "#0d0887"
             ],
             [
              0.1111111111111111,
              "#46039f"
             ],
             [
              0.2222222222222222,
              "#7201a8"
             ],
             [
              0.3333333333333333,
              "#9c179e"
             ],
             [
              0.4444444444444444,
              "#bd3786"
             ],
             [
              0.5555555555555556,
              "#d8576b"
             ],
             [
              0.6666666666666666,
              "#ed7953"
             ],
             [
              0.7777777777777778,
              "#fb9f3a"
             ],
             [
              0.8888888888888888,
              "#fdca26"
             ],
             [
              1,
              "#f0f921"
             ]
            ],
            "type": "histogram2dcontour"
           }
          ],
          "mesh3d": [
           {
            "colorbar": {
             "outlinewidth": 0,
             "ticks": ""
            },
            "type": "mesh3d"
           }
          ],
          "parcoords": [
           {
            "line": {
             "colorbar": {
              "outlinewidth": 0,
              "ticks": ""
             }
            },
            "type": "parcoords"
           }
          ],
          "pie": [
           {
            "automargin": true,
            "type": "pie"
           }
          ],
          "scatter": [
           {
            "marker": {
             "colorbar": {
              "outlinewidth": 0,
              "ticks": ""
             }
            },
            "type": "scatter"
           }
          ],
          "scatter3d": [
           {
            "line": {
             "colorbar": {
              "outlinewidth": 0,
              "ticks": ""
             }
            },
            "marker": {
             "colorbar": {
              "outlinewidth": 0,
              "ticks": ""
             }
            },
            "type": "scatter3d"
           }
          ],
          "scattercarpet": [
           {
            "marker": {
             "colorbar": {
              "outlinewidth": 0,
              "ticks": ""
             }
            },
            "type": "scattercarpet"
           }
          ],
          "scattergeo": [
           {
            "marker": {
             "colorbar": {
              "outlinewidth": 0,
              "ticks": ""
             }
            },
            "type": "scattergeo"
           }
          ],
          "scattergl": [
           {
            "marker": {
             "colorbar": {
              "outlinewidth": 0,
              "ticks": ""
             }
            },
            "type": "scattergl"
           }
          ],
          "scattermapbox": [
           {
            "marker": {
             "colorbar": {
              "outlinewidth": 0,
              "ticks": ""
             }
            },
            "type": "scattermapbox"
           }
          ],
          "scatterpolar": [
           {
            "marker": {
             "colorbar": {
              "outlinewidth": 0,
              "ticks": ""
             }
            },
            "type": "scatterpolar"
           }
          ],
          "scatterpolargl": [
           {
            "marker": {
             "colorbar": {
              "outlinewidth": 0,
              "ticks": ""
             }
            },
            "type": "scatterpolargl"
           }
          ],
          "scatterternary": [
           {
            "marker": {
             "colorbar": {
              "outlinewidth": 0,
              "ticks": ""
             }
            },
            "type": "scatterternary"
           }
          ],
          "surface": [
           {
            "colorbar": {
             "outlinewidth": 0,
             "ticks": ""
            },
            "colorscale": [
             [
              0,
              "#0d0887"
             ],
             [
              0.1111111111111111,
              "#46039f"
             ],
             [
              0.2222222222222222,
              "#7201a8"
             ],
             [
              0.3333333333333333,
              "#9c179e"
             ],
             [
              0.4444444444444444,
              "#bd3786"
             ],
             [
              0.5555555555555556,
              "#d8576b"
             ],
             [
              0.6666666666666666,
              "#ed7953"
             ],
             [
              0.7777777777777778,
              "#fb9f3a"
             ],
             [
              0.8888888888888888,
              "#fdca26"
             ],
             [
              1,
              "#f0f921"
             ]
            ],
            "type": "surface"
           }
          ],
          "table": [
           {
            "cells": {
             "fill": {
              "color": "#EBF0F8"
             },
             "line": {
              "color": "white"
             }
            },
            "header": {
             "fill": {
              "color": "#C8D4E3"
             },
             "line": {
              "color": "white"
             }
            },
            "type": "table"
           }
          ]
         },
         "layout": {
          "annotationdefaults": {
           "arrowcolor": "#2a3f5f",
           "arrowhead": 0,
           "arrowwidth": 1
          },
          "coloraxis": {
           "colorbar": {
            "outlinewidth": 0,
            "ticks": ""
           }
          },
          "colorscale": {
           "diverging": [
            [
             0,
             "#8e0152"
            ],
            [
             0.1,
             "#c51b7d"
            ],
            [
             0.2,
             "#de77ae"
            ],
            [
             0.3,
             "#f1b6da"
            ],
            [
             0.4,
             "#fde0ef"
            ],
            [
             0.5,
             "#f7f7f7"
            ],
            [
             0.6,
             "#e6f5d0"
            ],
            [
             0.7,
             "#b8e186"
            ],
            [
             0.8,
             "#7fbc41"
            ],
            [
             0.9,
             "#4d9221"
            ],
            [
             1,
             "#276419"
            ]
           ],
           "sequential": [
            [
             0,
             "#0d0887"
            ],
            [
             0.1111111111111111,
             "#46039f"
            ],
            [
             0.2222222222222222,
             "#7201a8"
            ],
            [
             0.3333333333333333,
             "#9c179e"
            ],
            [
             0.4444444444444444,
             "#bd3786"
            ],
            [
             0.5555555555555556,
             "#d8576b"
            ],
            [
             0.6666666666666666,
             "#ed7953"
            ],
            [
             0.7777777777777778,
             "#fb9f3a"
            ],
            [
             0.8888888888888888,
             "#fdca26"
            ],
            [
             1,
             "#f0f921"
            ]
           ],
           "sequentialminus": [
            [
             0,
             "#0d0887"
            ],
            [
             0.1111111111111111,
             "#46039f"
            ],
            [
             0.2222222222222222,
             "#7201a8"
            ],
            [
             0.3333333333333333,
             "#9c179e"
            ],
            [
             0.4444444444444444,
             "#bd3786"
            ],
            [
             0.5555555555555556,
             "#d8576b"
            ],
            [
             0.6666666666666666,
             "#ed7953"
            ],
            [
             0.7777777777777778,
             "#fb9f3a"
            ],
            [
             0.8888888888888888,
             "#fdca26"
            ],
            [
             1,
             "#f0f921"
            ]
           ]
          },
          "colorway": [
           "#636efa",
           "#EF553B",
           "#00cc96",
           "#ab63fa",
           "#FFA15A",
           "#19d3f3",
           "#FF6692",
           "#B6E880",
           "#FF97FF",
           "#FECB52"
          ],
          "font": {
           "color": "#2a3f5f"
          },
          "geo": {
           "bgcolor": "white",
           "lakecolor": "white",
           "landcolor": "#E5ECF6",
           "showlakes": true,
           "showland": true,
           "subunitcolor": "white"
          },
          "hoverlabel": {
           "align": "left"
          },
          "hovermode": "closest",
          "mapbox": {
           "style": "light"
          },
          "paper_bgcolor": "white",
          "plot_bgcolor": "#E5ECF6",
          "polar": {
           "angularaxis": {
            "gridcolor": "white",
            "linecolor": "white",
            "ticks": ""
           },
           "bgcolor": "#E5ECF6",
           "radialaxis": {
            "gridcolor": "white",
            "linecolor": "white",
            "ticks": ""
           }
          },
          "scene": {
           "xaxis": {
            "backgroundcolor": "#E5ECF6",
            "gridcolor": "white",
            "gridwidth": 2,
            "linecolor": "white",
            "showbackground": true,
            "ticks": "",
            "zerolinecolor": "white"
           },
           "yaxis": {
            "backgroundcolor": "#E5ECF6",
            "gridcolor": "white",
            "gridwidth": 2,
            "linecolor": "white",
            "showbackground": true,
            "ticks": "",
            "zerolinecolor": "white"
           },
           "zaxis": {
            "backgroundcolor": "#E5ECF6",
            "gridcolor": "white",
            "gridwidth": 2,
            "linecolor": "white",
            "showbackground": true,
            "ticks": "",
            "zerolinecolor": "white"
           }
          },
          "shapedefaults": {
           "line": {
            "color": "#2a3f5f"
           }
          },
          "ternary": {
           "aaxis": {
            "gridcolor": "white",
            "linecolor": "white",
            "ticks": ""
           },
           "baxis": {
            "gridcolor": "white",
            "linecolor": "white",
            "ticks": ""
           },
           "bgcolor": "#E5ECF6",
           "caxis": {
            "gridcolor": "white",
            "linecolor": "white",
            "ticks": ""
           }
          },
          "title": {
           "x": 0.05
          },
          "xaxis": {
           "automargin": true,
           "gridcolor": "white",
           "linecolor": "white",
           "ticks": "",
           "title": {
            "standoff": 15
           },
           "zerolinecolor": "white",
           "zerolinewidth": 2
          },
          "yaxis": {
           "automargin": true,
           "gridcolor": "white",
           "linecolor": "white",
           "ticks": "",
           "title": {
            "standoff": 15
           },
           "zerolinecolor": "white",
           "zerolinewidth": 2
          }
         }
        },
        "title": {
         "text": "Muertos vs Confirmados - 09/09/2020 - (15 Paises)"
        },
        "width": 900,
        "xaxis": {
         "anchor": "y",
         "domain": [
          0,
          1
         ],
         "title": {
          "text": "Confirmados"
         },
         "type": "log"
        },
        "yaxis": {
         "anchor": "x",
         "domain": [
          0,
          1
         ],
         "title": {
          "text": "Muertos"
         },
         "type": "log"
        }
       }
      }
     },
     "metadata": {}
    }
   ],
   "source": [
    "death_melt['Fecha'] = pd.to_datetime(death_melt['Fecha'])\n",
    "death_melt['Fecha'] = death_melt['Fecha'].dt.strftime('%m/%d/%Y')\n",
    "\n",
    "max_Fecha = death_melt['Fecha'].max()\n",
    "death_max = death_melt[death_melt['Fecha']== max_Fecha].copy()\n",
    "death_max.dropna(inplace=True) #eliminar filas con valores faltantes\n",
    "\n",
    "full_melt_max = pd.merge(conf_max[['Country/Region','Confirmados']],\n",
    "                         death_max[['Country/Region','Muertos']],\n",
    "                         on='Country/Region', how='left')\n",
    "\n",
    "fig = px.scatter(full_melt_max.sort_values('Muertos', ascending=False).iloc[:15, :], \n",
    "                 x='Confirmados', y='Muertos', color='Country/Region', size='Confirmados', height=500,width=900,\n",
    "                 text='Country/Region', log_x=True, log_y=True, title= f'Muertos vs Confirmados - {max_Fecha} - (15 Paises)')\n",
    "fig.update_traces(textposition='top center')\n",
    "fig.layout.update(showlegend = False)\n",
    "\n",
    "# grabar grafica en chart-studio si se proporciona el api-key\n",
    "if api_key: py.plot(fig, filename = 'scatter_muertos_confirmados', auto_open=False)\n",
    "fig.show()"
   ]
  },
  {
   "cell_type": "markdown",
   "metadata": {
    "colab_type": "text",
    "id": "3b83uuD9G0yg"
   },
   "source": [
    "## Progresion Mundial en el Tiempo del numero de casos\n"
   ]
  },
  {
   "cell_type": "code",
   "execution_count": null,
   "metadata": {
    "colab": {},
    "colab_type": "code",
    "id": "OUcnRkN9lqLk"
   },
   "outputs": [],
   "source": [
    "world_melt = world.melt(id_vars='Fecha', value_vars= list(world.columns)[1:], var_name=None)\n",
    "\n",
    "fig = px.line(world_melt, x=\"Fecha\", y= 'value',\n",
    "              color='variable',  color_discrete_sequence=[\"teal\",\"green\",\"coral\", \"navy\"],\n",
    "              title=f'Total de Casos en el tiempo de COVID 19 - {world.iloc[-1,0]}')\n",
    "for n in list(world.columns)[1:]:\n",
    "  fig.add_annotation(x=world.iloc[-1,0], y=world.loc[world.index[-1],n],\n",
    "                     text=n, xref=\"x\",yref=\"y\",\n",
    "                     showarrow=True, ax=-50, ay=-20)\n",
    "# Indicador de numero total de confirmados\n",
    "fig.add_indicator( title= {'text':'Confirmados', 'font':{'color':'teal'}},\n",
    "                  value = world['Confirmados'].iloc[-1],\n",
    "                  mode = \"number+delta\", delta = {\"reference\": world['Confirmados'\n",
    "                  ].iloc[-2], 'relative': True },domain = {'x': [0, 0.25], 'y': [0.15, .4]})\n",
    "#Indicador numero total de Activos\n",
    "fig.add_indicator(title={'text':'Activos', 'font':{'color':'navy'}},\n",
    "                  value = world['Activos'].iloc[-1],\n",
    "                  mode = \"number+delta\", delta = {\"reference\": world['Activos'\n",
    "                  ].iloc[-2], 'relative': True },domain = {'x': [0, 0.25], 'y': [0.6, .85]})\n",
    "#Indicador numero total de Recuperados\n",
    "fig.add_indicator(title={'text':'Recuperados', 'font':{'color':'green'}},\n",
    "                  value = world['Recuperados'].iloc[-1],\n",
    "                  mode = \"number+delta\", delta = {\"reference\": world['Recuperados'\n",
    "                  ].iloc[-2], 'relative': True },domain = {'x': [0.25, 0.50], 'y': [0.6, .85]}) \n",
    "#Indicador numero total de muertos\n",
    "fig.add_indicator(title={'text':'Muertos', 'font':{'color':'coral'}}, \n",
    "                  value = world['Muertos'].iloc[-1],\n",
    "                  mode = \"number+delta\", delta = {\"reference\": world['Muertos'\n",
    "                  ].iloc[-2], 'relative': True },domain = {'x': [0.25, 0.5], 'y': [0.15, .4]})\n",
    "fig.add_annotation(x=80, y=world_melt['value'].max(),\n",
    "                   text='https://joserzapata.github.io/', showarrow=False)\n",
    "fig.layout.update(showlegend = False,\n",
    "                  yaxis =  {\"title\": {\"text\": \"Numero de Personas\"}}, # Cambiar texto eje y\n",
    "                  )\n",
    "# grabar grafica en chart-studio si se proporciona el api-key\n",
    "if api_key: py.plot(fig, filename = 'total_casos_serie', auto_open=False)\n",
    "fig.show()"
   ]
  },
  {
   "cell_type": "markdown",
   "metadata": {
    "colab_type": "text",
    "id": "o-ong5NYHCsT"
   },
   "source": [
    "## Total Casos Confirmados de COVID 19 por Pais\n"
   ]
  },
  {
   "cell_type": "code",
   "execution_count": null,
   "metadata": {
    "colab": {},
    "colab_type": "code",
    "id": "iSsXyRwJN8_X"
   },
   "outputs": [],
   "source": [
    "df1 = confirmed_group.copy()\n",
    "# Cambiar el nombre de la columna\n",
    "df1.rename(columns = {'date':'Fecha'}, inplace = True) \n",
    "\n",
    "if api_key:\n",
    "    # se toman la serie de tiempo cada 2 dias, por que las graficas\n",
    "    # grandes no se pueden subir a chart-studio con subscripcion gratuita\n",
    "    df1 = df1.iloc[::-2].iloc[::-1]\n",
    "    \n",
    "df_melt = df1.melt(id_vars='Fecha', value_vars= list(df1.columns)[1:], var_name=None)\n",
    "\n",
    "fig = px.line(df_melt, x='Fecha' , y='value', color='Country/Region',\n",
    "              color_discrete_sequence=px.colors.qualitative.G10, width=900,\n",
    "              title=f'Total Casos Confirmados de COVID 19 por Pais - {world.iloc[-1,0]}')\n",
    "# 8 paises mas infectados\n",
    "fecha = df1['Fecha'].iloc[-1] #obtener la fecha del ultimo dato\n",
    "paises = df1.iloc[-1,1:] #obtener la serie sin el primer dato, fecha\n",
    "paises.sort_values(ascending=False, inplace=True)\n",
    "mas_infectados=[]\n",
    "for n in range(8):\n",
    "  fig.add_annotation(x=fecha, y=paises[n], text=paises.index[n],\n",
    "                     showarrow=True, ax=+30, xref=\"x\",yref=\"y\")\n",
    "  mas_infectados.append(paises.index[n])\n",
    "    \n",
    "fig.layout.update(showlegend=False,\n",
    "                  yaxis =  {\"title\": {\"text\": \"Numero de Personas\"}}, # Cambiar texto eje y\n",
    "                  )\n",
    "fig.add_annotation(x=60, y=df_melt['value'].max(),\n",
    "                   text='https://joserzapata.github.io/', showarrow=False)\n",
    "# grabar grafica en chart-studio si se proporciona el api-key\n",
    "if api_key: py.plot(fig, filename = 'total_casos_no_china', auto_open=False)\n",
    "fig.show()"
   ]
  },
  {
   "cell_type": "markdown",
   "metadata": {
    "colab_type": "text",
    "id": "q2wii5D2IbAR"
   },
   "source": [
    "## Total Casos Confirmados de COVID 19 por Pais (Excluyendo los 8 mas infectados)"
   ]
  },
  {
   "cell_type": "code",
   "execution_count": null,
   "metadata": {
    "colab": {},
    "colab_type": "code",
    "id": "MmP8VOi9YVNK"
   },
   "outputs": [],
   "source": [
    "df2 = confirmed_group.drop(columns=mas_infectados).copy()\n",
    "# Cambiar el nombre de la columna\n",
    "df2.rename(columns = {'date':'Fecha'}, inplace = True)\n",
    "if api_key:\n",
    "    # se toman la serie de tiempo cada 2 dias, por que las graficas\n",
    "    # grandes no se pueden subir a chart-studio con subscripcion gratuita\n",
    "    df2 = df2.iloc[::-2].iloc[::-1] \n",
    "\n",
    "df_melt2 = df2.melt(id_vars='Fecha', value_vars= list(df2.columns)[1:], var_name=None)\n",
    "fig = px.line(df_melt2, x='Fecha' , y='value', color='Country/Region',\n",
    "              color_discrete_sequence=px.colors.qualitative.G10, width=900,\n",
    "              title=f'Total Casos Confirmados de COVID 19 por Pais (Excluyendo los 8 mas infectados) - {world.iloc[-1,0]}')\n",
    "\n",
    "fecha = df2['Fecha'].iloc[-1] #obtener la fecha del ultimo dato\n",
    "paises = df2.iloc[-1,1:] #obtener la serie sin el primer dato, fecha\n",
    "paises.sort_values(ascending=False, inplace=True)\n",
    "for n in range(8):\n",
    "  fig.add_annotation(x=fecha, y=paises[n], text=paises.index[n],\n",
    "                     showarrow=True, ax=+30,xref=\"x\", yref=\"y\")\n",
    "fig.add_annotation(x=60, y=df_melt2['value'].max(),\n",
    "                   text='https://joserzapata.github.io/', showarrow=False)\n",
    "fig.layout.update(showlegend=False,\n",
    "                  yaxis =  {\"title\": {\"text\": \"Numero de Personas\"}}, # Cambiar texto eje y\n",
    "                  )\n",
    "# grabar grafica en chart-studio si se proporciona el api-key\n",
    "if api_key: py.plot(fig, filename = 'total_casos_no_8_infectados', auto_open=False)\n",
    "fig.show()"
   ]
  },
  {
   "cell_type": "markdown",
   "metadata": {
    "colab_type": "text",
    "id": "gPDj3HYfKBIJ"
   },
   "source": [
    "# Animacion del Mapa de Evolucion Temporal del Codiv 19"
   ]
  },
  {
   "cell_type": "code",
   "execution_count": null,
   "metadata": {
    "colab": {},
    "colab_type": "code",
    "id": "AQxF9NDpKHtS"
   },
   "outputs": [],
   "source": [
    "if api_key:\n",
    "    # se toman la serie de tiempo cada 5 dias, por que las graficas\n",
    "    # grandes no se pueden subir a chart-studio con subscripcion gratuita\n",
    "    confirmed_melt = confirmed_group.iloc[::-5].iloc[::-1].melt(id_vars=\"date\").copy()\n",
    "    confirmed_melt.rename(columns = {'value':'Confirmados', 'date':'Fecha'}, inplace = True)\n",
    "\n",
    "confirmed_melt['Fecha'] = pd.to_datetime(confirmed_melt['Fecha'])\n",
    "confirmed_melt['Fecha'] = confirmed_melt['Fecha'].dt.strftime('%m/%d/%Y')\n",
    "confirmed_melt['size'] = confirmed_melt['Confirmados'].pow(0.3)\n",
    "confirmed_melt.dropna(inplace=True) #eliminar filas con valores faltantes\n",
    "\n",
    "fig = px.scatter_geo(confirmed_melt, locations=\"Country/Region\", locationmode='country names', \n",
    "                     color=\"Confirmados\", size='size', hover_name=\"Country/Region\", \n",
    "                     range_color= [0, max(confirmed_melt['Confirmados'])+2], \n",
    "                     projection=\"natural earth\", animation_frame=\"Fecha\", \n",
    "                     title='Contagiados COVID 19 en el Tiempo')\n",
    "fig.update(layout_coloraxis_showscale=False)\n",
    "fig.add_annotation(x=0.5, y=-0.1,text='https://joserzapata.github.io/', showarrow=False)\n",
    "# grabar grafica en chart-studio si se proporciona el api-key\n",
    "if api_key: py.plot(fig, filename = 'mapa_evolucion_temporal', auto_open=False)\n",
    "fig.show()"
   ]
  },
  {
   "cell_type": "markdown",
   "metadata": {
    "colab_type": "text",
    "id": "CU-c2Nw6jH2v"
   },
   "source": [
    "## Numero de Casos COVID 19 en Colombia"
   ]
  },
  {
   "cell_type": "code",
   "execution_count": null,
   "metadata": {
    "colab": {},
    "colab_type": "code",
    "id": "NJL6KgRTjG6g"
   },
   "outputs": [],
   "source": [
    "column_names = [\"Fecha\", \"Confirmados\", \"Recuperados\",\"Muertos\", \"Activos\"]\n",
    "colombia = pd.DataFrame(columns = column_names)\n",
    "colombia['Fecha'] = confirmed_group['date']\n",
    "colombia['Confirmados'] = confirmed_group['Colombia']\n",
    "colombia['Muertos'] = death_group['Colombia']\n",
    "colombia['Recuperados'] = recovered_group['Colombia']\n",
    "colombia['Activos'] = colombia['Confirmados'] - colombia['Recuperados'] - colombia['Muertos']\n",
    "df_melt3 = colombia.melt(id_vars='Fecha', value_vars= list(colombia.columns)[1:], var_name=None)\n",
    "fig = px.line(df_melt3, x='Fecha' , y='value', color='variable',\n",
    "              color_discrete_sequence=[\"teal\",\"green\",\"coral\", \"navy\"],\n",
    "              title=f'Corona virus (COVID 19) en Colombia - {colombia.iloc[-1,0]}')\n",
    "# Indicador de numero total de confirmados\n",
    "fig.add_indicator( title= {'text':'Confirmados', 'font':{'color':'teal'}},\n",
    "                  value = colombia['Confirmados'].iloc[-1],\n",
    "                  mode = \"number+delta\", delta = {\"reference\": colombia['Confirmados'\n",
    "                  ].iloc[-2], 'relative': True },domain = {'x': [0, 0.25], 'y': [0.15, .4]})\n",
    "#Indicador numero total de Activos\n",
    "fig.add_indicator(title={'text':'Activos', 'font':{'color':'navy'}},\n",
    "                  value = colombia['Activos'].iloc[-1],\n",
    "                  mode = \"number+delta\", delta = {\"reference\": colombia['Activos'\n",
    "                  ].iloc[-2], 'relative': True },domain = {'x': [0, 0.25], 'y': [0.6, .85]})\n",
    "#Indicador numero total de Recuperados\n",
    "fig.add_indicator(title={'text':'Recuperados', 'font':{'color':'green'}},\n",
    "                  value = colombia['Recuperados'].iloc[-1],\n",
    "                  mode = \"number+delta\", delta = {\"reference\": colombia['Recuperados'\n",
    "                  ].iloc[-2], 'relative': True },domain = {'x': [0.25, 0.50], 'y': [0.6, .85]}) \n",
    "#Indicador numero total de muertos\n",
    "fig.add_indicator(title={'text':'Muertos', 'font':{'color':'coral'}}, \n",
    "                  value = colombia['Muertos'].iloc[-1],\n",
    "                  mode = \"number+delta\", delta = {\"reference\": colombia['Muertos'\n",
    "                  ].iloc[-2], 'relative': True },domain = {'x': [0.25, 0.5], 'y': [0.15, .4]})\n",
    "fig.add_annotation(x=140, y=df_melt3['value'].max(),\n",
    "                   text='https://joserzapata.github.io/', showarrow=False)\n",
    "fig.layout.update(showlegend=False,\n",
    "                  yaxis =  {\"title\": {\"text\": \"Numero de Personas\"}}, # Cambiar texto eje y\n",
    "                  xaxis =  {\"title\": {\"text\": \"Fecha\"}})\n",
    "# grabar grafica en chart-studio si se proporciona el api-key\n",
    "if api_key: py.plot(fig, filename = 'Colombia_general', auto_open=False)\n",
    "fig.show()"
   ]
  },
  {
   "cell_type": "markdown",
   "metadata": {
    "colab_type": "text",
    "id": "P7oX7axkfJyq"
   },
   "source": [
    "# Codigo Fuente Jupyter notebook\n",
    "## Ejecutar en Google Colaboratory\n",
    "[![Open In Colab](https://colab.research.google.com/assets/colab-badge.svg)](https://colab.research.google.com/github/JoseRZapata/JoseRZapata.github.io/blob/master/Jupyter_Notebook/Covid19_Visualizacion_es.ipynb)\n",
    "\n",
    "## Ejecutar en MyBinder\n",
    "[![Binder](https://mybinder.org/badge_logo.svg)](https://mybinder.org/v2/gh/JoseRZapata/JoseRZapata.github.io/master?filepath=Jupyter_Notebook/Covid19_Visualizacion_es.ipynb)\n",
    "\n",
    "## Leer en nbviewer\n",
    "[![nbviewer](https://img.shields.io/badge/render-nbviewer-orange.svg)](https://nbviewer.jupyter.org/github/JoseRZapata/JoseRZapata.github.io/blob/master/Jupyter_Notebook/Covid19_Visualizacion_es.ipynb)"
   ]
  },
  {
   "cell_type": "markdown",
   "metadata": {
    "colab_type": "text",
    "id": "E6mkrGmdxXI4"
   },
   "source": [
    "# Refencias\n",
    "Fuentes de datos, visualizaciones y analisis de datos.\n",
    "\n",
    "- https://github.com/CSSEGISandData/COVID-19\n",
    "- https://www.kaggle.com/imdevskp/covid-19-analysis-viz-prediction-comparisons\n",
    "- https://junye0798.com/post/build-a-dashboard-to-track-the-spread-of-coronavirus-using-dash/\n",
    "- https://github.com/Perishleaf/data-visualisation-scripts/tree/master/dash-2019-coronavirus\n",
    "- https://medium.com/tomas-pueyo/coronavirus-por-qu%C3%A9-debemos-actuar-ya-93079c61e200"
   ]
  }
 ],
 "metadata": {
  "colab": {
   "collapsed_sections": [],
   "name": "Covid19_Visualizacion_v3.ipynb",
   "provenance": []
  },
  "kernelspec": {
   "display_name": "Python 3",
   "language": "python",
   "name": "python3"
  },
  "language_info": {
   "codemirror_mode": {
    "name": "ipython",
    "version": 3
   },
   "file_extension": ".py",
   "mimetype": "text/x-python",
   "name": "python",
   "nbconvert_exporter": "python",
   "pygments_lexer": "ipython3",
   "version": "3.8.3-final"
  },
  "toc": {
   "base_numbering": 1,
   "nav_menu": {},
   "number_sections": true,
   "sideBar": true,
   "skip_h1_title": false,
   "title_cell": "Table of Contents",
   "title_sidebar": "Contents",
   "toc_cell": false,
   "toc_position": {},
   "toc_section_display": true,
   "toc_window_display": false
  },
  "varInspector": {
   "cols": {
    "lenName": 16,
    "lenType": 16,
    "lenVar": 40
   },
   "kernels_config": {
    "python": {
     "delete_cmd_postfix": "",
     "delete_cmd_prefix": "del ",
     "library": "var_list.py",
     "varRefreshCmd": "print(var_dic_list())"
    },
    "r": {
     "delete_cmd_postfix": ") ",
     "delete_cmd_prefix": "rm(",
     "library": "var_list.r",
     "varRefreshCmd": "cat(var_dic_list()) "
    }
   },
   "types_to_exclude": [
    "module",
    "function",
    "builtin_function_or_method",
    "instance",
    "_Feature"
   ],
   "window_display": false
  }
 },
 "nbformat": 4,
 "nbformat_minor": 4
}