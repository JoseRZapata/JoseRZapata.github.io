{
 "cells": [
  {
   "cell_type": "markdown",
   "metadata": {
    "colab_type": "text",
    "id": "AVfznQKR-I--"
   },
   "source": [
    "# Visualizacion del Coronavirus (COVID19) Mundial\n",
    "por: Jose R. Zapata - https://joserzapata.github.io/\n",
    "\n",
    "\n",
    "Link: https://joserzapata.github.io/post/covid19-visualizacion/\n",
    "\n",
    "He visto en las redes sociales varias visualizaciones de los datos del COVID 19 y queria realizarlos en Python para tener la actualizacion de las graficas\n",
    "actualizadas cada dia, y ademas practicar el uso de [plotly](https://plotly.com/) para visualizacion interactiva.\n",
    "\n",
    "Las Graficas se actualizaran diariamente con los nuevos datos!\n",
    "\n",
    "Informacion extraida de 2019 Novel Coronavirus COVID-19 (2019-nCoV) Data Repository by Johns Hopkins CSSE\n",
    "\n",
    "https://github.com/CSSEGISandData/COVID-19"
   ]
  },
  {
   "cell_type": "markdown",
   "metadata": {},
   "source": [
    "[![Open In Colab](https://colab.research.google.com/assets/colab-badge.svg)](https://colab.research.google.com/github/JoseRZapata/JoseRZapata.github.io/blob/master/Jupyter_Notebook/Covid19_Visualizacion_es.ipynb) [![Binder](https://mybinder.org/badge_logo.svg)](https://mybinder.org/v2/gh/JoseRZapata/JoseRZapata.github.io/master?filepath=Jupyter_Notebook/Covid19_Visualizacion_es.ipynb)  [![nbviewer](https://img.shields.io/badge/render-nbviewer-orange.svg)](https://nbviewer.jupyter.org/github/JoseRZapata/JoseRZapata.github.io/blob/master/Jupyter_Notebook/Covid19_Visualizacion_es.ipynb)"
   ]
  },
  {
   "cell_type": "code",
   "execution_count": null,
   "metadata": {
    "colab": {},
    "colab_type": "code",
    "id": "Fx_yb96YHeOb"
   },
   "outputs": [],
   "source": [
    "import pandas as pd\n",
    "import plotly.express as px\n",
    "import numpy as np\n",
    "#from datetime import datetime\n",
    "\n",
    "!pip install chart_studio -q\n",
    "import chart_studio\n",
    "\n",
    "%load_ext google.colab.data_table"
   ]
  },
  {
   "cell_type": "code",
   "execution_count": null,
   "metadata": {
    "colab": {},
    "colab_type": "code",
    "id": "Da9q_s9vvOWJ"
   },
   "outputs": [],
   "source": [
    "username = '' # your username\n",
    "api_key = ''\n",
    "chart_studio.tools.set_credentials_file(username=username, api_key=api_key)\n",
    "import chart_studio.plotly as py"
   ]
  },
  {
   "cell_type": "code",
   "execution_count": null,
   "metadata": {
    "colab": {},
    "colab_type": "code",
    "id": "lT7Dgoqy-YQA"
   },
   "outputs": [],
   "source": [
    "# Leer datos\n",
    "# Obsoletos \n",
    "#confirmed = pd.read_csv('https://github.com/CSSEGISandData/COVID-19/raw/master/csse_covid_19_data/csse_covid_19_time_series/time_series_19-covid-Confirmed.csv')\n",
    "#recovered = pd.read_csv('https://github.com/CSSEGISandData/COVID-19/raw/master/csse_covid_19_data/csse_covid_19_time_series/time_series_19-covid-Recovered.csv')\n",
    "#death = pd.read_csv('https://github.com/CSSEGISandData/COVID-19/raw/master/csse_covid_19_data/csse_covid_19_time_series/time_series_19-covid-Deaths.csv')\n",
    "\n",
    "# los datos de personas recuperadas no eran confiables entonces ya solo se tienen los datos de confirmados y muertos\n",
    "\n",
    "confirmed = pd.read_csv('https://github.com/CSSEGISandData/COVID-19/raw/master/csse_covid_19_data/csse_covid_19_time_series/time_series_covid19_confirmed_global.csv')\n",
    "death = pd.read_csv('https://github.com/CSSEGISandData/COVID-19/raw/master/csse_covid_19_data/csse_covid_19_time_series/time_series_covid19_deaths_global.csv')"
   ]
  },
  {
   "cell_type": "markdown",
   "metadata": {
    "colab_type": "text",
    "id": "1nocx9xeA5UY"
   },
   "source": [
    "## Datos CSSEGISandData/COVID-19\n",
    "\n",
    "Descripcion de los datos\n",
    "\n",
    "**Province/State:** China - province name; US/Canada/Australia/ - city name, state/province name; Others - name of the event (e.g., \"Diamond Princess\" cruise ship); other countries - blank.\n",
    "\n",
    "**Country/Region:** country/region name conforming to WHO (will be updated).\n",
    "\n",
    "**Last Update:** MM/DD/YYYY HH:mm (24 hour format, in UTC).\n",
    "\n",
    "**Confirmed: **the number of confirmed cases. For Hubei Province: from Feb 13 (GMT +8), we report both clinically diagnosed and lab-confirmed cases. For lab-confirmed cases only (Before Feb 17), please refer to who_covid_19_situation_reports. For Italy, diagnosis standard might be changed since Feb 27 to \"slow the growth of new case numbers.\"\n",
    "\n",
    "**Deaths:** the number of deaths.\n",
    "**Recovered:** the number of recovered cases."
   ]
  },
  {
   "cell_type": "code",
   "execution_count": null,
   "metadata": {
    "colab": {
     "base_uri": "https://localhost:8080/",
     "height": 218
    },
    "colab_type": "code",
    "id": "fTZI2C13_rsQ",
    "outputId": "db6b6dfd-c173-4b17-9ba0-dfa31fc430b7"
   },
   "outputs": [],
   "source": [
    "confirmed.head()"
   ]
  },
  {
   "cell_type": "code",
   "execution_count": null,
   "metadata": {
    "colab": {},
    "colab_type": "code",
    "id": "LQezYlG7AhrM"
   },
   "outputs": [],
   "source": [
    "#death.head()"
   ]
  },
  {
   "cell_type": "markdown",
   "metadata": {
    "colab_type": "text",
    "id": "N2E7F_J4BqN-"
   },
   "source": [
    "## Datos Generales de cada Dataframe"
   ]
  },
  {
   "cell_type": "code",
   "execution_count": null,
   "metadata": {
    "colab": {},
    "colab_type": "code",
    "id": "dKDC24PCCGjq"
   },
   "outputs": [],
   "source": [
    "#confirmed.info()"
   ]
  },
  {
   "cell_type": "code",
   "execution_count": null,
   "metadata": {
    "colab": {},
    "colab_type": "code",
    "id": "rL6q2z8YCTKK"
   },
   "outputs": [],
   "source": [
    "#recovered.info()"
   ]
  },
  {
   "cell_type": "code",
   "execution_count": null,
   "metadata": {
    "colab": {},
    "colab_type": "code",
    "id": "JD1ws-aKCXEc"
   },
   "outputs": [],
   "source": [
    "#death.info()"
   ]
  },
  {
   "cell_type": "markdown",
   "metadata": {
    "colab_type": "text",
    "id": "Vh7JPE-MChF2"
   },
   "source": [
    "### Eliminar Ubicacion\n",
    "\n",
    "Se va realizar un analisis general de los datos y No se van a tomar los datos geograficos de *latitud*, *longitud* y los datos de *Province/State* estan incompletos.\n",
    "\n",
    "Solo se realizara un analisis por pais entonces se eliminaran las columnas mencionadas anteriormente\n"
   ]
  },
  {
   "cell_type": "code",
   "execution_count": null,
   "metadata": {
    "colab": {},
    "colab_type": "code",
    "id": "bnNhCaqKDdmC"
   },
   "outputs": [],
   "source": [
    "confirmed = confirmed.drop(columns=['Lat', 'Long','Province/State'])"
   ]
  },
  {
   "cell_type": "code",
   "execution_count": null,
   "metadata": {
    "colab": {},
    "colab_type": "code",
    "id": "WTDExLl9ED2I"
   },
   "outputs": [],
   "source": [
    "death = death.drop(columns=['Lat', 'Long','Province/State'])"
   ]
  },
  {
   "cell_type": "markdown",
   "metadata": {
    "colab_type": "text",
    "id": "2-pEpFHuPyAt"
   },
   "source": [
    "### Consolidar datos"
   ]
  },
  {
   "cell_type": "code",
   "execution_count": null,
   "metadata": {
    "colab": {},
    "colab_type": "code",
    "id": "SdBF-Y5xH2jo"
   },
   "outputs": [],
   "source": [
    "confirmed_group = confirmed.groupby(by='Country/Region')\n",
    "confirmed_group = confirmed_group.aggregate(np.sum)\n",
    "confirmed_group = confirmed_group.T\n",
    "confirmed_group.index.name = 'date'\n",
    "confirmed_group =  confirmed_group.reset_index()"
   ]
  },
  {
   "cell_type": "code",
   "execution_count": null,
   "metadata": {
    "colab": {},
    "colab_type": "code",
    "id": "tKMDez6aRMza"
   },
   "outputs": [],
   "source": [
    "death_group = death.groupby(by='Country/Region')\n",
    "death_group = death_group.aggregate(np.sum)\n",
    "death_group = death_group.T\n",
    "death_group.index.name = 'date'\n",
    "death_group =  death_group.reset_index()"
   ]
  },
  {
   "cell_type": "code",
   "execution_count": null,
   "metadata": {
    "colab": {},
    "colab_type": "code",
    "id": "sSXIMVORLmio"
   },
   "outputs": [],
   "source": [
    "confirmed_melt = confirmed_group.melt(id_vars=\"date\")\n",
    "confirmed_melt.rename(columns = {'value':'Confirmados', 'date':'Fecha'}, inplace = True)"
   ]
  },
  {
   "cell_type": "markdown",
   "metadata": {
    "colab_type": "text",
    "id": "x1I4DaJLnksH"
   },
   "source": [
    "### Datos Mundiales"
   ]
  },
  {
   "cell_type": "code",
   "execution_count": null,
   "metadata": {
    "colab": {},
    "colab_type": "code",
    "id": "k252B3rFl0IK"
   },
   "outputs": [],
   "source": [
    "# Numero de Casos confirmados por dia en el mundo\n",
    "\n",
    "column_names = [\"Fecha\", \"Confirmados\", \"Muertos\"]\n",
    "world = pd.DataFrame(columns = column_names)\n",
    "world['Fecha'] = confirmed_group['date']\n",
    "world['Confirmados'] = confirmed_group.iloc[:,1:].sum(1)\n",
    "world['Muertos'] = death_group.iloc[:,1:].sum(1)"
   ]
  },
  {
   "cell_type": "markdown",
   "metadata": {
    "colab_type": "text",
    "id": "Q2e5kRWeQrCs"
   },
   "source": [
    "# Visualizacion con Plotly"
   ]
  },
  {
   "cell_type": "markdown",
   "metadata": {
    "colab_type": "text",
    "id": "Z8B5K4RxbkEQ"
   },
   "source": [
    "## Valores Mundiales de Confirmados, Recuperados y Muertos"
   ]
  },
  {
   "cell_type": "code",
   "execution_count": null,
   "metadata": {
    "colab": {
     "base_uri": "https://localhost:8080/",
     "height": 417
    },
    "colab_type": "code",
    "id": "bs5UwImuK7re",
    "outputId": "5aac58a0-d28b-47e5-a227-1a2bf312276b"
   },
   "outputs": [],
   "source": [
    "temp = pd.DataFrame(world.iloc[-1,:]).T\n",
    "tm = temp.melt(id_vars=\"Fecha\", value_vars=[ \"Confirmados\",\"Muertos\"])\n",
    "fig = px.bar(tm, x=\"variable\" , y=\"value\", color= 'variable',\n",
    "             color_discrete_sequence=[\"green\", \"blue\"],\n",
    "             height=400, width=600,\n",
    "             title= f'Total de Casos Mundiales de COVID 19 - {str(world.iloc[-1,0])}')\n",
    "\n",
    "# Agregar el valor de cada columna en la parte superior\n",
    "for n in range(len(tm['variable'])):\n",
    "  fig.add_annotation(x=tm.iloc[n,1], y=tm.iloc[n,2], text=str(tm.iloc[n,2]),\n",
    "                     showarrow=True, ax=0, ay=-30)\n",
    "fig.layout.update(showlegend=False,\n",
    "                  yaxis =  {\"title\": {\"text\": \"Numero de Personas\"}}, # Cambiar texto eje y\n",
    "                  xaxis =  {\"title\": {\"text\": \"\"}} #Esconder nombre eje x\n",
    "                  )\n",
    "# grabar grafica en chart-studio\n",
    "#py.plot(fig, filename = 'total_casos_general', auto_open=True)\n",
    "fig.show()"
   ]
  },
  {
   "cell_type": "markdown",
   "metadata": {
    "colab_type": "text",
    "id": "GxS-iNEJ1Gu6"
   },
   "source": [
    "## Mapa Mundial de Confirmados por Pais"
   ]
  },
  {
   "cell_type": "code",
   "execution_count": null,
   "metadata": {
    "colab": {
     "base_uri": "https://localhost:8080/",
     "height": 689
    },
    "colab_type": "code",
    "id": "AWj0By9l00Ac",
    "outputId": "dc57fb06-914e-4218-d9b8-3c51a37d0758"
   },
   "outputs": [],
   "source": [
    "confirmed_melt['Fecha'] = pd.to_datetime(confirmed_melt['Fecha'])\n",
    "confirmed_melt['Fecha'] = confirmed_melt['Fecha'].dt.strftime('%m/%d/%Y')\n",
    "confirmed_melt['size'] = confirmed_melt['Confirmados'].pow(0.3)\n",
    "\n",
    "max_Fecha = confirmed_melt['Fecha'].max()\n",
    "conf_max = confirmed_melt[confirmed_melt['Fecha']== max_Fecha]\n",
    "conf_max.dropna(inplace=True) #eliminar filas con valores faltantes\n",
    "\n",
    "fig = px.scatter_geo(conf_max, locations=\"Country/Region\", locationmode='country names', \n",
    "                     color=\"Confirmados\", size='size', hover_name=\"Country/Region\", \n",
    "                     range_color= [0, max(confirmed_melt['Confirmados'])+2], \n",
    "                     projection=\"natural earth\", \n",
    "                     title='Mapa de Confirmados COVID 19 por Pais')\n",
    "fig.update(layout_coloraxis_showscale=False)\n",
    "#py.plot(fig, filename = 'mapa_confirmados_pais', auto_open=True)\n",
    "fig.show()"
   ]
  },
  {
   "cell_type": "markdown",
   "metadata": {},
   "source": [
    "## Confirmados vs Muertos por pais"
   ]
  },
  {
   "cell_type": "code",
   "execution_count": null,
   "metadata": {},
   "outputs": [],
   "source": [
    "death_melt['Fecha'] = pd.to_datetime(death_melt['Fecha'])\n",
    "death_melt['Fecha'] = death_melt['Fecha'].dt.strftime('%m/%d/%Y')\n",
    "\n",
    "max_Fecha = death_melt['Fecha'].max()\n",
    "death_max = death_melt[death_melt['Fecha']== max_Fecha].copy()\n",
    "death_max.dropna(inplace=True) #eliminar filas con valores faltantes\n",
    "\n",
    "fig = px.scatter(full_melt_max.sort_values('Muertos', ascending=False).iloc[:10, :], \n",
    "                 x='Confirmados', y='Muertos', color='Country/Region', size='Confirmados', height=500,\n",
    "                 text='Country/Region', log_x=True, log_y=True, title= f'Muertos vs Confirmados - {max_Fecha} - (10 Paises)')\n",
    "fig.update_traces(textposition='top center')\n",
    "fig.layout.update(showlegend = False)\n",
    "#py.plot(fig, filename = 'scatter_muertos_confirmados', auto_open=False)\n",
    "fig.show()"
   ]
  },
  {
   "cell_type": "markdown",
   "metadata": {
    "colab_type": "text",
    "id": "3b83uuD9G0yg"
   },
   "source": [
    "## Progresion Mundial en el Tiempo del numero de casos\n"
   ]
  },
  {
   "cell_type": "code",
   "execution_count": null,
   "metadata": {
    "colab": {
     "base_uri": "https://localhost:8080/",
     "height": 542
    },
    "colab_type": "code",
    "id": "OUcnRkN9lqLk",
    "outputId": "685c61e1-6888-4ff2-cdbf-18428aef1cc5"
   },
   "outputs": [],
   "source": [
    "world_melt = world.melt(id_vars='Fecha', value_vars= list(world.columns)[1:], var_name=None)\n",
    "\n",
    "fig = px.line(world_melt, x=\"Fecha\", y= 'value',\n",
    "              color='variable',\n",
    "              title=f'Total de Casos en el tiempo de COVID 19 - {world.iloc[-1,0]}')\n",
    "for n in list(world.columns)[1:]:\n",
    "  fig.add_annotation(x=world.iloc[-1,0], y=world.loc[world.index[-1],n],\n",
    "                     text=n,\n",
    "                     showarrow=True, ax=-50, ay=-20)\n",
    "fig.layout.update(showlegend = False,\n",
    "                  yaxis =  {\"title\": {\"text\": \"Numero de Personas\"}}, # Cambiar texto eje y\n",
    "                  )\n",
    "# grabar grafica en chart-studio\n",
    "#py.plot(fig, filename = 'total_casos_serie', auto_open=True)\n",
    "fig.show()"
   ]
  },
  {
   "cell_type": "markdown",
   "metadata": {
    "colab_type": "text",
    "id": "o-ong5NYHCsT"
   },
   "source": [
    "## Total Casos Confirmados de COVID 19 por Pais\n"
   ]
  },
  {
   "cell_type": "code",
   "execution_count": null,
   "metadata": {
    "colab": {
     "base_uri": "https://localhost:8080/",
     "height": 542
    },
    "colab_type": "code",
    "id": "iSsXyRwJN8_X",
    "outputId": "1ad47155-2a79-49a6-d850-766752b129b9"
   },
   "outputs": [],
   "source": [
    "df1 = confirmed_group\n",
    "# Cambiar el nombre de la columna\n",
    "df1.rename(columns = {'date':'Fecha'}, inplace = True) \n",
    "df_melt = df1.melt(id_vars='Fecha', value_vars= list(df1.columns)[1:], var_name=None)\n",
    "fig = px.line(df_melt, x='Fecha' , y='value', color='Country/Region',\n",
    "              color_discrete_sequence=px.colors.qualitative.G10,\n",
    "              title=f'Total Casos Confirmados de COVID 19 por Pais - {world.iloc[-1,0]}')\n",
    "# 8 paises mas infectados\n",
    "fecha = df1['Fecha'].iloc[-1] #obtener la fecha del ultimo dato\n",
    "paises = df1.iloc[-1,1:] #obtener la serie sin el primer dato, fecha\n",
    "paises.sort_values(ascending=False, inplace=True)\n",
    "mas_infectados=[]\n",
    "for n in range(8):\n",
    "  fig.add_annotation(x=fecha, y=paises[n], text=paises.index[n],\n",
    "                     showarrow=True, ax=+30, ay=0)\n",
    "  mas_infectados.append(paises.index[n])\n",
    "fig.layout.update(showlegend=False,\n",
    "                  yaxis =  {\"title\": {\"text\": \"Numero de Personas\"}}, # Cambiar texto eje y\n",
    "                  )\n",
    "# grabar grafica en chart-studio\n",
    "#py.plot(fig, filename = 'total_casos_no_china', auto_open=True)\n",
    "fig.show()"
   ]
  },
  {
   "cell_type": "markdown",
   "metadata": {
    "colab_type": "text",
    "id": "q2wii5D2IbAR"
   },
   "source": [
    "## Total Casos Confirmados de COVID 19 por Pais (Excluyendo los 8 mas infectados)"
   ]
  },
  {
   "cell_type": "code",
   "execution_count": null,
   "metadata": {
    "colab": {
     "base_uri": "https://localhost:8080/",
     "height": 542
    },
    "colab_type": "code",
    "id": "MmP8VOi9YVNK",
    "outputId": "e2f679c8-9cc4-4a57-8d66-2c4bb4373d29"
   },
   "outputs": [],
   "source": [
    "df2 = confirmed_group.drop(columns=mas_infectados)\n",
    "# Cambiar el nombre de la columna\n",
    "df2.rename(columns = {'date':'Fecha'}, inplace = True) \n",
    "\n",
    "df_melt2 = df2.melt(id_vars='Fecha', value_vars= list(df2.columns)[1:], var_name=None)\n",
    "fig = px.line(df_melt2, x='Fecha' , y='value', color='Country/Region',\n",
    "              color_discrete_sequence=px.colors.qualitative.G10,\n",
    "              title=f'Total Casos Confirmados de COVID 19 por Pais (Excluyendo los 8 mas infectados) - {world.iloc[-1,0]}')\n",
    "\n",
    "fecha = df2['Fecha'].iloc[-1] #obtener la fecha del ultimo dato\n",
    "paises = df2.iloc[-1,1:] #obtener la serie sin el primer dato, fecha\n",
    "paises.sort_values(ascending=False, inplace=True)\n",
    "for n in range(8):\n",
    "  fig.add_annotation(x=fecha, y=paises[n], text=paises.index[n],\n",
    "                     showarrow=True, ax=+30, ay=0)\n",
    "fig.layout.update(showlegend=False,\n",
    "                  yaxis =  {\"title\": {\"text\": \"Numero de Personas\"}}, # Cambiar texto eje y\n",
    "                  )\n",
    "#py.plot(fig, filename = 'total_casos_no_8_infectados', auto_open=True)\n",
    "fig.show()"
   ]
  },
  {
   "cell_type": "markdown",
   "metadata": {
    "colab_type": "text",
    "id": "gPDj3HYfKBIJ"
   },
   "source": [
    "# Animacion del Mapa de Evolucion Temporal del Codiv 19"
   ]
  },
  {
   "cell_type": "code",
   "execution_count": null,
   "metadata": {
    "colab": {
     "base_uri": "https://localhost:8080/",
     "height": 542
    },
    "colab_type": "code",
    "id": "AQxF9NDpKHtS",
    "outputId": "8e257d9b-2ae3-4b3f-9368-a8efd4112ac3"
   },
   "outputs": [],
   "source": [
    "confirmed_melt['Fecha'] = pd.to_datetime(confirmed_melt['Fecha'])\n",
    "confirmed_melt['Fecha'] = confirmed_melt['Fecha'].dt.strftime('%m/%d/%Y')\n",
    "confirmed_melt['size'] = confirmed_melt['Confirmados'].pow(0.3)\n",
    "confirmed_melt.dropna(inplace=True) #eliminar filas con valores faltantes\n",
    "\n",
    "fig = px.scatter_geo(confirmed_melt, locations=\"Country/Region\", locationmode='country names', \n",
    "                     color=\"Confirmados\", size='size', hover_name=\"Country/Region\", \n",
    "                     range_color= [0, max(confirmed_melt['Confirmados'])+2], \n",
    "                     projection=\"natural earth\", animation_frame=\"Fecha\", \n",
    "                     title='Contagiados COVID 19 en el Tiempo')\n",
    "fig.update(layout_coloraxis_showscale=False)\n",
    "#py.plot(fig, filename = 'mapa_evolucion_temporal', auto_open=True)\n",
    "fig.show()"
   ]
  },
  {
   "cell_type": "markdown",
   "metadata": {
    "colab_type": "text",
    "id": "CU-c2Nw6jH2v"
   },
   "source": [
    "## Numero de Casos COVID 19 en Colombia"
   ]
  },
  {
   "cell_type": "code",
   "execution_count": null,
   "metadata": {
    "colab": {
     "base_uri": "https://localhost:8080/",
     "height": 542
    },
    "colab_type": "code",
    "id": "NJL6KgRTjG6g",
    "outputId": "b4ad2c2f-ed65-4e9a-d06a-498edb093fff"
   },
   "outputs": [],
   "source": [
    "\n",
    "column_names = [\"Fecha\", \"Confirmados\", \"Muertos\"]\n",
    "colombia = pd.DataFrame(columns = column_names)\n",
    "colombia['Fecha'] = confirmed_group['Fecha']\n",
    "colombia['Confirmados'] = confirmed_group['Colombia']\n",
    "\n",
    "colombia['Muertos'] = death_group['Colombia']\n",
    "df_melt3 = colombia.melt(id_vars='Fecha', value_vars= list(colombia.columns)[1:], var_name=None)\n",
    "fig = px.line(df_melt3, x='Fecha' , y='value', color='variable',\n",
    "              color_discrete_sequence=px.colors.qualitative.G10,\n",
    "              title=f'Corona virus (COVID 19) en Colombia - {colombia.iloc[-1,0]}')\n",
    "fig.add_indicator( title='Confirmados', value = colombia['Confirmados'].iloc[-1],\n",
    "                  mode = \"number+delta\", delta = {\"reference\": colombia['Confirmados'\n",
    "                  ].iloc[-2], 'relative': True },domain = {'x': [0, 0.5], 'y': [0.25, .75]})\n",
    "\n",
    "fig.add_indicator(title='Muertos', value = colombia['Muertos'].iloc[-1],\n",
    "                  mode = \"number+delta\", delta = {\"reference\": colombia['Muertos'\n",
    "                  ].iloc[-2], 'relative': True },domain = {'x': [0.5, 0.75], 'y': [0.25, .75]})\n",
    "fig.layout.update(showlegend=False,\n",
    "                  yaxis =  {\"title\": {\"text\": \"Numero de Personas\"}}, # Cambiar texto eje y\n",
    "                  xaxis =  {\"title\": {\"text\": \"Fecha\"}})\n",
    "py.plot(fig, filename = 'Colombia_general', auto_open=True)\n",
    "fig.show()"
   ]
  },
  {
   "cell_type": "markdown",
   "metadata": {},
   "source": [
    "# Codigo Fuente Jupyter notebook\n",
    "## Ejecutar en Google Colaboratory\n",
    "[![Open In Colab](https://colab.research.google.com/assets/colab-badge.svg)](https://colab.research.google.com/github/JoseRZapata/JoseRZapata.github.io/blob/master/Jupyter_Notebook/Covid19_Visualizacion_es.ipynb)\n",
    "\n",
    "## Ejecutar en MyBinder\n",
    "[![Binder](https://mybinder.org/badge_logo.svg)](https://mybinder.org/v2/gh/JoseRZapata/JoseRZapata.github.io/master?filepath=Jupyter_Notebook/Covid19_Visualizacion_es.ipynb)\n",
    "\n",
    "## Leer en nbviewer\n",
    "[![nbviewer](https://img.shields.io/badge/render-nbviewer-orange.svg)](https://nbviewer.jupyter.org/github/JoseRZapata/JoseRZapata.github.io/blob/master/Jupyter_Notebook/Covid19_Visualizacion_es.ipynb)"
   ]
  },
  {
   "cell_type": "markdown",
   "metadata": {},
   "source": [
    "# Refencias\n",
    "Fuentes de datos, visualizaciones y analisis de datos.\n",
    "\n",
    "- https://github.com/CSSEGISandData/COVID-19\n",
    "- https://www.kaggle.com/imdevskp/covid-19-analysis-viz-prediction-comparisons\n",
    "- https://junye0798.com/post/build-a-dashboard-to-track-the-spread-of-coronavirus-using-dash/\n",
    "- https://github.com/Perishleaf/data-visualisation-scripts/tree/master/dash-2019-coronavirus\n",
    "- https://medium.com/tomas-pueyo/coronavirus-por-qu%C3%A9-debemos-actuar-ya-93079c61e200"
   ]
  }
 ],
 "metadata": {
  "colab": {
   "collapsed_sections": [],
   "name": "Covid19_Visualizacion.ipynb",
   "provenance": []
  },
  "kernelspec": {
   "display_name": "Python 3",
   "language": "python",
   "name": "python3"
  },
  "language_info": {
   "codemirror_mode": {
    "name": "ipython",
    "version": 3
   },
   "file_extension": ".py",
   "mimetype": "text/x-python",
   "name": "python",
   "nbconvert_exporter": "python",
   "pygments_lexer": "ipython3",
   "version": "3.7.3"
  }
 },
 "nbformat": 4,
 "nbformat_minor": 4
}